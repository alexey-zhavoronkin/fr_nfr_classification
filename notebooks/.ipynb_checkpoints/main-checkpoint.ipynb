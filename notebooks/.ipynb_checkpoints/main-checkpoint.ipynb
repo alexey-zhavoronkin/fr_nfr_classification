{
 "cells": [
  {
   "cell_type": "code",
   "execution_count": 308,
   "id": "OekT19YS9W74",
   "metadata": {
    "colab": {
     "base_uri": "https://localhost:8080/"
    },
    "id": "OekT19YS9W74",
    "outputId": "f40606c6-7ecc-4ec5-a24c-b26f78a9ad18"
   },
   "outputs": [
    {
     "name": "stdout",
     "output_type": "stream",
     "text": [
      "Drive already mounted at /content/drive; to attempt to forcibly remount, call drive.mount(\"/content/drive\", force_remount=True).\n"
     ]
    }
   ],
   "source": [
    "from google.colab import drive\n",
    "drive.mount('/content/drive')"
   ]
  },
  {
   "cell_type": "code",
   "execution_count": 309,
   "id": "eYs1F56q9fAe",
   "metadata": {
    "colab": {
     "base_uri": "https://localhost:8080/"
    },
    "id": "eYs1F56q9fAe",
    "outputId": "b38f52b6-9649-4ebf-ec18-0ee0ce942613"
   },
   "outputs": [
    {
     "name": "stdout",
     "output_type": "stream",
     "text": [
      "Looking in indexes: https://pypi.org/simple, https://us-python.pkg.dev/colab-wheels/public/simple/\n",
      "Requirement already satisfied: transformers==4.28.0 in /usr/local/lib/python3.10/dist-packages (4.28.0)\n",
      "Requirement already satisfied: datasets in /usr/local/lib/python3.10/dist-packages (2.12.0)\n",
      "Requirement already satisfied: evaluate in /usr/local/lib/python3.10/dist-packages (0.4.0)\n",
      "Requirement already satisfied: catboost in /usr/local/lib/python3.10/dist-packages (1.2)\n",
      "Requirement already satisfied: filelock in /usr/local/lib/python3.10/dist-packages (from transformers==4.28.0) (3.12.0)\n",
      "Requirement already satisfied: huggingface-hub<1.0,>=0.11.0 in /usr/local/lib/python3.10/dist-packages (from transformers==4.28.0) (0.14.1)\n",
      "Requirement already satisfied: numpy>=1.17 in /usr/local/lib/python3.10/dist-packages (from transformers==4.28.0) (1.22.4)\n",
      "Requirement already satisfied: packaging>=20.0 in /usr/local/lib/python3.10/dist-packages (from transformers==4.28.0) (23.1)\n",
      "Requirement already satisfied: pyyaml>=5.1 in /usr/local/lib/python3.10/dist-packages (from transformers==4.28.0) (6.0)\n",
      "Requirement already satisfied: regex!=2019.12.17 in /usr/local/lib/python3.10/dist-packages (from transformers==4.28.0) (2022.10.31)\n",
      "Requirement already satisfied: requests in /usr/local/lib/python3.10/dist-packages (from transformers==4.28.0) (2.27.1)\n",
      "Requirement already satisfied: tokenizers!=0.11.3,<0.14,>=0.11.1 in /usr/local/lib/python3.10/dist-packages (from transformers==4.28.0) (0.13.3)\n",
      "Requirement already satisfied: tqdm>=4.27 in /usr/local/lib/python3.10/dist-packages (from transformers==4.28.0) (4.65.0)\n",
      "Requirement already satisfied: pyarrow>=8.0.0 in /usr/local/lib/python3.10/dist-packages (from datasets) (9.0.0)\n",
      "Requirement already satisfied: dill<0.3.7,>=0.3.0 in /usr/local/lib/python3.10/dist-packages (from datasets) (0.3.6)\n",
      "Requirement already satisfied: pandas in /usr/local/lib/python3.10/dist-packages (from datasets) (1.5.3)\n",
      "Requirement already satisfied: xxhash in /usr/local/lib/python3.10/dist-packages (from datasets) (3.2.0)\n",
      "Requirement already satisfied: multiprocess in /usr/local/lib/python3.10/dist-packages (from datasets) (0.70.14)\n",
      "Requirement already satisfied: fsspec[http]>=2021.11.1 in /usr/local/lib/python3.10/dist-packages (from datasets) (2023.4.0)\n",
      "Requirement already satisfied: aiohttp in /usr/local/lib/python3.10/dist-packages (from datasets) (3.8.4)\n",
      "Requirement already satisfied: responses<0.19 in /usr/local/lib/python3.10/dist-packages (from datasets) (0.18.0)\n",
      "Requirement already satisfied: graphviz in /usr/local/lib/python3.10/dist-packages (from catboost) (0.20.1)\n",
      "Requirement already satisfied: matplotlib in /usr/local/lib/python3.10/dist-packages (from catboost) (3.7.1)\n",
      "Requirement already satisfied: scipy in /usr/local/lib/python3.10/dist-packages (from catboost) (1.10.1)\n",
      "Requirement already satisfied: plotly in /usr/local/lib/python3.10/dist-packages (from catboost) (5.13.1)\n",
      "Requirement already satisfied: six in /usr/local/lib/python3.10/dist-packages (from catboost) (1.16.0)\n",
      "Requirement already satisfied: attrs>=17.3.0 in /usr/local/lib/python3.10/dist-packages (from aiohttp->datasets) (23.1.0)\n",
      "Requirement already satisfied: charset-normalizer<4.0,>=2.0 in /usr/local/lib/python3.10/dist-packages (from aiohttp->datasets) (2.0.12)\n",
      "Requirement already satisfied: multidict<7.0,>=4.5 in /usr/local/lib/python3.10/dist-packages (from aiohttp->datasets) (6.0.4)\n",
      "Requirement already satisfied: async-timeout<5.0,>=4.0.0a3 in /usr/local/lib/python3.10/dist-packages (from aiohttp->datasets) (4.0.2)\n",
      "Requirement already satisfied: yarl<2.0,>=1.0 in /usr/local/lib/python3.10/dist-packages (from aiohttp->datasets) (1.9.2)\n",
      "Requirement already satisfied: frozenlist>=1.1.1 in /usr/local/lib/python3.10/dist-packages (from aiohttp->datasets) (1.3.3)\n",
      "Requirement already satisfied: aiosignal>=1.1.2 in /usr/local/lib/python3.10/dist-packages (from aiohttp->datasets) (1.3.1)\n",
      "Requirement already satisfied: typing-extensions>=3.7.4.3 in /usr/local/lib/python3.10/dist-packages (from huggingface-hub<1.0,>=0.11.0->transformers==4.28.0) (4.5.0)\n",
      "Requirement already satisfied: python-dateutil>=2.8.1 in /usr/local/lib/python3.10/dist-packages (from pandas->datasets) (2.8.2)\n",
      "Requirement already satisfied: pytz>=2020.1 in /usr/local/lib/python3.10/dist-packages (from pandas->datasets) (2022.7.1)\n",
      "Requirement already satisfied: urllib3<1.27,>=1.21.1 in /usr/local/lib/python3.10/dist-packages (from requests->transformers==4.28.0) (1.26.15)\n",
      "Requirement already satisfied: certifi>=2017.4.17 in /usr/local/lib/python3.10/dist-packages (from requests->transformers==4.28.0) (2022.12.7)\n",
      "Requirement already satisfied: idna<4,>=2.5 in /usr/local/lib/python3.10/dist-packages (from requests->transformers==4.28.0) (3.4)\n",
      "Requirement already satisfied: contourpy>=1.0.1 in /usr/local/lib/python3.10/dist-packages (from matplotlib->catboost) (1.0.7)\n",
      "Requirement already satisfied: cycler>=0.10 in /usr/local/lib/python3.10/dist-packages (from matplotlib->catboost) (0.11.0)\n",
      "Requirement already satisfied: fonttools>=4.22.0 in /usr/local/lib/python3.10/dist-packages (from matplotlib->catboost) (4.39.3)\n",
      "Requirement already satisfied: kiwisolver>=1.0.1 in /usr/local/lib/python3.10/dist-packages (from matplotlib->catboost) (1.4.4)\n",
      "Requirement already satisfied: pillow>=6.2.0 in /usr/local/lib/python3.10/dist-packages (from matplotlib->catboost) (8.4.0)\n",
      "Requirement already satisfied: pyparsing>=2.3.1 in /usr/local/lib/python3.10/dist-packages (from matplotlib->catboost) (3.0.9)\n",
      "Requirement already satisfied: tenacity>=6.2.0 in /usr/local/lib/python3.10/dist-packages (from plotly->catboost) (8.2.2)\n"
     ]
    }
   ],
   "source": [
    "! pip install transformers==4.28.0 datasets evaluate catboost"
   ]
  },
  {
   "cell_type": "code",
   "execution_count": 310,
   "id": "qSwPf5TaHL3F",
   "metadata": {
    "colab": {
     "base_uri": "https://localhost:8080/"
    },
    "id": "qSwPf5TaHL3F",
    "outputId": "c2609b55-1e31-484f-d06f-e7ddc09e8b8e"
   },
   "outputs": [
    {
     "name": "stdout",
     "output_type": "stream",
     "text": [
      "Looking in indexes: https://pypi.org/simple, https://us-python.pkg.dev/colab-wheels/public/simple/\n",
      "Requirement already satisfied: accelerate in /usr/local/lib/python3.10/dist-packages (0.19.0)\n",
      "Requirement already satisfied: numpy>=1.17 in /usr/local/lib/python3.10/dist-packages (from accelerate) (1.22.4)\n",
      "Requirement already satisfied: packaging>=20.0 in /usr/local/lib/python3.10/dist-packages (from accelerate) (23.1)\n",
      "Requirement already satisfied: psutil in /usr/local/lib/python3.10/dist-packages (from accelerate) (5.9.5)\n",
      "Requirement already satisfied: pyyaml in /usr/local/lib/python3.10/dist-packages (from accelerate) (6.0)\n",
      "Requirement already satisfied: torch>=1.6.0 in /usr/local/lib/python3.10/dist-packages (from accelerate) (2.0.1+cu118)\n",
      "Requirement already satisfied: filelock in /usr/local/lib/python3.10/dist-packages (from torch>=1.6.0->accelerate) (3.12.0)\n",
      "Requirement already satisfied: typing-extensions in /usr/local/lib/python3.10/dist-packages (from torch>=1.6.0->accelerate) (4.5.0)\n",
      "Requirement already satisfied: sympy in /usr/local/lib/python3.10/dist-packages (from torch>=1.6.0->accelerate) (1.11.1)\n",
      "Requirement already satisfied: networkx in /usr/local/lib/python3.10/dist-packages (from torch>=1.6.0->accelerate) (3.1)\n",
      "Requirement already satisfied: jinja2 in /usr/local/lib/python3.10/dist-packages (from torch>=1.6.0->accelerate) (3.1.2)\n",
      "Requirement already satisfied: triton==2.0.0 in /usr/local/lib/python3.10/dist-packages (from torch>=1.6.0->accelerate) (2.0.0)\n",
      "Requirement already satisfied: cmake in /usr/local/lib/python3.10/dist-packages (from triton==2.0.0->torch>=1.6.0->accelerate) (3.25.2)\n",
      "Requirement already satisfied: lit in /usr/local/lib/python3.10/dist-packages (from triton==2.0.0->torch>=1.6.0->accelerate) (16.0.5)\n",
      "Requirement already satisfied: MarkupSafe>=2.0 in /usr/local/lib/python3.10/dist-packages (from jinja2->torch>=1.6.0->accelerate) (2.1.2)\n",
      "Requirement already satisfied: mpmath>=0.19 in /usr/local/lib/python3.10/dist-packages (from sympy->torch>=1.6.0->accelerate) (1.3.0)\n"
     ]
    }
   ],
   "source": [
    "! pip install --upgrade accelerate"
   ]
  },
  {
   "cell_type": "code",
   "execution_count": 311,
   "id": "0EkNwKnr9-n5",
   "metadata": {
    "id": "0EkNwKnr9-n5"
   },
   "outputs": [],
   "source": [
    "from pathlib import Path \n",
    "BASE_PATH = Path('/content/drive/MyDrive/NLP2023/HW/Project/')\n",
    "PATH_TO_DATA = BASE_PATH/'data'\n",
    "PATH_TO_MODELS = BASE_PATH/'models'"
   ]
  },
  {
   "cell_type": "code",
   "execution_count": 312,
   "id": "67bf12e6",
   "metadata": {
    "ExecuteTime": {
     "end_time": "2023-05-09T17:27:49.484867Z",
     "start_time": "2023-05-09T17:27:49.475557Z"
    },
    "id": "67bf12e6"
   },
   "outputs": [],
   "source": [
    "import sys\n",
    "import os\n",
    "import gc\n",
    "import importlib\n",
    "\n",
    "import numpy as np\n",
    "import pandas as pd\n",
    "from scipy.special import softmax\n",
    "\n",
    "import matplotlib.pyplot as plt\n",
    "import seaborn as sns\n",
    "\n",
    "from sklearn.metrics import accuracy_score, roc_auc_score, classification_report, confusion_matrix, PrecisionRecallDisplay\n",
    "from sklearn.metrics import precision_recall_curve, recall_score\n",
    "\n",
    "from sklearn.feature_extraction.text import TfidfVectorizer\n",
    "from sklearn.pipeline import make_pipeline\n",
    "from sklearn.decomposition import SparsePCA, PCA, TruncatedSVD\n",
    "from sklearn.svm import SVC\n",
    "from lightgbm import LGBMClassifier\n",
    "from catboost import CatBoostClassifier\n",
    "\n",
    "import torch\n",
    "from torch.utils.data import DataLoader\n",
    "import datasets\n",
    "import evaluate\n",
    "from datasets import Dataset\n",
    "from transformers import AutoTokenizer, AutoModelForSequenceClassification, TrainingArguments, Trainer\n",
    "from transformers import pipeline"
   ]
  },
  {
   "cell_type": "code",
   "execution_count": 313,
   "id": "d2df8449",
   "metadata": {
    "ExecuteTime": {
     "end_time": "2023-05-09T17:06:23.494937Z",
     "start_time": "2023-05-09T17:06:23.490755Z"
    },
    "id": "d2df8449"
   },
   "outputs": [],
   "source": [
    "TEST_SIZE = 0.2\n",
    "VAL_SIZE = 0.2\n",
    "TRAIN_SIZE = 1 - (TEST_SIZE + VAL_SIZE)\n",
    "RANDOM_STATE = 9\n",
    "PRECISION = 0.9"
   ]
  },
  {
   "cell_type": "code",
   "execution_count": 314,
   "id": "2ed00943",
   "metadata": {
    "ExecuteTime": {
     "end_time": "2023-05-09T16:21:02.557887Z",
     "start_time": "2023-05-09T16:21:02.474323Z"
    },
    "id": "2ed00943"
   },
   "outputs": [],
   "source": [
    "SAMPLE = 'sample'\n",
    "TARGET = 'bin_type'\n",
    "PRED = 'pred'\n",
    "TRAIN = 'train'\n",
    "VALID = 'valid'\n",
    "TEST = 'test'"
   ]
  },
  {
   "cell_type": "code",
   "execution_count": 328,
   "id": "Y3VpLWCi8LR6",
   "metadata": {
    "id": "Y3VpLWCi8LR6"
   },
   "outputs": [],
   "source": [
    "def get_target_metric():\n",
    "    precision, recall, threshold = precision_recall_curve(\n",
    "        df[mask_valid][TARGET].values, \n",
    "        df[mask_valid][PRED].values\n",
    "    )\n",
    "    precision = precision[:-1]\n",
    "    recall = recall[1:]\n",
    "    threshold = threshold[precision > PRECISION][np.argmax(recall[precision > PRECISION])]\n",
    "    print(classification_report(\n",
    "        df[mask_test][TARGET].values, \n",
    "        df[mask_test][PRED].values > threshold\n",
    "    ))\n",
    "    print(f'{threshold=:.3f}')\n",
    "    return recall_score(df[mask_test][TARGET].values, df[mask_test][PRED].values > threshold)"
   ]
  },
  {
   "cell_type": "markdown",
   "id": "aeea9091",
   "metadata": {
    "id": "aeea9091"
   },
   "source": [
    "# Dataset"
   ]
  },
  {
   "cell_type": "code",
   "execution_count": 315,
   "id": "2d6579db",
   "metadata": {
    "ExecuteTime": {
     "end_time": "2023-05-09T16:21:03.073152Z",
     "start_time": "2023-05-09T16:21:02.564876Z"
    },
    "id": "2d6579db"
   },
   "outputs": [],
   "source": [
    "df = pd.read_csv(PATH_TO_DATA/'PROMISE_exp.csv', header=None, names=['id_project', 'req', 'type'])\n",
    "df['req'] = df['req'].str[1:-1].str.replace('\\t', ' ')\n",
    "df['bin_type'] = np.where(df['type'] == 'F', 'FR', 'NFR')"
   ]
  },
  {
   "cell_type": "code",
   "execution_count": 316,
   "id": "759cd2f9",
   "metadata": {
    "ExecuteTime": {
     "end_time": "2023-05-09T16:21:03.253917Z",
     "start_time": "2023-05-09T16:21:03.076148Z"
    },
    "colab": {
     "base_uri": "https://localhost:8080/",
     "height": 380
    },
    "id": "759cd2f9",
    "outputId": "61e7e684-c107-431a-9db0-7ded3e313c16"
   },
   "outputs": [
    {
     "name": "stdout",
     "output_type": "stream",
     "text": [
      "969\n"
     ]
    },
    {
     "data": {
      "text/html": [
       "\n",
       "  <div id=\"df-c6a8381e-eba2-4139-8bea-4cf664d7b9c9\">\n",
       "    <div class=\"colab-df-container\">\n",
       "      <div>\n",
       "<style scoped>\n",
       "    .dataframe tbody tr th:only-of-type {\n",
       "        vertical-align: middle;\n",
       "    }\n",
       "\n",
       "    .dataframe tbody tr th {\n",
       "        vertical-align: top;\n",
       "    }\n",
       "\n",
       "    .dataframe thead th {\n",
       "        text-align: right;\n",
       "    }\n",
       "</style>\n",
       "<table border=\"1\" class=\"dataframe\">\n",
       "  <thead>\n",
       "    <tr style=\"text-align: right;\">\n",
       "      <th></th>\n",
       "      <th>id_project</th>\n",
       "      <th>req</th>\n",
       "      <th>type</th>\n",
       "      <th>bin_type</th>\n",
       "    </tr>\n",
       "  </thead>\n",
       "  <tbody>\n",
       "    <tr>\n",
       "      <th>0</th>\n",
       "      <td>1</td>\n",
       "      <td>The system shall refresh the display every 60 ...</td>\n",
       "      <td>PE</td>\n",
       "      <td>NFR</td>\n",
       "    </tr>\n",
       "    <tr>\n",
       "      <th>1</th>\n",
       "      <td>1</td>\n",
       "      <td>The application shall match the color of the s...</td>\n",
       "      <td>LF</td>\n",
       "      <td>NFR</td>\n",
       "    </tr>\n",
       "    <tr>\n",
       "      <th>2</th>\n",
       "      <td>1</td>\n",
       "      <td>If projected  the data must be readable.  On a...</td>\n",
       "      <td>US</td>\n",
       "      <td>NFR</td>\n",
       "    </tr>\n",
       "    <tr>\n",
       "      <th>3</th>\n",
       "      <td>1</td>\n",
       "      <td>The product shall be available during normal b...</td>\n",
       "      <td>A</td>\n",
       "      <td>NFR</td>\n",
       "    </tr>\n",
       "    <tr>\n",
       "      <th>4</th>\n",
       "      <td>1</td>\n",
       "      <td>If projected  the data must be understandable....</td>\n",
       "      <td>US</td>\n",
       "      <td>NFR</td>\n",
       "    </tr>\n",
       "    <tr>\n",
       "      <th>5</th>\n",
       "      <td>1</td>\n",
       "      <td>The product shall ensure that it can only be a...</td>\n",
       "      <td>SE</td>\n",
       "      <td>NFR</td>\n",
       "    </tr>\n",
       "    <tr>\n",
       "      <th>6</th>\n",
       "      <td>1</td>\n",
       "      <td>The product shall be intuitive and self-explan...</td>\n",
       "      <td>US</td>\n",
       "      <td>NFR</td>\n",
       "    </tr>\n",
       "    <tr>\n",
       "      <th>7</th>\n",
       "      <td>1</td>\n",
       "      <td>The product shall respond fast to keep up-to-d...</td>\n",
       "      <td>PE</td>\n",
       "      <td>NFR</td>\n",
       "    </tr>\n",
       "    <tr>\n",
       "      <th>8</th>\n",
       "      <td>1</td>\n",
       "      <td>The system shall have a MDI form that allows f...</td>\n",
       "      <td>F</td>\n",
       "      <td>FR</td>\n",
       "    </tr>\n",
       "    <tr>\n",
       "      <th>9</th>\n",
       "      <td>1</td>\n",
       "      <td>The system shall display Events in a vertical ...</td>\n",
       "      <td>F</td>\n",
       "      <td>FR</td>\n",
       "    </tr>\n",
       "  </tbody>\n",
       "</table>\n",
       "</div>\n",
       "      <button class=\"colab-df-convert\" onclick=\"convertToInteractive('df-c6a8381e-eba2-4139-8bea-4cf664d7b9c9')\"\n",
       "              title=\"Convert this dataframe to an interactive table.\"\n",
       "              style=\"display:none;\">\n",
       "        \n",
       "  <svg xmlns=\"http://www.w3.org/2000/svg\" height=\"24px\"viewBox=\"0 0 24 24\"\n",
       "       width=\"24px\">\n",
       "    <path d=\"M0 0h24v24H0V0z\" fill=\"none\"/>\n",
       "    <path d=\"M18.56 5.44l.94 2.06.94-2.06 2.06-.94-2.06-.94-.94-2.06-.94 2.06-2.06.94zm-11 1L8.5 8.5l.94-2.06 2.06-.94-2.06-.94L8.5 2.5l-.94 2.06-2.06.94zm10 10l.94 2.06.94-2.06 2.06-.94-2.06-.94-.94-2.06-.94 2.06-2.06.94z\"/><path d=\"M17.41 7.96l-1.37-1.37c-.4-.4-.92-.59-1.43-.59-.52 0-1.04.2-1.43.59L10.3 9.45l-7.72 7.72c-.78.78-.78 2.05 0 2.83L4 21.41c.39.39.9.59 1.41.59.51 0 1.02-.2 1.41-.59l7.78-7.78 2.81-2.81c.8-.78.8-2.07 0-2.86zM5.41 20L4 18.59l7.72-7.72 1.47 1.35L5.41 20z\"/>\n",
       "  </svg>\n",
       "      </button>\n",
       "      \n",
       "  <style>\n",
       "    .colab-df-container {\n",
       "      display:flex;\n",
       "      flex-wrap:wrap;\n",
       "      gap: 12px;\n",
       "    }\n",
       "\n",
       "    .colab-df-convert {\n",
       "      background-color: #E8F0FE;\n",
       "      border: none;\n",
       "      border-radius: 50%;\n",
       "      cursor: pointer;\n",
       "      display: none;\n",
       "      fill: #1967D2;\n",
       "      height: 32px;\n",
       "      padding: 0 0 0 0;\n",
       "      width: 32px;\n",
       "    }\n",
       "\n",
       "    .colab-df-convert:hover {\n",
       "      background-color: #E2EBFA;\n",
       "      box-shadow: 0px 1px 2px rgba(60, 64, 67, 0.3), 0px 1px 3px 1px rgba(60, 64, 67, 0.15);\n",
       "      fill: #174EA6;\n",
       "    }\n",
       "\n",
       "    [theme=dark] .colab-df-convert {\n",
       "      background-color: #3B4455;\n",
       "      fill: #D2E3FC;\n",
       "    }\n",
       "\n",
       "    [theme=dark] .colab-df-convert:hover {\n",
       "      background-color: #434B5C;\n",
       "      box-shadow: 0px 1px 3px 1px rgba(0, 0, 0, 0.15);\n",
       "      filter: drop-shadow(0px 1px 2px rgba(0, 0, 0, 0.3));\n",
       "      fill: #FFFFFF;\n",
       "    }\n",
       "  </style>\n",
       "\n",
       "      <script>\n",
       "        const buttonEl =\n",
       "          document.querySelector('#df-c6a8381e-eba2-4139-8bea-4cf664d7b9c9 button.colab-df-convert');\n",
       "        buttonEl.style.display =\n",
       "          google.colab.kernel.accessAllowed ? 'block' : 'none';\n",
       "\n",
       "        async function convertToInteractive(key) {\n",
       "          const element = document.querySelector('#df-c6a8381e-eba2-4139-8bea-4cf664d7b9c9');\n",
       "          const dataTable =\n",
       "            await google.colab.kernel.invokeFunction('convertToInteractive',\n",
       "                                                     [key], {});\n",
       "          if (!dataTable) return;\n",
       "\n",
       "          const docLinkHtml = 'Like what you see? Visit the ' +\n",
       "            '<a target=\"_blank\" href=https://colab.research.google.com/notebooks/data_table.ipynb>data table notebook</a>'\n",
       "            + ' to learn more about interactive tables.';\n",
       "          element.innerHTML = '';\n",
       "          dataTable['output_type'] = 'display_data';\n",
       "          await google.colab.output.renderOutput(dataTable, element);\n",
       "          const docLink = document.createElement('div');\n",
       "          docLink.innerHTML = docLinkHtml;\n",
       "          element.appendChild(docLink);\n",
       "        }\n",
       "      </script>\n",
       "    </div>\n",
       "  </div>\n",
       "  "
      ],
      "text/plain": [
       "   id_project                                                req type bin_type\n",
       "0           1  The system shall refresh the display every 60 ...   PE      NFR\n",
       "1           1  The application shall match the color of the s...   LF      NFR\n",
       "2           1  If projected  the data must be readable.  On a...   US      NFR\n",
       "3           1  The product shall be available during normal b...    A      NFR\n",
       "4           1  If projected  the data must be understandable....   US      NFR\n",
       "5           1  The product shall ensure that it can only be a...   SE      NFR\n",
       "6           1  The product shall be intuitive and self-explan...   US      NFR\n",
       "7           1  The product shall respond fast to keep up-to-d...   PE      NFR\n",
       "8           1  The system shall have a MDI form that allows f...    F       FR\n",
       "9           1  The system shall display Events in a vertical ...    F       FR"
      ]
     },
     "execution_count": 316,
     "metadata": {},
     "output_type": "execute_result"
    }
   ],
   "source": [
    "print(len(df))\n",
    "df.head(10)"
   ]
  },
  {
   "cell_type": "code",
   "execution_count": 317,
   "id": "aa4f7e22",
   "metadata": {
    "ExecuteTime": {
     "end_time": "2023-05-09T16:21:04.223564Z",
     "start_time": "2023-05-09T16:21:03.257911Z"
    },
    "colab": {
     "base_uri": "https://localhost:8080/",
     "height": 419
    },
    "id": "aa4f7e22",
    "outputId": "f15ad82f-f522-4195-dd15-f473fdade4a7"
   },
   "outputs": [
    {
     "data": {
      "text/plain": [
       "<Axes: xlabel='type'>"
      ]
     },
     "execution_count": 317,
     "metadata": {},
     "output_type": "execute_result"
    },
    {
     "data": {
      "image/png": "[encoded data removed]",
      "text/plain": [
       "<Figure size 1200x400 with 2 Axes>"
      ]
     },
     "metadata": {},
     "output_type": "display_data"
    }
   ],
   "source": [
    "fig, axs = plt.subplots(1, 2, figsize=(12, 4))\n",
    "\n",
    "df.groupby('bin_type')['req'].count().plot(kind='bar', ax=axs[0])\n",
    "df.groupby('type')['req'].count().plot(kind='bar', ax=axs[1])"
   ]
  },
  {
   "cell_type": "code",
   "execution_count": 318,
   "id": "f346cdd9",
   "metadata": {
    "ExecuteTime": {
     "end_time": "2023-05-09T16:21:04.774038Z",
     "start_time": "2023-05-09T16:21:04.226559Z"
    },
    "colab": {
     "base_uri": "https://localhost:8080/",
     "height": 548
    },
    "id": "f346cdd9",
    "outputId": "83a736f2-b22d-4bf9-9eaa-1106a5f1a916"
   },
   "outputs": [
    {
     "data": {
      "text/plain": [
       "count    47.0\n",
       "mean     21.0\n",
       "std      24.0\n",
       "min       1.0\n",
       "25%       5.0\n",
       "50%      11.0\n",
       "75%      24.0\n",
       "max      92.0\n",
       "Name: req, dtype: float64"
      ]
     },
     "metadata": {},
     "output_type": "display_data"
    },
    {
     "data": {
      "image/png": "[encoded data removed]",
      "text/plain": [
       "<Figure size 1200x400 with 1 Axes>"
      ]
     },
     "metadata": {},
     "output_type": "display_data"
    }
   ],
   "source": [
    "fig, ax = plt.subplots(1, 1, figsize=(12, 4))\n",
    "\n",
    "df.groupby('id_project')['req'].count().plot(kind='bar', ax=ax)\n",
    "\n",
    "display(df.groupby('id_project')['req'].count().describe().round())"
   ]
  },
  {
   "cell_type": "code",
   "execution_count": 319,
   "id": "4fe07a89",
   "metadata": {
    "ExecuteTime": {
     "end_time": "2023-05-09T16:47:24.865886Z",
     "start_time": "2023-05-09T16:47:24.547014Z"
    },
    "colab": {
     "base_uri": "https://localhost:8080/",
     "height": 405
    },
    "id": "4fe07a89",
    "outputId": "cd6f35d6-88fb-498b-d82c-b58dd11723a9"
   },
   "outputs": [
    {
     "data": {
      "text/plain": [
       "<Axes: xlabel='len', ylabel='Density'>"
      ]
     },
     "execution_count": 319,
     "metadata": {},
     "output_type": "execute_result"
    },
    {
     "data": {
      "image/png": "[encoded data removed]",
      "text/plain": [
       "<Figure size 1200x400 with 1 Axes>"
      ]
     },
     "metadata": {},
     "output_type": "display_data"
    }
   ],
   "source": [
    "fig, ax = plt.subplots(1, 1, figsize=(12, 4))\n",
    "\n",
    "df['len'] = df['req'].apply(lambda x: len(x.split()))\n",
    "\n",
    "sns.kdeplot(df.loc[df['bin_type'] == 'FR', 'len'], ax=ax, label='FR')\n",
    "sns.kdeplot(df.loc[df['bin_type'] == 'NFR', 'len'], ax=ax, label='NFR')\n"
   ]
  },
  {
   "cell_type": "markdown",
   "id": "e305bfcf",
   "metadata": {
    "ExecuteTime": {
     "end_time": "2023-04-30T17:39:21.962542Z",
     "start_time": "2023-04-30T17:39:21.958553Z"
    },
    "id": "e305bfcf"
   },
   "source": [
    "## Train Val Test split"
   ]
  },
  {
   "cell_type": "code",
   "execution_count": 320,
   "id": "5a7b082e",
   "metadata": {
    "ExecuteTime": {
     "end_time": "2023-05-09T16:21:04.783473Z",
     "start_time": "2023-05-09T16:21:04.776037Z"
    },
    "id": "5a7b082e"
   },
   "outputs": [],
   "source": [
    "def train_val_test_split(ary, train_size, val_size, test_size=None, shuffle=True, random_state=None):\n",
    "    length = len(ary)\n",
    "    \n",
    "    train_ind = int(length * train_size)\n",
    "    val_ind = train_ind + int(length * val_size)\n",
    "    \n",
    "    if shuffle:\n",
    "        ary = np.random.RandomState(random_state).permutation(ary)\n",
    "    \n",
    "    return ary[:train_ind], ary[train_ind:val_ind], ary[val_ind:]"
   ]
  },
  {
   "cell_type": "code",
   "execution_count": 321,
   "id": "753b7b8a",
   "metadata": {
    "ExecuteTime": {
     "end_time": "2023-05-09T16:21:04.911324Z",
     "start_time": "2023-05-09T16:21:04.786469Z"
    },
    "id": "753b7b8a"
   },
   "outputs": [],
   "source": [
    "train, valid, test = train_val_test_split(df['id_project'].unique(), TRAIN_SIZE, VAL_SIZE, random_state=RANDOM_STATE)\n",
    "\n",
    "df[SAMPLE] = np.where(df['id_project'].isin(train), TRAIN, np.where(df['id_project'].isin(valid), VALID, TEST))\n",
    "mask_train = df[SAMPLE] == TRAIN\n",
    "mask_valid = df[SAMPLE] == VALID\n",
    "mask_test = df[SAMPLE] == TEST"
   ]
  },
  {
   "cell_type": "code",
   "execution_count": 322,
   "id": "4f70b10e",
   "metadata": {
    "ExecuteTime": {
     "end_time": "2023-05-09T16:21:05.465521Z",
     "start_time": "2023-05-09T16:21:04.921303Z"
    },
    "colab": {
     "base_uri": "https://localhost:8080/",
     "height": 419
    },
    "id": "4f70b10e",
    "outputId": "c0ed35ba-46dc-40fa-c22e-80168d444099"
   },
   "outputs": [
    {
     "data": {
      "text/plain": [
       "<Axes: xlabel='bin_type'>"
      ]
     },
     "execution_count": 322,
     "metadata": {},
     "output_type": "execute_result"
    },
    {
     "data": {
      "image/png": "[encoded data removed]",
      "text/plain": [
       "<Figure size 1200x400 with 3 Axes>"
      ]
     },
     "metadata": {},
     "output_type": "display_data"
    }
   ],
   "source": [
    "fig, axs = plt.subplots(1, 3, figsize=(12, 4))\n",
    "\n",
    "df[df[SAMPLE] == TRAIN].groupby('bin_type')['req'].count().plot(kind='bar', ax=axs[0])\n",
    "df[df[SAMPLE] == VALID].groupby('bin_type')['req'].count().plot(kind='bar', ax=axs[1])\n",
    "df[df[SAMPLE] == TEST].groupby('bin_type')['req'].count().plot(kind='bar', ax=axs[2])"
   ]
  },
  {
   "cell_type": "code",
   "execution_count": 323,
   "id": "e09e0b79",
   "metadata": {
    "ExecuteTime": {
     "end_time": "2023-05-09T16:21:06.069412Z",
     "start_time": "2023-05-09T16:21:05.468516Z"
    },
    "colab": {
     "base_uri": "https://localhost:8080/",
     "height": 414
    },
    "id": "e09e0b79",
    "outputId": "56554943-893e-46b6-a91e-928b702f0f6b"
   },
   "outputs": [
    {
     "data": {
      "text/plain": [
       "<Axes: xlabel='type'>"
      ]
     },
     "execution_count": 323,
     "metadata": {},
     "output_type": "execute_result"
    },
    {
     "data": {
      "image/png": "[encoded data removed]",
      "text/plain": [
       "<Figure size 1200x400 with 3 Axes>"
      ]
     },
     "metadata": {},
     "output_type": "display_data"
    }
   ],
   "source": [
    "fig, axs = plt.subplots(1, 3, figsize=(12, 4))\n",
    "\n",
    "df[df[SAMPLE] == TRAIN].groupby('type')['req'].count().plot(kind='bar', ax=axs[0])\n",
    "df[df[SAMPLE] == VALID].groupby('type')['req'].count().plot(kind='bar', ax=axs[1])\n",
    "df[df[SAMPLE] == TEST].groupby('type')['req'].count().plot(kind='bar', ax=axs[2])"
   ]
  },
  {
   "cell_type": "markdown",
   "id": "9ld7P-isoa3L",
   "metadata": {
    "id": "9ld7P-isoa3L"
   },
   "source": [
    "#  Save Data for HGAT"
   ]
  },
  {
   "cell_type": "code",
   "execution_count": 324,
   "id": "0TAz6_mwoaVL",
   "metadata": {
    "id": "0TAz6_mwoaVL"
   },
   "outputs": [],
   "source": [
    "# df[['bin_type', 'req']].to_csv(BASE_PATH/'HGAT-master/data/software_requirements/software_requirements.txt', header=None, sep='\\t')\n",
    "\n",
    "# df[df[SAMPLE] == TRAIN].reset_index()[['index']].to_csv(BASE_PATH/'HGAT-master/data/software_requirements/train.list', \n",
    "#                                                         header=None, index=False)\n",
    "\n",
    "# df[df[SAMPLE] == VALID].reset_index()[['index']].to_csv(BASE_PATH/'HGAT-master/data/software_requirements/vali.list', \n",
    "#                                                         header=None, index=False)\n",
    "\n",
    "# df[df[SAMPLE] == TEST].reset_index()[['index']].to_csv(BASE_PATH/'HGAT-master/data/software_requirements/test.list', \n",
    "#                                                         header=None, index=False)\n",
    "\n",
    "# # BERT embeddings\n",
    "# feature_extraction = pipeline('feature-extraction', model=\"bert-base-uncased\", tokenizer=\"bert-base-uncased\")\n",
    "# features = feature_extraction(df['req'].tolist())\n",
    "# features = [x[0][0] for x in features]\n",
    "# features = pd.DataFrame(data=np.array(features))\n",
    "# features['index'] = df.index.astype(str).values\n",
    "# features['bin_type'] = df['bin_type'].values\n",
    "# features = features.set_index('index')\n",
    "\n",
    "# # mapindex\n",
    "# mapindex = pd.read_csv(BASE_PATH/'HGAT-master/model/data/software_requirements/mapindex.txt', \n",
    "#                        header=None, sep='\\t', names=['index', 'node_index'], index_col=0)\n",
    "# features = features.join(mapindex).set_index('node_index')\n",
    "\n",
    "# # save embeddings\n",
    "# features.to_csv(BASE_PATH/'HGAT-master/model/data/software_requirements/software_requirements.content.text', header=None, sep='\\t')\n",
    "\n"
   ]
  },
  {
   "cell_type": "code",
   "execution_count": 325,
   "id": "FLjB7kbFWacF",
   "metadata": {
    "id": "FLjB7kbFWacF"
   },
   "outputs": [],
   "source": [
    "# entity_ids = pd.read_csv(BASE_PATH/'HGAT-master/model/data/software_requirements/software_requirements.content.entity', \n",
    "#                      header=None, sep='\\t', usecols=[0]).values.reshape(-1)\n",
    "\n",
    "# topic_ids = pd.read_csv(BASE_PATH/'HGAT-master/model/data/software_requirements/software_requirements.content.topic', \n",
    "#                      header=None, sep='\\t', usecols=[0]).values.reshape(-1)\n",
    "                     \n",
    "# mapindex = pd.read_csv(BASE_PATH/'HGAT-master/model/data/software_requirements/mapindex.txt', \n",
    "#                        header=None, sep='\\t', index_col=1, names=['index'])"
   ]
  },
  {
   "cell_type": "markdown",
   "id": "32a6075a",
   "metadata": {
    "id": "32a6075a"
   },
   "source": [
    "# Encoding"
   ]
  },
  {
   "cell_type": "code",
   "execution_count": 326,
   "id": "4627a32b",
   "metadata": {
    "ExecuteTime": {
     "end_time": "2023-05-09T17:19:35.062231Z",
     "start_time": "2023-05-09T17:19:35.058008Z"
    },
    "id": "4627a32b"
   },
   "outputs": [],
   "source": [
    "type_enc = {\n",
    "    'PE': 0,\n",
    "    'LF': 1,\n",
    "    'US': 2,\n",
    "    'A': 3,\n",
    "    'SE': 4,\n",
    "    'F': 5,\n",
    "    'FT': 6,\n",
    "    'SC': 7,\n",
    "    'PO': 8,\n",
    "    'O': 9,\n",
    "    'L': 10,\n",
    "    'MN': 11,\n",
    "}\n",
    "\n",
    "bin_type_enc = {\n",
    "    'NFR': 0,\n",
    "    'FR': 1\n",
    "}"
   ]
  },
  {
   "cell_type": "code",
   "execution_count": 327,
   "id": "50bf1b26",
   "metadata": {
    "ExecuteTime": {
     "end_time": "2023-05-09T17:19:35.363918Z",
     "start_time": "2023-05-09T17:19:35.357854Z"
    },
    "id": "50bf1b26"
   },
   "outputs": [],
   "source": [
    "df['type'] = df['type'].replace(type_enc).astype(np.int16)\n",
    "df['bin_type'] = df['bin_type'].replace(bin_type_enc).astype(np.int16)"
   ]
  },
  {
   "cell_type": "markdown",
   "id": "287c4c58",
   "metadata": {
    "id": "287c4c58"
   },
   "source": [
    "# LGBM"
   ]
  },
  {
   "cell_type": "code",
   "execution_count": 373,
   "id": "be2f1836",
   "metadata": {
    "ExecuteTime": {
     "end_time": "2023-05-09T17:19:36.976338Z",
     "start_time": "2023-05-09T17:19:36.951017Z"
    },
    "id": "be2f1836"
   },
   "outputs": [],
   "source": [
    "vectorizer = TfidfVectorizer(stop_words=None)\n",
    "\n",
    "\n",
    "pca = TruncatedSVD(n_components=100)\n",
    "\n",
    "\n",
    "params = {\n",
    "    'random_state': RANDOM_STATE,\n",
    "    'objective': \"binary\",\n",
    "    # 'learning_rate': 0.05,\n",
    "    # 'max_depth': 3\n",
    "}\n",
    "\n",
    "model = LGBMClassifier(**params)\n",
    "\n",
    "\n",
    "model_pipe = make_pipeline(vectorizer, pca, model)"
   ]
  },
  {
   "cell_type": "code",
   "execution_count": 374,
   "id": "J9RfJn8vFYVN",
   "metadata": {
    "colab": {
     "base_uri": "https://localhost:8080/"
    },
    "id": "J9RfJn8vFYVN",
    "outputId": "632bd288-6516-45c4-9400-2721e4cc6f8e"
   },
   "outputs": [
    {
     "name": "stderr",
     "output_type": "stream",
     "text": [
      "/usr/local/lib/python3.10/dist-packages/lightgbm/sklearn.py:726: UserWarning: 'early_stopping_rounds' argument is deprecated and will be removed in a future release of LightGBM. Pass 'early_stopping()' callback via 'callbacks' argument instead.\n",
      "  _log_warning(\"'early_stopping_rounds' argument is deprecated and will be removed in a future release of LightGBM. \"\n",
      "/usr/local/lib/python3.10/dist-packages/lightgbm/sklearn.py:736: UserWarning: 'verbose' argument is deprecated and will be removed in a future release of LightGBM. Pass 'log_evaluation()' callback via 'callbacks' argument instead.\n",
      "  _log_warning(\"'verbose' argument is deprecated and will be removed in a future release of LightGBM. \"\n"
     ]
    },
    {
     "name": "stdout",
     "output_type": "stream",
     "text": [
      "[30]\ttrain's binary_logloss: 0.123462\tvalid's binary_logloss: 0.406772\n",
      "[60]\ttrain's binary_logloss: 0.0295259\tvalid's binary_logloss: 0.397917\n",
      "[90]\ttrain's binary_logloss: 0.00711161\tvalid's binary_logloss: 0.438385\n"
     ]
    }
   ],
   "source": [
    "X_train = df[mask_train]['req']\n",
    "for step in model_pipe.steps[:-1]:\n",
    "    X_train = step[1].fit_transform(X_train)\n",
    "\n",
    "X_valid = df[mask_valid]['req']\n",
    "for step in model_pipe.steps[:-1]:\n",
    "    X_valid = step[1].transform(X_valid)\n",
    "\n",
    "fit_params = {\n",
    "    'eval_set': [\n",
    "        (X_train, df[mask_train][TARGET]),\n",
    "        (X_valid, df[mask_valid][TARGET])\n",
    "    ],\n",
    "    'eval_names': ['train', 'valid'],\n",
    "    'early_stopping_rounds': 50,\n",
    "    'verbose': 30,\n",
    "}\n",
    "\n",
    "model_pipe.steps[-1][1].fit(X_train, df[mask_train][TARGET], **fit_params)\n",
    "df[PRED] = model_pipe.predict_proba(df['req'])[:, 1]"
   ]
  },
  {
   "cell_type": "code",
   "execution_count": 374,
   "id": "xEfFQNYNkNwN",
   "metadata": {
    "id": "xEfFQNYNkNwN"
   },
   "outputs": [],
   "source": []
  },
  {
   "cell_type": "code",
   "execution_count": 375,
   "id": "Wv406Q2RHXqB",
   "metadata": {
    "colab": {
     "base_uri": "https://localhost:8080/",
     "height": 466
    },
    "id": "Wv406Q2RHXqB",
    "outputId": "1eabbf67-e13a-4a81-9722-c812fdf4e59f"
   },
   "outputs": [
    {
     "data": {
      "text/plain": [
       "<sklearn.metrics._plot.precision_recall_curve.PrecisionRecallDisplay at 0x7f87cad10e20>"
      ]
     },
     "execution_count": 375,
     "metadata": {},
     "output_type": "execute_result"
    },
    {
     "data": {
      "image/png": "[encoded data removed]",
      "text/plain": [
       "<Figure size 640x480 with 1 Axes>"
      ]
     },
     "metadata": {},
     "output_type": "display_data"
    }
   ],
   "source": [
    "PrecisionRecallDisplay.from_predictions(\n",
    "    df[mask_train][TARGET].values, \n",
    "    df[mask_train][PRED].values\n",
    ")\n",
    "# print(classification_report(df[mask_train][TARGET].values , model_pipe.predict(df[mask_train]['req'])))"
   ]
  },
  {
   "cell_type": "code",
   "execution_count": 376,
   "id": "b22927a0",
   "metadata": {
    "ExecuteTime": {
     "end_time": "2023-05-09T17:24:09.940638Z",
     "start_time": "2023-05-09T17:24:09.383217Z"
    },
    "colab": {
     "base_uri": "https://localhost:8080/",
     "height": 466
    },
    "id": "b22927a0",
    "outputId": "4b4d6d5b-7563-4229-e008-ba4da351f0bd"
   },
   "outputs": [
    {
     "data": {
      "text/plain": [
       "<sklearn.metrics._plot.precision_recall_curve.PrecisionRecallDisplay at 0x7f87cb0514e0>"
      ]
     },
     "execution_count": 376,
     "metadata": {},
     "output_type": "execute_result"
    },
    {
     "data": {
      "image/png": "[encoded data removed]",
      "text/plain": [
       "<Figure size 640x480 with 1 Axes>"
      ]
     },
     "metadata": {},
     "output_type": "display_data"
    }
   ],
   "source": [
    "PrecisionRecallDisplay.from_predictions(\n",
    "    df[mask_valid][TARGET].values, \n",
    "    df[mask_valid][PRED].values\n",
    ")\n",
    "# print(classification_report(df[mask_valid][TARGET].values , model_pipe.predict(df[mask_valid]['req'])))"
   ]
  },
  {
   "cell_type": "code",
   "execution_count": 377,
   "id": "3ddd3a46",
   "metadata": {
    "ExecuteTime": {
     "end_time": "2023-05-09T17:24:17.775238Z",
     "start_time": "2023-05-09T17:24:17.562407Z"
    },
    "colab": {
     "base_uri": "https://localhost:8080/",
     "height": 466
    },
    "id": "3ddd3a46",
    "outputId": "c6a2163b-48a2-4455-d75a-499fec4c9d41"
   },
   "outputs": [
    {
     "data": {
      "text/plain": [
       "<sklearn.metrics._plot.precision_recall_curve.PrecisionRecallDisplay at 0x7f87c8f76110>"
      ]
     },
     "execution_count": 377,
     "metadata": {},
     "output_type": "execute_result"
    },
    {
     "data": {
      "image/png": "[encoded data removed]",
      "text/plain": [
       "<Figure size 640x480 with 1 Axes>"
      ]
     },
     "metadata": {},
     "output_type": "display_data"
    }
   ],
   "source": [
    "PrecisionRecallDisplay.from_predictions(\n",
    "    df[mask_test][TARGET].values, \n",
    "    df[mask_test][PRED].values\n",
    ")\n",
    "# print(classification_report(df[mask_test][TARGET].values , model_pipe.predict(df[mask_test]['req'])))"
   ]
  },
  {
   "cell_type": "code",
   "execution_count": 378,
   "id": "zE_j6Ja4leV6",
   "metadata": {
    "colab": {
     "base_uri": "https://localhost:8080/"
    },
    "id": "zE_j6Ja4leV6",
    "outputId": "aac75d38-1370-46f3-f9c8-a457053b292b"
   },
   "outputs": [
    {
     "name": "stdout",
     "output_type": "stream",
     "text": [
      "              precision    recall  f1-score   support\n",
      "\n",
      "           0       0.58      0.99      0.73        70\n",
      "           1       0.90      0.16      0.26        58\n",
      "\n",
      "    accuracy                           0.61       128\n",
      "   macro avg       0.74      0.57      0.50       128\n",
      "weighted avg       0.73      0.61      0.52       128\n",
      "\n",
      "threshold=0.805\n"
     ]
    },
    {
     "data": {
      "text/plain": [
       "0.15517241379310345"
      ]
     },
     "execution_count": 378,
     "metadata": {},
     "output_type": "execute_result"
    }
   ],
   "source": [
    "get_target_metric()"
   ]
  },
  {
   "cell_type": "markdown",
   "id": "CXjUyQihgr6T",
   "metadata": {
    "id": "CXjUyQihgr6T"
   },
   "source": [
    "# SVM"
   ]
  },
  {
   "cell_type": "code",
   "execution_count": 301,
   "id": "t2B17U8dgpek",
   "metadata": {
    "ExecuteTime": {
     "end_time": "2023-05-09T17:19:36.976338Z",
     "start_time": "2023-05-09T17:19:36.951017Z"
    },
    "id": "t2B17U8dgpek"
   },
   "outputs": [],
   "source": [
    "vectorizer = TfidfVectorizer(stop_words=None)\n",
    "\n",
    "\n",
    "pca = TruncatedSVD(n_components=100)\n",
    "\n",
    "\n",
    "model = SVC(probability=True)\n",
    "\n",
    "\n",
    "model_pipe = make_pipeline(vectorizer, pca, model)"
   ]
  },
  {
   "cell_type": "code",
   "execution_count": 302,
   "id": "C9BO5zu1gpes",
   "metadata": {
    "id": "C9BO5zu1gpes"
   },
   "outputs": [],
   "source": [
    "X_train = df[mask_train]['req']\n",
    "for step in model_pipe.steps[:-1]:\n",
    "    X_train = step[1].fit_transform(X_train)\n",
    "\n",
    "X_valid = df[mask_valid]['req']\n",
    "for step in model_pipe.steps[:-1]:\n",
    "    X_valid = step[1].transform(X_valid)\n",
    "\n",
    "\n",
    "model_pipe.steps[-1][1].fit(X_train, df[mask_train][TARGET])\n",
    "df[PRED] = model_pipe.predict_proba(df['req'])[:, 1]"
   ]
  },
  {
   "cell_type": "code",
   "execution_count": 303,
   "id": "YGSqYT0ggpes",
   "metadata": {
    "colab": {
     "base_uri": "https://localhost:8080/",
     "height": 466
    },
    "id": "YGSqYT0ggpes",
    "outputId": "f6785f92-f2df-41db-f988-9e9a1612c6f6"
   },
   "outputs": [
    {
     "data": {
      "text/plain": [
       "<sklearn.metrics._plot.precision_recall_curve.PrecisionRecallDisplay at 0x7f87d890cd90>"
      ]
     },
     "execution_count": 303,
     "metadata": {},
     "output_type": "execute_result"
    },
    {
     "data": {
      "image/png": "[encoded data removed]",
      "text/plain": [
       "<Figure size 640x480 with 1 Axes>"
      ]
     },
     "metadata": {},
     "output_type": "display_data"
    }
   ],
   "source": [
    "PrecisionRecallDisplay.from_predictions(\n",
    "    df[mask_train][TARGET].values, \n",
    "    df[mask_train][PRED].values, \n",
    ")\n",
    "# print(classification_report(df[mask_train][TARGET].values , model_pipe.predict(df[mask_train]['req'])))"
   ]
  },
  {
   "cell_type": "code",
   "execution_count": 305,
   "id": "XJaLYVipgpes",
   "metadata": {
    "ExecuteTime": {
     "end_time": "2023-05-09T17:24:09.940638Z",
     "start_time": "2023-05-09T17:24:09.383217Z"
    },
    "colab": {
     "base_uri": "https://localhost:8080/",
     "height": 466
    },
    "id": "XJaLYVipgpes",
    "outputId": "b01f2b72-33ba-4a4b-ab79-2e8b29469aa7"
   },
   "outputs": [
    {
     "data": {
      "text/plain": [
       "<sklearn.metrics._plot.precision_recall_curve.PrecisionRecallDisplay at 0x7f87cada0070>"
      ]
     },
     "execution_count": 305,
     "metadata": {},
     "output_type": "execute_result"
    },
    {
     "data": {
      "image/png": "[encoded data removed]",
      "text/plain": [
       "<Figure size 640x480 with 1 Axes>"
      ]
     },
     "metadata": {},
     "output_type": "display_data"
    }
   ],
   "source": [
    "PrecisionRecallDisplay.from_predictions(\n",
    "    df[mask_valid][TARGET].values, \n",
    "    df[mask_valid][PRED].values\n",
    ")\n",
    "# print(classification_report(df[mask_valid][TARGET].values , model_pipe.predict(df[mask_valid]['req'])))"
   ]
  },
  {
   "cell_type": "code",
   "execution_count": 306,
   "id": "8b3f7XfLgpes",
   "metadata": {
    "ExecuteTime": {
     "end_time": "2023-05-09T17:24:17.775238Z",
     "start_time": "2023-05-09T17:24:17.562407Z"
    },
    "colab": {
     "base_uri": "https://localhost:8080/",
     "height": 466
    },
    "id": "8b3f7XfLgpes",
    "outputId": "abfd5804-be32-4c0d-e065-9483f7dc7897"
   },
   "outputs": [
    {
     "data": {
      "text/plain": [
       "<sklearn.metrics._plot.precision_recall_curve.PrecisionRecallDisplay at 0x7f87cad72a70>"
      ]
     },
     "execution_count": 306,
     "metadata": {},
     "output_type": "execute_result"
    },
    {
     "data": {
      "image/png": "[encoded data removed]",
      "text/plain": [
       "<Figure size 640x480 with 1 Axes>"
      ]
     },
     "metadata": {},
     "output_type": "display_data"
    }
   ],
   "source": [
    "PrecisionRecallDisplay.from_predictions(\n",
    "    df[mask_test][TARGET].values, \n",
    "    df[mask_test][PRED].values\n",
    ")\n",
    "# print(classification_report(df[mask_test][TARGET].values , model_pipe.predict(df[mask_test]['req'])))"
   ]
  },
  {
   "cell_type": "code",
   "execution_count": 307,
   "id": "Y-ZG4pOfmQ1h",
   "metadata": {
    "colab": {
     "base_uri": "https://localhost:8080/"
    },
    "id": "Y-ZG4pOfmQ1h",
    "outputId": "23845765-d455-4d4c-e628-8b308b2f6b2f"
   },
   "outputs": [
    {
     "name": "stdout",
     "output_type": "stream",
     "text": [
      "              precision    recall  f1-score   support\n",
      "\n",
      "           0       0.60      0.96      0.74        70\n",
      "           1       0.81      0.22      0.35        58\n",
      "\n",
      "    accuracy                           0.62       128\n",
      "   macro avg       0.71      0.59      0.54       128\n",
      "weighted avg       0.70      0.62      0.56       128\n",
      "\n",
      "threshold=0.560\n"
     ]
    },
    {
     "data": {
      "text/plain": [
       "0.22413793103448276"
      ]
     },
     "execution_count": 307,
     "metadata": {},
     "output_type": "execute_result"
    }
   ],
   "source": [
    "get_target_metric()"
   ]
  },
  {
   "cell_type": "markdown",
   "id": "7b457086",
   "metadata": {
    "id": "7b457086"
   },
   "source": [
    "# BERT"
   ]
  },
  {
   "cell_type": "code",
   "execution_count": 182,
   "id": "yVyTxC5ssXDB",
   "metadata": {
    "id": "yVyTxC5ssXDB"
   },
   "outputs": [],
   "source": [
    "# MODEL_NAME = 'distilbert-base-uncased'\n",
    "# MODEL_NAME = 'roberta-base'\n",
    "MODEL_NAME = 'bert-base-uncased'\n",
    "BATCH_SIZE = 20\n",
    "MAX_LEN = 15\n",
    "NUM_EPOCHS = 1"
   ]
  },
  {
   "cell_type": "code",
   "execution_count": 183,
   "id": "LB4n7LU3rj1p",
   "metadata": {
    "colab": {
     "base_uri": "https://localhost:8080/",
     "height": 283,
     "referenced_widgets": [
      "ae9f372599ee40fe9d173fd6535c540e",
      "a0ca716ef5a0401fb8d8e3c59f0bb471",
      "2f36137877b643ef9ab8e9986a97ac88",
      "31fbf60505fb4fabbe9f68994391fbb9",
      "e8d41c74b0bb42408b6aa7fe17f0b96f",
      "bb224e55d02f4a3cb2b685df4a1af757",
      "07a1e0aec4fa4163a0e2ac8a38184a15",
      "4b6c942687914fd09a3db78c8305b57c",
      "7fa2e0c93beb4915906bb484d9920688",
      "1a87b6cc859e4db59f8af40d436d78d6",
      "c6fad3863cff4c72a3c922319a102be1",
      "3c66744131d44fe1b1d5ccda9e0607ee",
      "398a3980c12142fc9407d913e2b87008",
      "d32cc40d3eeb4d32bb8bfdb367af7144",
      "89dc7d7b60634560a70f14037771f5c7",
      "49009a9bf2f44d489d8fb070ded05610",
      "ba0133d3afeb4a7e847befe80662685d",
      "c188512fdad04677bbec3db15a38002b",
      "6e9a6178a5f249bcab077f4824d9419c",
      "b09064a293c94323b807a2260afbd10c",
      "63f586a5908841ef95a1f8ed098f8b36",
      "339c3a3bedf04b4a99cff3426df91830",
      "043fb7c9b5e447d78ffd94e6bcfb1e45",
      "3215a7bcd1104219b9cf5021881ce16d",
      "173a44f199a74b9981a22d3bfdc84307",
      "966e4407a496428ebf65df8265550aeb",
      "5d686c9859234e95bd19e6fac4fb6838",
      "eb7da4051b184d00a08fba60a72ab767",
      "4b4a30123eec48e9855c57dada218bb6",
      "fe1788927ff843b3bd419ee0f3bd4b37",
      "a40af947509842d58c4486c330e67cfc",
      "97fb6a70a86a435fa32e5dcaa63f5477",
      "6b00b325c5d743b29db732a9b63451cc"
     ]
    },
    "id": "LB4n7LU3rj1p",
    "outputId": "e3487b08-1712-41d4-892c-985a2bb0e61f"
   },
   "outputs": [
    {
     "data": {
      "application/vnd.jupyter.widget-view+json": {
       "model_id": "ae9f372599ee40fe9d173fd6535c540e",
       "version_major": 2,
       "version_minor": 0
      },
      "text/plain": [
       "Map:   0%|          | 0/700 [00:00<?, ? examples/s]"
      ]
     },
     "metadata": {},
     "output_type": "display_data"
    },
    {
     "name": "stderr",
     "output_type": "stream",
     "text": [
      "/usr/local/lib/python3.10/dist-packages/transformers/tokenization_utils_base.py:2354: FutureWarning: The `pad_to_max_length` argument is deprecated and will be removed in a future version, use `padding=True` or `padding='longest'` to pad to the longest sequence in the batch, or use `padding='max_length'` to pad to a max length. In this case, you can give a specific length with `max_length` (e.g. `max_length=45`) or leave max_length to None to pad to the maximal input size of the model (e.g. 512 for Bert).\n",
      "  warnings.warn(\n"
     ]
    },
    {
     "data": {
      "application/vnd.jupyter.widget-view+json": {
       "model_id": "3c66744131d44fe1b1d5ccda9e0607ee",
       "version_major": 2,
       "version_minor": 0
      },
      "text/plain": [
       "Map:   0%|          | 0/141 [00:00<?, ? examples/s]"
      ]
     },
     "metadata": {},
     "output_type": "display_data"
    },
    {
     "data": {
      "application/vnd.jupyter.widget-view+json": {
       "model_id": "043fb7c9b5e447d78ffd94e6bcfb1e45",
       "version_major": 2,
       "version_minor": 0
      },
      "text/plain": [
       "Map:   0%|          | 0/128 [00:00<?, ? examples/s]"
      ]
     },
     "metadata": {},
     "output_type": "display_data"
    },
    {
     "name": "stderr",
     "output_type": "stream",
     "text": [
      "Some weights of the model checkpoint at bert-base-uncased were not used when initializing BertForSequenceClassification: ['cls.predictions.transform.dense.weight', 'cls.predictions.bias', 'cls.predictions.transform.LayerNorm.weight', 'cls.predictions.transform.LayerNorm.bias', 'cls.predictions.transform.dense.bias', 'cls.predictions.decoder.weight', 'cls.seq_relationship.weight', 'cls.seq_relationship.bias']\n",
      "- This IS expected if you are initializing BertForSequenceClassification from the checkpoint of a model trained on another task or with another architecture (e.g. initializing a BertForSequenceClassification model from a BertForPreTraining model).\n",
      "- This IS NOT expected if you are initializing BertForSequenceClassification from the checkpoint of a model that you expect to be exactly identical (initializing a BertForSequenceClassification model from a BertForSequenceClassification model).\n",
      "Some weights of BertForSequenceClassification were not initialized from the model checkpoint at bert-base-uncased and are newly initialized: ['classifier.weight', 'classifier.bias']\n",
      "You should probably TRAIN this model on a down-stream task to be able to use it for predictions and inference.\n",
      "/usr/local/lib/python3.10/dist-packages/transformers/optimization.py:391: FutureWarning: This implementation of AdamW is deprecated and will be removed in a future version. Use the PyTorch implementation torch.optim.AdamW instead, or set `no_deprecation_warning=True` to disable this warning\n",
      "  warnings.warn(\n"
     ]
    },
    {
     "data": {
      "text/html": [
       "\n",
       "    <div>\n",
       "      \n",
       "      <progress value='35' max='35' style='width:300px; height:20px; vertical-align: middle;'></progress>\n",
       "      [35/35 02:25, Epoch 1/1]\n",
       "    </div>\n",
       "    <table border=\"1\" class=\"dataframe\">\n",
       "  <thead>\n",
       " <tr style=\"text-align: left;\">\n",
       "      <th>Epoch</th>\n",
       "      <th>Training Loss</th>\n",
       "      <th>Validation Loss</th>\n",
       "      <th>Average Precision Score</th>\n",
       "      <th>Accuracy</th>\n",
       "    </tr>\n",
       "  </thead>\n",
       "  <tbody>\n",
       "    <tr>\n",
       "      <td>1</td>\n",
       "      <td>No log</td>\n",
       "      <td>0.419683</td>\n",
       "      <td>0.852978</td>\n",
       "      <td>0.851064</td>\n",
       "    </tr>\n",
       "  </tbody>\n",
       "</table><p>"
      ],
      "text/plain": [
       "<IPython.core.display.HTML object>"
      ]
     },
     "metadata": {},
     "output_type": "display_data"
    },
    {
     "data": {
      "text/html": [],
      "text/plain": [
       "<IPython.core.display.HTML object>"
      ]
     },
     "metadata": {},
     "output_type": "display_data"
    },
    {
     "data": {
      "text/html": [],
      "text/plain": [
       "<IPython.core.display.HTML object>"
      ]
     },
     "metadata": {},
     "output_type": "display_data"
    },
    {
     "data": {
      "text/html": [],
      "text/plain": [
       "<IPython.core.display.HTML object>"
      ]
     },
     "metadata": {},
     "output_type": "display_data"
    }
   ],
   "source": [
    "train = Dataset.from_pandas(df.loc[mask_train, ['req', 'bin_type']].rename(columns={'req': 'text', 'bin_type': 'label'}))\n",
    "valid = Dataset.from_pandas(df.loc[mask_valid, ['req', 'bin_type']].rename(columns={'req': 'text', 'bin_type': 'label'}))\n",
    "test = Dataset.from_pandas(df.loc[mask_test, ['req', 'bin_type']].rename(columns={'req': 'text', 'bin_type': 'label'}))\n",
    "\n",
    "tokenizer = AutoTokenizer.from_pretrained(MODEL_NAME)\n",
    "\n",
    " \n",
    "def tokenize_function(examples):\n",
    "\treturn tokenizer.encode_plus(\n",
    "\t\texamples['text'],\n",
    "\t\tNone,\n",
    "\t\tadd_special_tokens=True,\n",
    "\t\tmax_length=MAX_LEN,\n",
    "\t\tpad_to_max_length=True,\n",
    "\t\treturn_token_type_ids=True,\n",
    "\t\ttruncation=True\n",
    "\t)\n",
    " \n",
    "tokenized_train = train.map(tokenize_function)\n",
    "tokenized_valid = valid.map(tokenize_function)\n",
    "tokenized_test = test.map(tokenize_function)\n",
    "\n",
    "model = AutoModelForSequenceClassification.from_pretrained(MODEL_NAME, num_labels=2)\n",
    "training_args = TrainingArguments(\n",
    "\toutput_dir = 'test_trainer_log',\n",
    "\tevaluation_strategy = 'epoch',\n",
    "\tper_device_train_batch_size = BATCH_SIZE,\n",
    "\tper_device_eval_batch_size = BATCH_SIZE,\n",
    "\tnum_train_epochs = NUM_EPOCHS,\n",
    "\treport_to='none'\n",
    ")\n",
    "\n",
    "accuracy = evaluate.load(\"accuracy\")\n",
    "average_precision = evaluate.load(\"yonting/average_precision_score\")\n",
    "def compute_metrics(eval_pred):\n",
    "\tlogits, labels = eval_pred\n",
    "\tpredictions = np.argmax(logits, axis=-1)\n",
    "\tprediction_scores = logits[:, 1]\n",
    "\tap = average_precision.compute(references=labels, prediction_scores=prediction_scores)\n",
    "\tacc = accuracy.compute(references=labels, predictions=predictions)\n",
    "\treturn {**ap, **acc}\n",
    " \n",
    "trainer = Trainer(\n",
    "\tmodel = model,\n",
    "\targs = training_args,\n",
    "\ttrain_dataset = tokenized_train,\n",
    "\teval_dataset = tokenized_valid,\n",
    "\tcompute_metrics = compute_metrics\n",
    ")\n",
    "\n",
    "trainer.train()\n",
    "\n",
    "# Сохраняем модель\n",
    "# trainer.save_model(PATH_TO_MODELS/'bert_trainer.hf')\n",
    "\n",
    "df.loc[mask_train, PRED] = softmax(trainer.predict(tokenized_train).predictions, axis=1)[:, 1]\n",
    "df.loc[mask_valid, PRED] = softmax(trainer.predict(tokenized_valid).predictions, axis=1)[:, 1]\n",
    "df.loc[mask_test , PRED] = softmax(trainer.predict(tokenized_test ).predictions, axis=1)[:, 1]\n"
   ]
  },
  {
   "cell_type": "code",
   "execution_count": 184,
   "id": "FLvKQ2d8gcAm",
   "metadata": {
    "colab": {
     "base_uri": "https://localhost:8080/",
     "height": 466
    },
    "id": "FLvKQ2d8gcAm",
    "outputId": "1e327986-8aa2-46cb-b8b0-fb4696d1b997"
   },
   "outputs": [
    {
     "data": {
      "text/plain": [
       "<sklearn.metrics._plot.precision_recall_curve.PrecisionRecallDisplay at 0x7f87d32036d0>"
      ]
     },
     "execution_count": 184,
     "metadata": {},
     "output_type": "execute_result"
    },
    {
     "data": {
      "image/png": "[encoded data removed]",
      "text/plain": [
       "<Figure size 640x480 with 1 Axes>"
      ]
     },
     "metadata": {},
     "output_type": "display_data"
    }
   ],
   "source": [
    "PrecisionRecallDisplay.from_predictions(\n",
    "    df[mask_train][TARGET].values, \n",
    "    df[mask_train][PRED].values, \n",
    "\n",
    ")\n",
    "# print(classification_report(df[mask_train][TARGET].values , np.argmax(train_predict.predictions, axis=1)))"
   ]
  },
  {
   "cell_type": "code",
   "execution_count": 186,
   "id": "dKCXt_A8fe1K",
   "metadata": {
    "colab": {
     "base_uri": "https://localhost:8080/",
     "height": 466
    },
    "id": "dKCXt_A8fe1K",
    "outputId": "f966727b-879d-45d1-fd43-e4dcbc5505dc"
   },
   "outputs": [
    {
     "data": {
      "text/plain": [
       "<sklearn.metrics._plot.precision_recall_curve.PrecisionRecallDisplay at 0x7f87dd92e0b0>"
      ]
     },
     "execution_count": 186,
     "metadata": {},
     "output_type": "execute_result"
    },
    {
     "data": {
      "image/png": "[encoded data removed]",
      "text/plain": [
       "<Figure size 640x480 with 1 Axes>"
      ]
     },
     "metadata": {},
     "output_type": "display_data"
    }
   ],
   "source": [
    "PrecisionRecallDisplay.from_predictions(\n",
    "    df[mask_valid][TARGET].values, \n",
    "    df[mask_valid][PRED].values, \n",
    ")\n",
    "# print(classification_report(df[mask_valid][TARGET].values , np.argmax(valid_predict.predictions, axis=1)))"
   ]
  },
  {
   "cell_type": "code",
   "execution_count": 187,
   "id": "Jl0IfoapXHUh",
   "metadata": {
    "colab": {
     "base_uri": "https://localhost:8080/",
     "height": 466
    },
    "id": "Jl0IfoapXHUh",
    "outputId": "801c3958-45ec-4ff1-cc2b-872ac616a7ab"
   },
   "outputs": [
    {
     "data": {
      "text/plain": [
       "<sklearn.metrics._plot.precision_recall_curve.PrecisionRecallDisplay at 0x7f87d3b6ca60>"
      ]
     },
     "execution_count": 187,
     "metadata": {},
     "output_type": "execute_result"
    },
    {
     "data": {
      "image/png": "[encoded data removed]",
      "text/plain": [
       "<Figure size 640x480 with 1 Axes>"
      ]
     },
     "metadata": {},
     "output_type": "display_data"
    }
   ],
   "source": [
    "PrecisionRecallDisplay.from_predictions(\n",
    "    df[mask_test][TARGET].values, \n",
    "    df[mask_test][PRED].values, \n",
    ")\n",
    "# print(classification_report(df[mask_test][TARGET].values , np.argmax(test_predict.predictions, axis=1)))"
   ]
  },
  {
   "cell_type": "code",
   "execution_count": 196,
   "id": "IBxr5mTfmchI",
   "metadata": {
    "colab": {
     "base_uri": "https://localhost:8080/"
    },
    "id": "IBxr5mTfmchI",
    "outputId": "90f0b527-ac85-4167-b55e-1deab1be8370"
   },
   "outputs": [
    {
     "name": "stdout",
     "output_type": "stream",
     "text": [
      "              precision    recall  f1-score   support\n",
      "\n",
      "           0       0.60      1.00      0.75        70\n",
      "           1       1.00      0.21      0.34        58\n",
      "\n",
      "    accuracy                           0.64       128\n",
      "   macro avg       0.80      0.60      0.55       128\n",
      "weighted avg       0.78      0.64      0.57       128\n",
      "\n",
      "threshold=0.458\n"
     ]
    },
    {
     "data": {
      "text/plain": [
       "0.20689655172413793"
      ]
     },
     "execution_count": 196,
     "metadata": {},
     "output_type": "execute_result"
    }
   ],
   "source": [
    "get_target_metric()"
   ]
  },
  {
   "cell_type": "markdown",
   "id": "LZZe0A_jF4av",
   "metadata": {
    "id": "LZZe0A_jF4av"
   },
   "source": [
    "# BERT Encodings + Boosting"
   ]
  },
  {
   "cell_type": "code",
   "execution_count": 361,
   "id": "WoGJUy4KGwmz",
   "metadata": {
    "id": "WoGJUy4KGwmz"
   },
   "outputs": [],
   "source": [
    "ENCODER_NAME = \"bert-base-uncased\""
   ]
  },
  {
   "cell_type": "code",
   "execution_count": 362,
   "id": "cYleI0NPF3kP",
   "metadata": {
    "colab": {
     "base_uri": "https://localhost:8080/"
    },
    "id": "cYleI0NPF3kP",
    "outputId": "1601757b-ca5d-4393-b47f-b85f29a45c36"
   },
   "outputs": [
    {
     "data": {
      "text/plain": [
       "0"
      ]
     },
     "execution_count": 362,
     "metadata": {},
     "output_type": "execute_result"
    }
   ],
   "source": [
    "if not os.path.exists(PATH_TO_DATA/f'{ENCODER_NAME}.txt'):\n",
    "    feature_extraction = pipeline('feature-extraction', model=ENCODER_NAME, tokenizer=ENCODER_NAME)\n",
    "    features = feature_extraction(df['req'].tolist())\n",
    "    features = [x[0][0] for x in features]\n",
    "    features = pd.DataFrame(data=np.array(features))\n",
    "    features['index'] = df.index.values\n",
    "    features = features.set_index('index')\n",
    "\n",
    "    features.to_csv(PATH_TO_DATA/f'{ENCODER_NAME}.txt')\n",
    "\n",
    "features = pd.read_csv(PATH_TO_DATA/f'{ENCODER_NAME}.txt', index_col=0).drop(columns=['bin_type', 'type', SAMPLE])\n",
    "BERT_FEATURES = list(map(str, range(768)))\n",
    "\n",
    "df = df.drop(columns=BERT_FEATURES, errors='ignore')\n",
    "df = df.join(features)\n",
    "\n",
    "del features\n",
    "gc.collect()"
   ]
  },
  {
   "cell_type": "markdown",
   "id": "OhoetXYXRKth",
   "metadata": {
    "id": "OhoetXYXRKth"
   },
   "source": [
    "## CatBoost"
   ]
  },
  {
   "cell_type": "code",
   "execution_count": 287,
   "id": "yEJNPoTWIh0R",
   "metadata": {
    "id": "yEJNPoTWIh0R"
   },
   "outputs": [],
   "source": [
    "params = {\n",
    "    'iterations': 200,\n",
    "    'verbose': 20,\n",
    "    'od_wait': 30,\n",
    "    'learning_rate': 0.05, \n",
    "    'random_state': RANDOM_STATE,\n",
    "    'loss_function': 'Logloss',\n",
    "    'eval_metric': 'Accuracy',\n",
    "    'depth': 3,\n",
    "    'random_strength': 0.0\n",
    "}\n",
    "clf = CatBoostClassifier(**params, )"
   ]
  },
  {
   "cell_type": "code",
   "execution_count": 288,
   "id": "iRuhGsZHJLND",
   "metadata": {
    "colab": {
     "base_uri": "https://localhost:8080/"
    },
    "id": "iRuhGsZHJLND",
    "outputId": "a8dd6a74-e917-4b20-8f04-28cd4a4951f9"
   },
   "outputs": [
    {
     "name": "stdout",
     "output_type": "stream",
     "text": [
      "0:\tlearn: 0.7328571\ttest: 0.5673759\tbest: 0.5673759 (0)\ttotal: 141ms\tremaining: 28.1s\n",
      "20:\tlearn: 0.8871429\ttest: 0.8085106\tbest: 0.8085106 (17)\ttotal: 2.47s\tremaining: 21s\n",
      "40:\tlearn: 0.9257143\ttest: 0.8156028\tbest: 0.8368794 (38)\ttotal: 4.79s\tremaining: 18.6s\n",
      "60:\tlearn: 0.9542857\ttest: 0.8652482\tbest: 0.8794326 (53)\ttotal: 6.78s\tremaining: 15.4s\n",
      "80:\tlearn: 0.9685714\ttest: 0.8581560\tbest: 0.8794326 (53)\ttotal: 8.45s\tremaining: 12.4s\n",
      "Stopped by overfitting detector  (30 iterations wait)\n",
      "\n",
      "bestTest = 0.8794326241\n",
      "bestIteration = 53\n",
      "\n",
      "Shrink model to first 54 iterations.\n"
     ]
    }
   ],
   "source": [
    "clf.fit(df[mask_train][BERT_FEATURES], df[mask_train][TARGET],\n",
    "       eval_set=(df[mask_valid][BERT_FEATURES], df[mask_valid][TARGET])\n",
    "       )\n",
    "\n",
    "df[PRED] = clf.predict_proba(df[BERT_FEATURES])[:, 1]"
   ]
  },
  {
   "cell_type": "code",
   "execution_count": 289,
   "id": "WM9vNMXmO-rR",
   "metadata": {
    "colab": {
     "base_uri": "https://localhost:8080/",
     "height": 466
    },
    "id": "WM9vNMXmO-rR",
    "outputId": "4da99a4c-a4c0-46a9-c1d6-57f6593d178a"
   },
   "outputs": [
    {
     "data": {
      "text/plain": [
       "<sklearn.metrics._plot.precision_recall_curve.PrecisionRecallDisplay at 0x7f87cb04d1e0>"
      ]
     },
     "execution_count": 289,
     "metadata": {},
     "output_type": "execute_result"
    },
    {
     "data": {
      "image/png": "[encoded data removed]",
      "text/plain": [
       "<Figure size 640x480 with 1 Axes>"
      ]
     },
     "metadata": {},
     "output_type": "display_data"
    }
   ],
   "source": [
    "PrecisionRecallDisplay.from_predictions(\n",
    "    df[mask_train][TARGET].values, \n",
    "    df[mask_train][PRED].values, \n",
    ")\n",
    "# print(classification_report(df[mask_train][TARGET].values , clf.predict(df[mask_train][BERT_FEATURES])))"
   ]
  },
  {
   "cell_type": "code",
   "execution_count": 290,
   "id": "BegAG6hlO-rb",
   "metadata": {
    "ExecuteTime": {
     "end_time": "2023-05-09T17:24:09.940638Z",
     "start_time": "2023-05-09T17:24:09.383217Z"
    },
    "colab": {
     "base_uri": "https://localhost:8080/",
     "height": 466
    },
    "id": "BegAG6hlO-rb",
    "outputId": "26807c2e-5fa9-497e-98cc-600ad473397d"
   },
   "outputs": [
    {
     "data": {
      "text/plain": [
       "<sklearn.metrics._plot.precision_recall_curve.PrecisionRecallDisplay at 0x7f87cb04d3f0>"
      ]
     },
     "execution_count": 290,
     "metadata": {},
     "output_type": "execute_result"
    },
    {
     "data": {
      "image/png": "[encoded data removed]",
      "text/plain": [
       "<Figure size 640x480 with 1 Axes>"
      ]
     },
     "metadata": {},
     "output_type": "display_data"
    }
   ],
   "source": [
    "PrecisionRecallDisplay.from_predictions(\n",
    "    df[mask_valid][TARGET].values, \n",
    "    df[mask_valid][PRED].values, \n",
    ")\n",
    "# print(classification_report(df[mask_valid][TARGET].values , clf.predict(df[mask_valid][BERT_FEATURES])))"
   ]
  },
  {
   "cell_type": "code",
   "execution_count": 291,
   "id": "fK-y9rE9O-rb",
   "metadata": {
    "ExecuteTime": {
     "end_time": "2023-05-09T17:24:17.775238Z",
     "start_time": "2023-05-09T17:24:17.562407Z"
    },
    "colab": {
     "base_uri": "https://localhost:8080/",
     "height": 466
    },
    "id": "fK-y9rE9O-rb",
    "outputId": "ded7c7d4-27d2-45fa-939c-0192a7bc618a"
   },
   "outputs": [
    {
     "data": {
      "text/plain": [
       "<sklearn.metrics._plot.precision_recall_curve.PrecisionRecallDisplay at 0x7f87d2ec1ea0>"
      ]
     },
     "execution_count": 291,
     "metadata": {},
     "output_type": "execute_result"
    },
    {
     "data": {
      "image/png": "[encoded data removed]",
      "text/plain": [
       "<Figure size 640x480 with 1 Axes>"
      ]
     },
     "metadata": {},
     "output_type": "display_data"
    }
   ],
   "source": [
    "PrecisionRecallDisplay.from_predictions(\n",
    "    df[mask_test][TARGET].values, \n",
    "    df[mask_test][PRED].values, \n",
    ")\n",
    "# print(classification_report(df[mask_test][TARGET].values , clf.predict(df[mask_test][BERT_FEATURES])))"
   ]
  },
  {
   "cell_type": "code",
   "execution_count": 292,
   "id": "zt0EcRXzs7Jb",
   "metadata": {
    "colab": {
     "base_uri": "https://localhost:8080/"
    },
    "id": "zt0EcRXzs7Jb",
    "outputId": "91f5898a-1304-4d5b-f990-d992b843d061"
   },
   "outputs": [
    {
     "name": "stdout",
     "output_type": "stream",
     "text": [
      "              precision    recall  f1-score   support\n",
      "\n",
      "           0       0.81      0.94      0.87        70\n",
      "           1       0.91      0.74      0.82        58\n",
      "\n",
      "    accuracy                           0.85       128\n",
      "   macro avg       0.86      0.84      0.85       128\n",
      "weighted avg       0.86      0.85      0.85       128\n",
      "\n",
      "threshold=0.599\n"
     ]
    },
    {
     "data": {
      "text/plain": [
       "0.7413793103448276"
      ]
     },
     "execution_count": 292,
     "metadata": {},
     "output_type": "execute_result"
    }
   ],
   "source": [
    "get_target_metric()"
   ]
  },
  {
   "cell_type": "markdown",
   "id": "dEZHHJpwRRpI",
   "metadata": {
    "id": "dEZHHJpwRRpI"
   },
   "source": [
    "## LGBM"
   ]
  },
  {
   "cell_type": "code",
   "execution_count": 427,
   "id": "L0pNSn7fRetO",
   "metadata": {
    "colab": {
     "base_uri": "https://localhost:8080/"
    },
    "id": "L0pNSn7fRetO",
    "outputId": "a4f980ef-e4c8-44c8-d1b0-4bc3def92bc3"
   },
   "outputs": [
    {
     "name": "stderr",
     "output_type": "stream",
     "text": [
      "/usr/local/lib/python3.10/dist-packages/lightgbm/sklearn.py:726: UserWarning: 'early_stopping_rounds' argument is deprecated and will be removed in a future release of LightGBM. Pass 'early_stopping()' callback via 'callbacks' argument instead.\n",
      "  _log_warning(\"'early_stopping_rounds' argument is deprecated and will be removed in a future release of LightGBM. \"\n",
      "/usr/local/lib/python3.10/dist-packages/lightgbm/sklearn.py:736: UserWarning: 'verbose' argument is deprecated and will be removed in a future release of LightGBM. Pass 'log_evaluation()' callback via 'callbacks' argument instead.\n",
      "  _log_warning(\"'verbose' argument is deprecated and will be removed in a future release of LightGBM. \"\n"
     ]
    },
    {
     "name": "stdout",
     "output_type": "stream",
     "text": [
      "[30]\ttrain's binary_logloss: 0.102619\tvalid's binary_logloss: 0.374368\n",
      "[60]\ttrain's binary_logloss: 0.0197774\tvalid's binary_logloss: 0.311258\n",
      "[90]\ttrain's binary_logloss: 0.00379856\tvalid's binary_logloss: 0.300331\n"
     ]
    }
   ],
   "source": [
    "params = {\n",
    "    'random_state': RANDOM_STATE,\n",
    "    'objective': \"binary\",\n",
    "    # 'learning_rate': 0.05,\n",
    "    # 'max_depth': 3\n",
    "}\n",
    "\n",
    "clf = LGBMClassifier(**params)\n",
    "\n",
    "fit_params = {\n",
    "    'eval_set': [\n",
    "        (df[mask_train][BERT_FEATURES], df[mask_train][TARGET]),\n",
    "        (df[mask_valid][BERT_FEATURES], df[mask_valid][TARGET])\n",
    "    ],\n",
    "    'eval_names': ['train', 'valid'],\n",
    "    'early_stopping_rounds': 50,\n",
    "    'verbose': 30,\n",
    "}\n",
    "\n",
    "clf.fit(df[mask_train][BERT_FEATURES], df[mask_train][TARGET], **fit_params)\n",
    "df[PRED] = clf.predict_proba(df[BERT_FEATURES])[:, 1]"
   ]
  },
  {
   "cell_type": "code",
   "execution_count": 428,
   "id": "X6JwOM9qtvAB",
   "metadata": {
    "colab": {
     "base_uri": "https://localhost:8080/",
     "height": 466
    },
    "id": "X6JwOM9qtvAB",
    "outputId": "54301eb4-f7d5-4449-eb7e-5868b35eabf6"
   },
   "outputs": [
    {
     "data": {
      "text/plain": [
       "<sklearn.metrics._plot.precision_recall_curve.PrecisionRecallDisplay at 0x7f87c8ceb0d0>"
      ]
     },
     "execution_count": 428,
     "metadata": {},
     "output_type": "execute_result"
    },
    {
     "data": {
      "image/png": "[encoded data removed]",
      "text/plain": [
       "<Figure size 640x480 with 1 Axes>"
      ]
     },
     "metadata": {},
     "output_type": "display_data"
    }
   ],
   "source": [
    "PrecisionRecallDisplay.from_predictions(\n",
    "    df[mask_train][TARGET].values, \n",
    "    df[mask_train][PRED].values, \n",
    ")\n",
    "# print(classification_report(df[mask_train][TARGET].values , clf.predict(df[mask_train][BERT_FEATURES])))"
   ]
  },
  {
   "cell_type": "code",
   "execution_count": 429,
   "id": "2YY7pP3BtvAP",
   "metadata": {
    "ExecuteTime": {
     "end_time": "2023-05-09T17:24:09.940638Z",
     "start_time": "2023-05-09T17:24:09.383217Z"
    },
    "colab": {
     "base_uri": "https://localhost:8080/",
     "height": 466
    },
    "id": "2YY7pP3BtvAP",
    "outputId": "a11cbd5c-d254-4e3d-8d4f-1e04c7793918"
   },
   "outputs": [
    {
     "data": {
      "text/plain": [
       "<sklearn.metrics._plot.precision_recall_curve.PrecisionRecallDisplay at 0x7f87c873ed70>"
      ]
     },
     "execution_count": 429,
     "metadata": {},
     "output_type": "execute_result"
    },
    {
     "data": {
      "image/png": "[encoded data removed]",
      "text/plain": [
       "<Figure size 640x480 with 1 Axes>"
      ]
     },
     "metadata": {},
     "output_type": "display_data"
    }
   ],
   "source": [
    "PrecisionRecallDisplay.from_predictions(\n",
    "    df[mask_valid][TARGET].values, \n",
    "    df[mask_valid][PRED].values, \n",
    ")\n",
    "# print(classification_report(df[mask_valid][TARGET].values , clf.predict(df[mask_valid][BERT_FEATURES])))"
   ]
  },
  {
   "cell_type": "code",
   "execution_count": 430,
   "id": "pcjbkWz3tvAP",
   "metadata": {
    "ExecuteTime": {
     "end_time": "2023-05-09T17:24:17.775238Z",
     "start_time": "2023-05-09T17:24:17.562407Z"
    },
    "colab": {
     "base_uri": "https://localhost:8080/",
     "height": 466
    },
    "id": "pcjbkWz3tvAP",
    "outputId": "99b9ce1e-48f5-43d2-cb18-a8a6b4c0002c"
   },
   "outputs": [
    {
     "data": {
      "text/plain": [
       "<sklearn.metrics._plot.precision_recall_curve.PrecisionRecallDisplay at 0x7f87c88a35e0>"
      ]
     },
     "execution_count": 430,
     "metadata": {},
     "output_type": "execute_result"
    },
    {
     "data": {
      "image/png": "[encoded data removed]",
      "text/plain": [
       "<Figure size 640x480 with 1 Axes>"
      ]
     },
     "metadata": {},
     "output_type": "display_data"
    }
   ],
   "source": [
    "PrecisionRecallDisplay.from_predictions(\n",
    "    df[mask_test][TARGET].values, \n",
    "    df[mask_test][PRED].values, \n",
    ")\n",
    "# print(classification_report(df[mask_test][TARGET].values , clf.predict(df[mask_test][BERT_FEATURES])))"
   ]
  },
  {
   "cell_type": "code",
   "execution_count": 431,
   "id": "l9yoHRG9tvAQ",
   "metadata": {
    "colab": {
     "base_uri": "https://localhost:8080/"
    },
    "id": "l9yoHRG9tvAQ",
    "outputId": "5269ae0b-da6e-4d69-f3f6-e132eda85f3e"
   },
   "outputs": [
    {
     "name": "stdout",
     "output_type": "stream",
     "text": [
      "              precision    recall  f1-score   support\n",
      "\n",
      "           0       0.82      0.91      0.86        70\n",
      "           1       0.88      0.76      0.81        58\n",
      "\n",
      "    accuracy                           0.84       128\n",
      "   macro avg       0.85      0.84      0.84       128\n",
      "weighted avg       0.85      0.84      0.84       128\n",
      "\n",
      "threshold=0.707\n"
     ]
    },
    {
     "data": {
      "text/plain": [
       "0.7586206896551724"
      ]
     },
     "execution_count": 431,
     "metadata": {},
     "output_type": "execute_result"
    }
   ],
   "source": [
    "get_target_metric()"
   ]
  },
  {
   "cell_type": "markdown",
   "id": "WofwD-slRZG0",
   "metadata": {
    "id": "WofwD-slRZG0"
   },
   "source": [
    "# BERT Encodings + SVM"
   ]
  },
  {
   "cell_type": "code",
   "execution_count": 419,
   "id": "LSGBrmF7Rfm-",
   "metadata": {
    "ExecuteTime": {
     "end_time": "2023-05-09T17:19:36.976338Z",
     "start_time": "2023-05-09T17:19:36.951017Z"
    },
    "id": "LSGBrmF7Rfm-"
   },
   "outputs": [],
   "source": [
    "clf = SVC(probability=True)\n",
    "\n",
    "clf.fit(df[mask_train][BERT_FEATURES], df[mask_train][TARGET])\n",
    "df[PRED] = clf.predict_proba(df[BERT_FEATURES])[:, 1]"
   ]
  },
  {
   "cell_type": "code",
   "execution_count": 420,
   "id": "LvIzrmw2t4ar",
   "metadata": {
    "colab": {
     "base_uri": "https://localhost:8080/",
     "height": 466
    },
    "id": "LvIzrmw2t4ar",
    "outputId": "fe40dcaf-19df-4cca-9acc-bd8af0aa9f42"
   },
   "outputs": [
    {
     "data": {
      "text/plain": [
       "<sklearn.metrics._plot.precision_recall_curve.PrecisionRecallDisplay at 0x7f87c8a84ac0>"
      ]
     },
     "execution_count": 420,
     "metadata": {},
     "output_type": "execute_result"
    },
    {
     "data": {
      "image/png": "[encoded data removed]",
      "text/plain": [
       "<Figure size 640x480 with 1 Axes>"
      ]
     },
     "metadata": {},
     "output_type": "display_data"
    }
   ],
   "source": [
    "PrecisionRecallDisplay.from_predictions(\n",
    "    df[mask_train][TARGET].values, \n",
    "    df[mask_train][PRED].values, \n",
    ")\n",
    "# print(classification_report(df[mask_train][TARGET].values , clf.predict(df[mask_train][BERT_FEATURES])))"
   ]
  },
  {
   "cell_type": "code",
   "execution_count": 421,
   "id": "UaWJkWxHt4as",
   "metadata": {
    "ExecuteTime": {
     "end_time": "2023-05-09T17:24:09.940638Z",
     "start_time": "2023-05-09T17:24:09.383217Z"
    },
    "colab": {
     "base_uri": "https://localhost:8080/",
     "height": 466
    },
    "id": "UaWJkWxHt4as",
    "outputId": "a6ce544d-fa46-4aa4-aece-124df442d090"
   },
   "outputs": [
    {
     "data": {
      "text/plain": [
       "<sklearn.metrics._plot.precision_recall_curve.PrecisionRecallDisplay at 0x7f87c8fc1630>"
      ]
     },
     "execution_count": 421,
     "metadata": {},
     "output_type": "execute_result"
    },
    {
     "data": {
      "image/png": "[encoded data removed]",
      "text/plain": [
       "<Figure size 640x480 with 1 Axes>"
      ]
     },
     "metadata": {},
     "output_type": "display_data"
    }
   ],
   "source": [
    "PrecisionRecallDisplay.from_predictions(\n",
    "    df[mask_valid][TARGET].values, \n",
    "    df[mask_valid][PRED].values, \n",
    ")\n",
    "# print(classification_report(df[mask_valid][TARGET].values , clf.predict(df[mask_valid][BERT_FEATURES])))"
   ]
  },
  {
   "cell_type": "code",
   "execution_count": 422,
   "id": "bXIRpcSut4as",
   "metadata": {
    "ExecuteTime": {
     "end_time": "2023-05-09T17:24:17.775238Z",
     "start_time": "2023-05-09T17:24:17.562407Z"
    },
    "colab": {
     "base_uri": "https://localhost:8080/",
     "height": 466
    },
    "id": "bXIRpcSut4as",
    "outputId": "f4e08ac2-fbce-4a6d-eb90-7b41d9cd0131"
   },
   "outputs": [
    {
     "data": {
      "text/plain": [
       "<sklearn.metrics._plot.precision_recall_curve.PrecisionRecallDisplay at 0x7f87c8c7e950>"
      ]
     },
     "execution_count": 422,
     "metadata": {},
     "output_type": "execute_result"
    },
    {
     "data": {
      "image/png": "[encoded data removed]",
      "text/plain": [
       "<Figure size 640x480 with 1 Axes>"
      ]
     },
     "metadata": {},
     "output_type": "display_data"
    }
   ],
   "source": [
    "PrecisionRecallDisplay.from_predictions(\n",
    "    df[mask_test][TARGET].values, \n",
    "    df[mask_test][PRED].values, \n",
    ")\n",
    "# print(classification_report(df[mask_test][TARGET].values , clf.predict(df[mask_test][BERT_FEATURES])))"
   ]
  },
  {
   "cell_type": "code",
   "execution_count": 423,
   "id": "8B5e35EUt4as",
   "metadata": {
    "colab": {
     "base_uri": "https://localhost:8080/"
    },
    "id": "8B5e35EUt4as",
    "outputId": "8a0bde3f-8dde-4367-de0f-454cd5a0cf9c"
   },
   "outputs": [
    {
     "name": "stdout",
     "output_type": "stream",
     "text": [
      "              precision    recall  f1-score   support\n",
      "\n",
      "           0       0.85      0.90      0.88        70\n",
      "           1       0.87      0.81      0.84        58\n",
      "\n",
      "    accuracy                           0.86       128\n",
      "   macro avg       0.86      0.86      0.86       128\n",
      "weighted avg       0.86      0.86      0.86       128\n",
      "\n",
      "threshold=0.667\n"
     ]
    },
    {
     "data": {
      "text/plain": [
       "0.8103448275862069"
      ]
     },
     "execution_count": 423,
     "metadata": {},
     "output_type": "execute_result"
    }
   ],
   "source": [
    "get_target_metric()"
   ]
  },
  {
   "cell_type": "markdown",
   "id": "oNHJht5J75GG",
   "metadata": {
    "id": "oNHJht5J75GG"
   },
   "source": [
    "# HGAT"
   ]
  },
  {
   "cell_type": "code",
   "execution_count": 1,
   "id": "IdgKkPSJ77_K",
   "metadata": {
    "ExecuteTime": {
     "end_time": "2023-06-07T07:43:04.039030Z",
     "start_time": "2023-06-07T07:43:04.017125Z"
    },
    "id": "IdgKkPSJ77_K"
   },
   "outputs": [
    {
     "ename": "NameError",
     "evalue": "name 'pd' is not defined",
     "output_type": "error",
     "traceback": [
      "\u001b[1;31m---------------------------------------------------------------------------\u001b[0m",
      "\u001b[1;31mNameError\u001b[0m                                 Traceback (most recent call last)",
      "Cell \u001b[1;32mIn[1], line 1\u001b[0m\n\u001b[1;32m----> 1\u001b[0m scores \u001b[38;5;241m=\u001b[39m \u001b[43mpd\u001b[49m\u001b[38;5;241m.\u001b[39mread_csv(BASE_PATH\u001b[38;5;241m/\u001b[39m\u001b[38;5;124m'\u001b[39m\u001b[38;5;124mHGAT-master/model/embeddings/software_requirements.emb2\u001b[39m\u001b[38;5;124m'\u001b[39m, sep\u001b[38;5;241m=\u001b[39m\u001b[38;5;124m'\u001b[39m\u001b[38;5;130;01m\\t\u001b[39;00m\u001b[38;5;124m'\u001b[39m, header\u001b[38;5;241m=\u001b[39m\u001b[38;5;28;01mNone\u001b[39;00m)\n\u001b[0;32m      2\u001b[0m scores \u001b[38;5;241m=\u001b[39m np\u001b[38;5;241m.\u001b[39mvstack(scores[\u001b[38;5;241m0\u001b[39m]\u001b[38;5;241m.\u001b[39mstr[\u001b[38;5;241m1\u001b[39m:\u001b[38;5;241m-\u001b[39m\u001b[38;5;241m1\u001b[39m]\u001b[38;5;241m.\u001b[39mstr\u001b[38;5;241m.\u001b[39msplit(\u001b[38;5;124m'\u001b[39m\u001b[38;5;124m,\u001b[39m\u001b[38;5;124m'\u001b[39m)\u001b[38;5;241m.\u001b[39mapply(\u001b[38;5;28;01mlambda\u001b[39;00m x: np\u001b[38;5;241m.\u001b[39marray([\u001b[38;5;28mfloat\u001b[39m(a) \u001b[38;5;28;01mfor\u001b[39;00m a \u001b[38;5;129;01min\u001b[39;00m x]))\u001b[38;5;241m.\u001b[39mvalues)\n\u001b[0;32m      3\u001b[0m df[PRED] \u001b[38;5;241m=\u001b[39m softmax(scores, axis\u001b[38;5;241m=\u001b[39m\u001b[38;5;241m1\u001b[39m)[:, \u001b[38;5;241m1\u001b[39m]\n",
      "\u001b[1;31mNameError\u001b[0m: name 'pd' is not defined"
     ]
    }
   ],
   "source": [
    "scores = pd.read_csv(BASE_PATH/'HGAT-master/model/embeddings/software_requirements.emb2', sep='\\t', header=None)\n",
    "scores = np.vstack(scores[0].str[1:-1].str.split(',').apply(lambda x: np.array([float(a) for a in x])).values)\n",
    "df[PRED] = softmax(scores, axis=1)[:, 1]"
   ]
  },
  {
   "cell_type": "code",
   "execution_count": 425,
   "id": "C3cVrxmU8P-h",
   "metadata": {
    "colab": {
     "base_uri": "https://localhost:8080/"
    },
    "id": "C3cVrxmU8P-h",
    "outputId": "2214cd5e-ccc3-4ab0-d9d7-c00373259386"
   },
   "outputs": [
    {
     "name": "stdout",
     "output_type": "stream",
     "text": [
      "              precision    recall  f1-score   support\n",
      "\n",
      "           0       0.82      0.91      0.86        70\n",
      "           1       0.88      0.76      0.81        58\n",
      "\n",
      "    accuracy                           0.84       128\n",
      "   macro avg       0.85      0.84      0.84       128\n",
      "weighted avg       0.85      0.84      0.84       128\n",
      "\n",
      "threshold=0.573\n"
     ]
    },
    {
     "data": {
      "text/plain": [
       "0.7586206896551724"
      ]
     },
     "execution_count": 425,
     "metadata": {},
     "output_type": "execute_result"
    }
   ],
   "source": [
    "get_target_metric()"
   ]
  }
 ],
 "metadata": {
  "accelerator": "GPU",
  "colab": {
   "gpuType": "T4",
   "provenance": [],
   "toc_visible": true
  },
  "gpuClass": "standard",
  "kernelspec": {
   "display_name": "Python 3 (ipykernel)",
   "language": "python",
   "name": "python3"
  },
  "language_info": {
   "codemirror_mode": {
    "name": "ipython",
    "version": 3
   },
   "file_extension": ".py",
   "mimetype": "text/x-python",
   "name": "python",
   "nbconvert_exporter": "python",
   "pygments_lexer": "ipython3",
   "version": "3.11.3"
  },
  "toc": {
   "base_numbering": 1,
   "nav_menu": {},
   "number_sections": true,
   "sideBar": true,
   "skip_h1_title": false,
   "title_cell": "Table of Contents",
   "title_sidebar": "Contents",
   "toc_cell": false,
   "toc_position": {},
   "toc_section_display": true,
   "toc_window_display": false
  },
  "widgets": {
   "application/vnd.jupyter.widget-state+json": {
    "043fb7c9b5e447d78ffd94e6bcfb1e45": {
     "model_module": "@jupyter-widgets/controls",
     "model_module_version": "1.5.0",
     "model_name": "HBoxModel",
     "state": {
      "_dom_classes": [],
      "_model_module": "@jupyter-widgets/controls",
      "_model_module_version": "1.5.0",
      "_model_name": "HBoxModel",
      "_view_count": null,
      "_view_module": "@jupyter-widgets/controls",
      "_view_module_version": "1.5.0",
      "_view_name": "HBoxView",
      "box_style": "",
      "children": [
       "IPY_MODEL_3215a7bcd1104219b9cf5021881ce16d",
       "IPY_MODEL_173a44f199a74b9981a22d3bfdc84307",
       "IPY_MODEL_966e4407a496428ebf65df8265550aeb"
      ],
      "layout": "IPY_MODEL_5d686c9859234e95bd19e6fac4fb6838"
     }
    },
    "07a1e0aec4fa4163a0e2ac8a38184a15": {
     "model_module": "@jupyter-widgets/controls",
     "model_module_version": "1.5.0",
     "model_name": "DescriptionStyleModel",
     "state": {
      "_model_module": "@jupyter-widgets/controls",
      "_model_module_version": "1.5.0",
      "_model_name": "DescriptionStyleModel",
      "_view_count": null,
      "_view_module": "@jupyter-widgets/base",
      "_view_module_version": "1.2.0",
      "_view_name": "StyleView",
      "description_width": ""
     }
    },
    "173a44f199a74b9981a22d3bfdc84307": {
     "model_module": "@jupyter-widgets/controls",
     "model_module_version": "1.5.0",
     "model_name": "FloatProgressModel",
     "state": {
      "_dom_classes": [],
      "_model_module": "@jupyter-widgets/controls",
      "_model_module_version": "1.5.0",
      "_model_name": "FloatProgressModel",
      "_view_count": null,
      "_view_module": "@jupyter-widgets/controls",
      "_view_module_version": "1.5.0",
      "_view_name": "ProgressView",
      "bar_style": "",
      "description": "",
      "description_tooltip": null,
      "layout": "IPY_MODEL_fe1788927ff843b3bd419ee0f3bd4b37",
      "max": 128,
      "min": 0,
      "orientation": "horizontal",
      "style": "IPY_MODEL_a40af947509842d58c4486c330e67cfc",
      "value": 128
     }
    },
    "1a87b6cc859e4db59f8af40d436d78d6": {
     "model_module": "@jupyter-widgets/base",
     "model_module_version": "1.2.0",
     "model_name": "LayoutModel",
     "state": {
      "_model_module": "@jupyter-widgets/base",
      "_model_module_version": "1.2.0",
      "_model_name": "LayoutModel",
      "_view_count": null,
      "_view_module": "@jupyter-widgets/base",
      "_view_module_version": "1.2.0",
      "_view_name": "LayoutView",
      "align_content": null,
      "align_items": null,
      "align_self": null,
      "border": null,
      "bottom": null,
      "display": null,
      "flex": null,
      "flex_flow": null,
      "grid_area": null,
      "grid_auto_columns": null,
      "grid_auto_flow": null,
      "grid_auto_rows": null,
      "grid_column": null,
      "grid_gap": null,
      "grid_row": null,
      "grid_template_areas": null,
      "grid_template_columns": null,
      "grid_template_rows": null,
      "height": null,
      "justify_content": null,
      "justify_items": null,
      "left": null,
      "margin": null,
      "max_height": null,
      "max_width": null,
      "min_height": null,
      "min_width": null,
      "object_fit": null,
      "object_position": null,
      "order": null,
      "overflow": null,
      "overflow_x": null,
      "overflow_y": null,
      "padding": null,
      "right": null,
      "top": null,
      "visibility": null,
      "width": null
     }
    },
    "2f36137877b643ef9ab8e9986a97ac88": {
     "model_module": "@jupyter-widgets/controls",
     "model_module_version": "1.5.0",
     "model_name": "FloatProgressModel",
     "state": {
      "_dom_classes": [],
      "_model_module": "@jupyter-widgets/controls",
      "_model_module_version": "1.5.0",
      "_model_name": "FloatProgressModel",
      "_view_count": null,
      "_view_module": "@jupyter-widgets/controls",
      "_view_module_version": "1.5.0",
      "_view_name": "ProgressView",
      "bar_style": "",
      "description": "",
      "description_tooltip": null,
      "layout": "IPY_MODEL_4b6c942687914fd09a3db78c8305b57c",
      "max": 700,
      "min": 0,
      "orientation": "horizontal",
      "style": "IPY_MODEL_7fa2e0c93beb4915906bb484d9920688",
      "value": 700
     }
    },
    "31fbf60505fb4fabbe9f68994391fbb9": {
     "model_module": "@jupyter-widgets/controls",
     "model_module_version": "1.5.0",
     "model_name": "HTMLModel",
     "state": {
      "_dom_classes": [],
      "_model_module": "@jupyter-widgets/controls",
      "_model_module_version": "1.5.0",
      "_model_name": "HTMLModel",
      "_view_count": null,
      "_view_module": "@jupyter-widgets/controls",
      "_view_module_version": "1.5.0",
      "_view_name": "HTMLView",
      "description": "",
      "description_tooltip": null,
      "layout": "IPY_MODEL_1a87b6cc859e4db59f8af40d436d78d6",
      "placeholder": "​",
      "style": "IPY_MODEL_c6fad3863cff4c72a3c922319a102be1",
      "value": " 663/700 [00:00&lt;00:00, 1567.85 examples/s]"
     }
    },
    "3215a7bcd1104219b9cf5021881ce16d": {
     "model_module": "@jupyter-widgets/controls",
     "model_module_version": "1.5.0",
     "model_name": "HTMLModel",
     "state": {
      "_dom_classes": [],
      "_model_module": "@jupyter-widgets/controls",
      "_model_module_version": "1.5.0",
      "_model_name": "HTMLModel",
      "_view_count": null,
      "_view_module": "@jupyter-widgets/controls",
      "_view_module_version": "1.5.0",
      "_view_name": "HTMLView",
      "description": "",
      "description_tooltip": null,
      "layout": "IPY_MODEL_eb7da4051b184d00a08fba60a72ab767",
      "placeholder": "​",
      "style": "IPY_MODEL_4b4a30123eec48e9855c57dada218bb6",
      "value": "Map: 100%"
     }
    },
    "339c3a3bedf04b4a99cff3426df91830": {
     "model_module": "@jupyter-widgets/controls",
     "model_module_version": "1.5.0",
     "model_name": "DescriptionStyleModel",
     "state": {
      "_model_module": "@jupyter-widgets/controls",
      "_model_module_version": "1.5.0",
      "_model_name": "DescriptionStyleModel",
      "_view_count": null,
      "_view_module": "@jupyter-widgets/base",
      "_view_module_version": "1.2.0",
      "_view_name": "StyleView",
      "description_width": ""
     }
    },
    "398a3980c12142fc9407d913e2b87008": {
     "model_module": "@jupyter-widgets/controls",
     "model_module_version": "1.5.0",
     "model_name": "HTMLModel",
     "state": {
      "_dom_classes": [],
      "_model_module": "@jupyter-widgets/controls",
      "_model_module_version": "1.5.0",
      "_model_name": "HTMLModel",
      "_view_count": null,
      "_view_module": "@jupyter-widgets/controls",
      "_view_module_version": "1.5.0",
      "_view_name": "HTMLView",
      "description": "",
      "description_tooltip": null,
      "layout": "IPY_MODEL_ba0133d3afeb4a7e847befe80662685d",
      "placeholder": "​",
      "style": "IPY_MODEL_c188512fdad04677bbec3db15a38002b",
      "value": "Map:  13%"
     }
    },
    "3c66744131d44fe1b1d5ccda9e0607ee": {
     "model_module": "@jupyter-widgets/controls",
     "model_module_version": "1.5.0",
     "model_name": "HBoxModel",
     "state": {
      "_dom_classes": [],
      "_model_module": "@jupyter-widgets/controls",
      "_model_module_version": "1.5.0",
      "_model_name": "HBoxModel",
      "_view_count": null,
      "_view_module": "@jupyter-widgets/controls",
      "_view_module_version": "1.5.0",
      "_view_name": "HBoxView",
      "box_style": "",
      "children": [
       "IPY_MODEL_398a3980c12142fc9407d913e2b87008",
       "IPY_MODEL_d32cc40d3eeb4d32bb8bfdb367af7144",
       "IPY_MODEL_89dc7d7b60634560a70f14037771f5c7"
      ],
      "layout": "IPY_MODEL_49009a9bf2f44d489d8fb070ded05610"
     }
    },
    "49009a9bf2f44d489d8fb070ded05610": {
     "model_module": "@jupyter-widgets/base",
     "model_module_version": "1.2.0",
     "model_name": "LayoutModel",
     "state": {
      "_model_module": "@jupyter-widgets/base",
      "_model_module_version": "1.2.0",
      "_model_name": "LayoutModel",
      "_view_count": null,
      "_view_module": "@jupyter-widgets/base",
      "_view_module_version": "1.2.0",
      "_view_name": "LayoutView",
      "align_content": null,
      "align_items": null,
      "align_self": null,
      "border": null,
      "bottom": null,
      "display": null,
      "flex": null,
      "flex_flow": null,
      "grid_area": null,
      "grid_auto_columns": null,
      "grid_auto_flow": null,
      "grid_auto_rows": null,
      "grid_column": null,
      "grid_gap": null,
      "grid_row": null,
      "grid_template_areas": null,
      "grid_template_columns": null,
      "grid_template_rows": null,
      "height": null,
      "justify_content": null,
      "justify_items": null,
      "left": null,
      "margin": null,
      "max_height": null,
      "max_width": null,
      "min_height": null,
      "min_width": null,
      "object_fit": null,
      "object_position": null,
      "order": null,
      "overflow": null,
      "overflow_x": null,
      "overflow_y": null,
      "padding": null,
      "right": null,
      "top": null,
      "visibility": "hidden",
      "width": null
     }
    },
    "4b4a30123eec48e9855c57dada218bb6": {
     "model_module": "@jupyter-widgets/controls",
     "model_module_version": "1.5.0",
     "model_name": "DescriptionStyleModel",
     "state": {
      "_model_module": "@jupyter-widgets/controls",
      "_model_module_version": "1.5.0",
      "_model_name": "DescriptionStyleModel",
      "_view_count": null,
      "_view_module": "@jupyter-widgets/base",
      "_view_module_version": "1.2.0",
      "_view_name": "StyleView",
      "description_width": ""
     }
    },
    "4b6c942687914fd09a3db78c8305b57c": {
     "model_module": "@jupyter-widgets/base",
     "model_module_version": "1.2.0",
     "model_name": "LayoutModel",
     "state": {
      "_model_module": "@jupyter-widgets/base",
      "_model_module_version": "1.2.0",
      "_model_name": "LayoutModel",
      "_view_count": null,
      "_view_module": "@jupyter-widgets/base",
      "_view_module_version": "1.2.0",
      "_view_name": "LayoutView",
      "align_content": null,
      "align_items": null,
      "align_self": null,
      "border": null,
      "bottom": null,
      "display": null,
      "flex": null,
      "flex_flow": null,
      "grid_area": null,
      "grid_auto_columns": null,
      "grid_auto_flow": null,
      "grid_auto_rows": null,
      "grid_column": null,
      "grid_gap": null,
      "grid_row": null,
      "grid_template_areas": null,
      "grid_template_columns": null,
      "grid_template_rows": null,
      "height": null,
      "justify_content": null,
      "justify_items": null,
      "left": null,
      "margin": null,
      "max_height": null,
      "max_width": null,
      "min_height": null,
      "min_width": null,
      "object_fit": null,
      "object_position": null,
      "order": null,
      "overflow": null,
      "overflow_x": null,
      "overflow_y": null,
      "padding": null,
      "right": null,
      "top": null,
      "visibility": null,
      "width": null
     }
    },
    "5d686c9859234e95bd19e6fac4fb6838": {
     "model_module": "@jupyter-widgets/base",
     "model_module_version": "1.2.0",
     "model_name": "LayoutModel",
     "state": {
      "_model_module": "@jupyter-widgets/base",
      "_model_module_version": "1.2.0",
      "_model_name": "LayoutModel",
      "_view_count": null,
      "_view_module": "@jupyter-widgets/base",
      "_view_module_version": "1.2.0",
      "_view_name": "LayoutView",
      "align_content": null,
      "align_items": null,
      "align_self": null,
      "border": null,
      "bottom": null,
      "display": null,
      "flex": null,
      "flex_flow": null,
      "grid_area": null,
      "grid_auto_columns": null,
      "grid_auto_flow": null,
      "grid_auto_rows": null,
      "grid_column": null,
      "grid_gap": null,
      "grid_row": null,
      "grid_template_areas": null,
      "grid_template_columns": null,
      "grid_template_rows": null,
      "height": null,
      "justify_content": null,
      "justify_items": null,
      "left": null,
      "margin": null,
      "max_height": null,
      "max_width": null,
      "min_height": null,
      "min_width": null,
      "object_fit": null,
      "object_position": null,
      "order": null,
      "overflow": null,
      "overflow_x": null,
      "overflow_y": null,
      "padding": null,
      "right": null,
      "top": null,
      "visibility": "hidden",
      "width": null
     }
    },
    "63f586a5908841ef95a1f8ed098f8b36": {
     "model_module": "@jupyter-widgets/base",
     "model_module_version": "1.2.0",
     "model_name": "LayoutModel",
     "state": {
      "_model_module": "@jupyter-widgets/base",
      "_model_module_version": "1.2.0",
      "_model_name": "LayoutModel",
      "_view_count": null,
      "_view_module": "@jupyter-widgets/base",
      "_view_module_version": "1.2.0",
      "_view_name": "LayoutView",
      "align_content": null,
      "align_items": null,
      "align_self": null,
      "border": null,
      "bottom": null,
      "display": null,
      "flex": null,
      "flex_flow": null,
      "grid_area": null,
      "grid_auto_columns": null,
      "grid_auto_flow": null,
      "grid_auto_rows": null,
      "grid_column": null,
      "grid_gap": null,
      "grid_row": null,
      "grid_template_areas": null,
      "grid_template_columns": null,
      "grid_template_rows": null,
      "height": null,
      "justify_content": null,
      "justify_items": null,
      "left": null,
      "margin": null,
      "max_height": null,
      "max_width": null,
      "min_height": null,
      "min_width": null,
      "object_fit": null,
      "object_position": null,
      "order": null,
      "overflow": null,
      "overflow_x": null,
      "overflow_y": null,
      "padding": null,
      "right": null,
      "top": null,
      "visibility": null,
      "width": null
     }
    },
    "6b00b325c5d743b29db732a9b63451cc": {
     "model_module": "@jupyter-widgets/controls",
     "model_module_version": "1.5.0",
     "model_name": "DescriptionStyleModel",
     "state": {
      "_model_module": "@jupyter-widgets/controls",
      "_model_module_version": "1.5.0",
      "_model_name": "DescriptionStyleModel",
      "_view_count": null,
      "_view_module": "@jupyter-widgets/base",
      "_view_module_version": "1.2.0",
      "_view_name": "StyleView",
      "description_width": ""
     }
    },
    "6e9a6178a5f249bcab077f4824d9419c": {
     "model_module": "@jupyter-widgets/base",
     "model_module_version": "1.2.0",
     "model_name": "LayoutModel",
     "state": {
      "_model_module": "@jupyter-widgets/base",
      "_model_module_version": "1.2.0",
      "_model_name": "LayoutModel",
      "_view_count": null,
      "_view_module": "@jupyter-widgets/base",
      "_view_module_version": "1.2.0",
      "_view_name": "LayoutView",
      "align_content": null,
      "align_items": null,
      "align_self": null,
      "border": null,
      "bottom": null,
      "display": null,
      "flex": null,
      "flex_flow": null,
      "grid_area": null,
      "grid_auto_columns": null,
      "grid_auto_flow": null,
      "grid_auto_rows": null,
      "grid_column": null,
      "grid_gap": null,
      "grid_row": null,
      "grid_template_areas": null,
      "grid_template_columns": null,
      "grid_template_rows": null,
      "height": null,
      "justify_content": null,
      "justify_items": null,
      "left": null,
      "margin": null,
      "max_height": null,
      "max_width": null,
      "min_height": null,
      "min_width": null,
      "object_fit": null,
      "object_position": null,
      "order": null,
      "overflow": null,
      "overflow_x": null,
      "overflow_y": null,
      "padding": null,
      "right": null,
      "top": null,
      "visibility": null,
      "width": null
     }
    },
    "7fa2e0c93beb4915906bb484d9920688": {
     "model_module": "@jupyter-widgets/controls",
     "model_module_version": "1.5.0",
     "model_name": "ProgressStyleModel",
     "state": {
      "_model_module": "@jupyter-widgets/controls",
      "_model_module_version": "1.5.0",
      "_model_name": "ProgressStyleModel",
      "_view_count": null,
      "_view_module": "@jupyter-widgets/base",
      "_view_module_version": "1.2.0",
      "_view_name": "StyleView",
      "bar_color": null,
      "description_width": ""
     }
    },
    "89dc7d7b60634560a70f14037771f5c7": {
     "model_module": "@jupyter-widgets/controls",
     "model_module_version": "1.5.0",
     "model_name": "HTMLModel",
     "state": {
      "_dom_classes": [],
      "_model_module": "@jupyter-widgets/controls",
      "_model_module_version": "1.5.0",
      "_model_name": "HTMLModel",
      "_view_count": null,
      "_view_module": "@jupyter-widgets/controls",
      "_view_module_version": "1.5.0",
      "_view_name": "HTMLView",
      "description": "",
      "description_tooltip": null,
      "layout": "IPY_MODEL_63f586a5908841ef95a1f8ed098f8b36",
      "placeholder": "​",
      "style": "IPY_MODEL_339c3a3bedf04b4a99cff3426df91830",
      "value": " 18/141 [00:00&lt;00:00, 164.36 examples/s]"
     }
    },
    "966e4407a496428ebf65df8265550aeb": {
     "model_module": "@jupyter-widgets/controls",
     "model_module_version": "1.5.0",
     "model_name": "HTMLModel",
     "state": {
      "_dom_classes": [],
      "_model_module": "@jupyter-widgets/controls",
      "_model_module_version": "1.5.0",
      "_model_name": "HTMLModel",
      "_view_count": null,
      "_view_module": "@jupyter-widgets/controls",
      "_view_module_version": "1.5.0",
      "_view_name": "HTMLView",
      "description": "",
      "description_tooltip": null,
      "layout": "IPY_MODEL_97fb6a70a86a435fa32e5dcaa63f5477",
      "placeholder": "​",
      "style": "IPY_MODEL_6b00b325c5d743b29db732a9b63451cc",
      "value": " 128/128 [00:00&lt;00:00, 815.99 examples/s]"
     }
    },
    "97fb6a70a86a435fa32e5dcaa63f5477": {
     "model_module": "@jupyter-widgets/base",
     "model_module_version": "1.2.0",
     "model_name": "LayoutModel",
     "state": {
      "_model_module": "@jupyter-widgets/base",
      "_model_module_version": "1.2.0",
      "_model_name": "LayoutModel",
      "_view_count": null,
      "_view_module": "@jupyter-widgets/base",
      "_view_module_version": "1.2.0",
      "_view_name": "LayoutView",
      "align_content": null,
      "align_items": null,
      "align_self": null,
      "border": null,
      "bottom": null,
      "display": null,
      "flex": null,
      "flex_flow": null,
      "grid_area": null,
      "grid_auto_columns": null,
      "grid_auto_flow": null,
      "grid_auto_rows": null,
      "grid_column": null,
      "grid_gap": null,
      "grid_row": null,
      "grid_template_areas": null,
      "grid_template_columns": null,
      "grid_template_rows": null,
      "height": null,
      "justify_content": null,
      "justify_items": null,
      "left": null,
      "margin": null,
      "max_height": null,
      "max_width": null,
      "min_height": null,
      "min_width": null,
      "object_fit": null,
      "object_position": null,
      "order": null,
      "overflow": null,
      "overflow_x": null,
      "overflow_y": null,
      "padding": null,
      "right": null,
      "top": null,
      "visibility": null,
      "width": null
     }
    },
    "a0ca716ef5a0401fb8d8e3c59f0bb471": {
     "model_module": "@jupyter-widgets/controls",
     "model_module_version": "1.5.0",
     "model_name": "HTMLModel",
     "state": {
      "_dom_classes": [],
      "_model_module": "@jupyter-widgets/controls",
      "_model_module_version": "1.5.0",
      "_model_name": "HTMLModel",
      "_view_count": null,
      "_view_module": "@jupyter-widgets/controls",
      "_view_module_version": "1.5.0",
      "_view_name": "HTMLView",
      "description": "",
      "description_tooltip": null,
      "layout": "IPY_MODEL_bb224e55d02f4a3cb2b685df4a1af757",
      "placeholder": "​",
      "style": "IPY_MODEL_07a1e0aec4fa4163a0e2ac8a38184a15",
      "value": "Map:  95%"
     }
    },
    "a40af947509842d58c4486c330e67cfc": {
     "model_module": "@jupyter-widgets/controls",
     "model_module_version": "1.5.0",
     "model_name": "ProgressStyleModel",
     "state": {
      "_model_module": "@jupyter-widgets/controls",
      "_model_module_version": "1.5.0",
      "_model_name": "ProgressStyleModel",
      "_view_count": null,
      "_view_module": "@jupyter-widgets/base",
      "_view_module_version": "1.2.0",
      "_view_name": "StyleView",
      "bar_color": null,
      "description_width": ""
     }
    },
    "ae9f372599ee40fe9d173fd6535c540e": {
     "model_module": "@jupyter-widgets/controls",
     "model_module_version": "1.5.0",
     "model_name": "HBoxModel",
     "state": {
      "_dom_classes": [],
      "_model_module": "@jupyter-widgets/controls",
      "_model_module_version": "1.5.0",
      "_model_name": "HBoxModel",
      "_view_count": null,
      "_view_module": "@jupyter-widgets/controls",
      "_view_module_version": "1.5.0",
      "_view_name": "HBoxView",
      "box_style": "",
      "children": [
       "IPY_MODEL_a0ca716ef5a0401fb8d8e3c59f0bb471",
       "IPY_MODEL_2f36137877b643ef9ab8e9986a97ac88",
       "IPY_MODEL_31fbf60505fb4fabbe9f68994391fbb9"
      ],
      "layout": "IPY_MODEL_e8d41c74b0bb42408b6aa7fe17f0b96f"
     }
    },
    "b09064a293c94323b807a2260afbd10c": {
     "model_module": "@jupyter-widgets/controls",
     "model_module_version": "1.5.0",
     "model_name": "ProgressStyleModel",
     "state": {
      "_model_module": "@jupyter-widgets/controls",
      "_model_module_version": "1.5.0",
      "_model_name": "ProgressStyleModel",
      "_view_count": null,
      "_view_module": "@jupyter-widgets/base",
      "_view_module_version": "1.2.0",
      "_view_name": "StyleView",
      "bar_color": null,
      "description_width": ""
     }
    },
    "ba0133d3afeb4a7e847befe80662685d": {
     "model_module": "@jupyter-widgets/base",
     "model_module_version": "1.2.0",
     "model_name": "LayoutModel",
     "state": {
      "_model_module": "@jupyter-widgets/base",
      "_model_module_version": "1.2.0",
      "_model_name": "LayoutModel",
      "_view_count": null,
      "_view_module": "@jupyter-widgets/base",
      "_view_module_version": "1.2.0",
      "_view_name": "LayoutView",
      "align_content": null,
      "align_items": null,
      "align_self": null,
      "border": null,
      "bottom": null,
      "display": null,
      "flex": null,
      "flex_flow": null,
      "grid_area": null,
      "grid_auto_columns": null,
      "grid_auto_flow": null,
      "grid_auto_rows": null,
      "grid_column": null,
      "grid_gap": null,
      "grid_row": null,
      "grid_template_areas": null,
      "grid_template_columns": null,
      "grid_template_rows": null,
      "height": null,
      "justify_content": null,
      "justify_items": null,
      "left": null,
      "margin": null,
      "max_height": null,
      "max_width": null,
      "min_height": null,
      "min_width": null,
      "object_fit": null,
      "object_position": null,
      "order": null,
      "overflow": null,
      "overflow_x": null,
      "overflow_y": null,
      "padding": null,
      "right": null,
      "top": null,
      "visibility": null,
      "width": null
     }
    },
    "bb224e55d02f4a3cb2b685df4a1af757": {
     "model_module": "@jupyter-widgets/base",
     "model_module_version": "1.2.0",
     "model_name": "LayoutModel",
     "state": {
      "_model_module": "@jupyter-widgets/base",
      "_model_module_version": "1.2.0",
      "_model_name": "LayoutModel",
      "_view_count": null,
      "_view_module": "@jupyter-widgets/base",
      "_view_module_version": "1.2.0",
      "_view_name": "LayoutView",
      "align_content": null,
      "align_items": null,
      "align_self": null,
      "border": null,
      "bottom": null,
      "display": null,
      "flex": null,
      "flex_flow": null,
      "grid_area": null,
      "grid_auto_columns": null,
      "grid_auto_flow": null,
      "grid_auto_rows": null,
      "grid_column": null,
      "grid_gap": null,
      "grid_row": null,
      "grid_template_areas": null,
      "grid_template_columns": null,
      "grid_template_rows": null,
      "height": null,
      "justify_content": null,
      "justify_items": null,
      "left": null,
      "margin": null,
      "max_height": null,
      "max_width": null,
      "min_height": null,
      "min_width": null,
      "object_fit": null,
      "object_position": null,
      "order": null,
      "overflow": null,
      "overflow_x": null,
      "overflow_y": null,
      "padding": null,
      "right": null,
      "top": null,
      "visibility": null,
      "width": null
     }
    },
    "c188512fdad04677bbec3db15a38002b": {
     "model_module": "@jupyter-widgets/controls",
     "model_module_version": "1.5.0",
     "model_name": "DescriptionStyleModel",
     "state": {
      "_model_module": "@jupyter-widgets/controls",
      "_model_module_version": "1.5.0",
      "_model_name": "DescriptionStyleModel",
      "_view_count": null,
      "_view_module": "@jupyter-widgets/base",
      "_view_module_version": "1.2.0",
      "_view_name": "StyleView",
      "description_width": ""
     }
    },
    "c6fad3863cff4c72a3c922319a102be1": {
     "model_module": "@jupyter-widgets/controls",
     "model_module_version": "1.5.0",
     "model_name": "DescriptionStyleModel",
     "state": {
      "_model_module": "@jupyter-widgets/controls",
      "_model_module_version": "1.5.0",
      "_model_name": "DescriptionStyleModel",
      "_view_count": null,
      "_view_module": "@jupyter-widgets/base",
      "_view_module_version": "1.2.0",
      "_view_name": "StyleView",
      "description_width": ""
     }
    },
    "d32cc40d3eeb4d32bb8bfdb367af7144": {
     "model_module": "@jupyter-widgets/controls",
     "model_module_version": "1.5.0",
     "model_name": "FloatProgressModel",
     "state": {
      "_dom_classes": [],
      "_model_module": "@jupyter-widgets/controls",
      "_model_module_version": "1.5.0",
      "_model_name": "FloatProgressModel",
      "_view_count": null,
      "_view_module": "@jupyter-widgets/controls",
      "_view_module_version": "1.5.0",
      "_view_name": "ProgressView",
      "bar_style": "",
      "description": "",
      "description_tooltip": null,
      "layout": "IPY_MODEL_6e9a6178a5f249bcab077f4824d9419c",
      "max": 141,
      "min": 0,
      "orientation": "horizontal",
      "style": "IPY_MODEL_b09064a293c94323b807a2260afbd10c",
      "value": 141
     }
    },
    "e8d41c74b0bb42408b6aa7fe17f0b96f": {
     "model_module": "@jupyter-widgets/base",
     "model_module_version": "1.2.0",
     "model_name": "LayoutModel",
     "state": {
      "_model_module": "@jupyter-widgets/base",
      "_model_module_version": "1.2.0",
      "_model_name": "LayoutModel",
      "_view_count": null,
      "_view_module": "@jupyter-widgets/base",
      "_view_module_version": "1.2.0",
      "_view_name": "LayoutView",
      "align_content": null,
      "align_items": null,
      "align_self": null,
      "border": null,
      "bottom": null,
      "display": null,
      "flex": null,
      "flex_flow": null,
      "grid_area": null,
      "grid_auto_columns": null,
      "grid_auto_flow": null,
      "grid_auto_rows": null,
      "grid_column": null,
      "grid_gap": null,
      "grid_row": null,
      "grid_template_areas": null,
      "grid_template_columns": null,
      "grid_template_rows": null,
      "height": null,
      "justify_content": null,
      "justify_items": null,
      "left": null,
      "margin": null,
      "max_height": null,
      "max_width": null,
      "min_height": null,
      "min_width": null,
      "object_fit": null,
      "object_position": null,
      "order": null,
      "overflow": null,
      "overflow_x": null,
      "overflow_y": null,
      "padding": null,
      "right": null,
      "top": null,
      "visibility": "hidden",
      "width": null
     }
    },
    "eb7da4051b184d00a08fba60a72ab767": {
     "model_module": "@jupyter-widgets/base",
     "model_module_version": "1.2.0",
     "model_name": "LayoutModel",
     "state": {
      "_model_module": "@jupyter-widgets/base",
      "_model_module_version": "1.2.0",
      "_model_name": "LayoutModel",
      "_view_count": null,
      "_view_module": "@jupyter-widgets/base",
      "_view_module_version": "1.2.0",
      "_view_name": "LayoutView",
      "align_content": null,
      "align_items": null,
      "align_self": null,
      "border": null,
      "bottom": null,
      "display": null,
      "flex": null,
      "flex_flow": null,
      "grid_area": null,
      "grid_auto_columns": null,
      "grid_auto_flow": null,
      "grid_auto_rows": null,
      "grid_column": null,
      "grid_gap": null,
      "grid_row": null,
      "grid_template_areas": null,
      "grid_template_columns": null,
      "grid_template_rows": null,
      "height": null,
      "justify_content": null,
      "justify_items": null,
      "left": null,
      "margin": null,
      "max_height": null,
      "max_width": null,
      "min_height": null,
      "min_width": null,
      "object_fit": null,
      "object_position": null,
      "order": null,
      "overflow": null,
      "overflow_x": null,
      "overflow_y": null,
      "padding": null,
      "right": null,
      "top": null,
      "visibility": null,
      "width": null
     }
    },
    "fe1788927ff843b3bd419ee0f3bd4b37": {
     "model_module": "@jupyter-widgets/base",
     "model_module_version": "1.2.0",
     "model_name": "LayoutModel",
     "state": {
      "_model_module": "@jupyter-widgets/base",
      "_model_module_version": "1.2.0",
      "_model_name": "LayoutModel",
      "_view_count": null,
      "_view_module": "@jupyter-widgets/base",
      "_view_module_version": "1.2.0",
      "_view_name": "LayoutView",
      "align_content": null,
      "align_items": null,
      "align_self": null,
      "border": null,
      "bottom": null,
      "display": null,
      "flex": null,
      "flex_flow": null,
      "grid_area": null,
      "grid_auto_columns": null,
      "grid_auto_flow": null,
      "grid_auto_rows": null,
      "grid_column": null,
      "grid_gap": null,
      "grid_row": null,
      "grid_template_areas": null,
      "grid_template_columns": null,
      "grid_template_rows": null,
      "height": null,
      "justify_content": null,
      "justify_items": null,
      "left": null,
      "margin": null,
      "max_height": null,
      "max_width": null,
      "min_height": null,
      "min_width": null,
      "object_fit": null,
      "object_position": null,
      "order": null,
      "overflow": null,
      "overflow_x": null,
      "overflow_y": null,
      "padding": null,
      "right": null,
      "top": null,
      "visibility": null,
      "width": null
     }
    }
   }
  }
 },
 "nbformat": 4,
 "nbformat_minor": 5
}
