{
  "cells": [
    {
      "cell_type": "code",
      "source": [
        "from google.colab import drive\n",
        "drive.mount('/content/drive')"
      ],
      "metadata": {
        "colab": {
          "base_uri": "https://localhost:8080/"
        },
        "id": "OekT19YS9W74",
        "outputId": "6df60d52-7f66-4c05-9acb-8f36cc5b0c5a"
      },
      "id": "OekT19YS9W74",
      "execution_count": 1,
      "outputs": [
        {
          "output_type": "stream",
          "name": "stdout",
          "text": [
            "Mounted at /content/drive\n"
          ]
        }
      ]
    },
    {
      "cell_type": "code",
      "source": [
        "! pip install transformers==4.28.0 datasets evaluate catboost"
      ],
      "metadata": {
        "colab": {
          "base_uri": "https://localhost:8080/"
        },
        "id": "eYs1F56q9fAe",
        "outputId": "12b07b51-0561-4514-f8fd-f66cd964deb0"
      },
      "id": "eYs1F56q9fAe",
      "execution_count": 6,
      "outputs": [
        {
          "output_type": "stream",
          "name": "stdout",
          "text": [
            "Looking in indexes: https://pypi.org/simple, https://us-python.pkg.dev/colab-wheels/public/simple/\n",
            "Collecting transformers==4.28.0\n",
            "  Downloading transformers-4.28.0-py3-none-any.whl (7.0 MB)\n",
            "\u001b[2K     \u001b[90m━━━━━━━━━━━━━━━━━━━━━━━━━━━━━━━━━━━━━━━━\u001b[0m \u001b[32m7.0/7.0 MB\u001b[0m \u001b[31m27.4 MB/s\u001b[0m eta \u001b[36m0:00:00\u001b[0m\n",
            "\u001b[?25hCollecting datasets\n",
            "  Downloading datasets-2.12.0-py3-none-any.whl (474 kB)\n",
            "\u001b[2K     \u001b[90m━━━━━━━━━━━━━━━━━━━━━━━━━━━━━━━━━━━━━━\u001b[0m \u001b[32m474.6/474.6 kB\u001b[0m \u001b[31m37.7 MB/s\u001b[0m eta \u001b[36m0:00:00\u001b[0m\n",
            "\u001b[?25hCollecting evaluate\n",
            "  Downloading evaluate-0.4.0-py3-none-any.whl (81 kB)\n",
            "\u001b[2K     \u001b[90m━━━━━━━━━━━━━━━━━━━━━━━━━━━━━━━━━━━━━━━━\u001b[0m \u001b[32m81.4/81.4 kB\u001b[0m \u001b[31m7.6 MB/s\u001b[0m eta \u001b[36m0:00:00\u001b[0m\n",
            "\u001b[?25hCollecting catboost\n",
            "  Downloading catboost-1.2-cp310-cp310-manylinux2014_x86_64.whl (98.6 MB)\n",
            "\u001b[2K     \u001b[90m━━━━━━━━━━━━━━━━━━━━━━━━━━━━━━━━━━━━━━━━\u001b[0m \u001b[32m98.6/98.6 MB\u001b[0m \u001b[31m8.5 MB/s\u001b[0m eta \u001b[36m0:00:00\u001b[0m\n",
            "\u001b[?25hRequirement already satisfied: filelock in /usr/local/lib/python3.10/dist-packages (from transformers==4.28.0) (3.12.0)\n",
            "Collecting huggingface-hub<1.0,>=0.11.0 (from transformers==4.28.0)\n",
            "  Downloading huggingface_hub-0.15.1-py3-none-any.whl (236 kB)\n",
            "\u001b[2K     \u001b[90m━━━━━━━━━━━━━━━━━━━━━━━━━━━━━━━━━━━━━━\u001b[0m \u001b[32m236.8/236.8 kB\u001b[0m \u001b[31m24.8 MB/s\u001b[0m eta \u001b[36m0:00:00\u001b[0m\n",
            "\u001b[?25hRequirement already satisfied: numpy>=1.17 in /usr/local/lib/python3.10/dist-packages (from transformers==4.28.0) (1.22.4)\n",
            "Requirement already satisfied: packaging>=20.0 in /usr/local/lib/python3.10/dist-packages (from transformers==4.28.0) (23.1)\n",
            "Requirement already satisfied: pyyaml>=5.1 in /usr/local/lib/python3.10/dist-packages (from transformers==4.28.0) (6.0)\n",
            "Requirement already satisfied: regex!=2019.12.17 in /usr/local/lib/python3.10/dist-packages (from transformers==4.28.0) (2022.10.31)\n",
            "Requirement already satisfied: requests in /usr/local/lib/python3.10/dist-packages (from transformers==4.28.0) (2.27.1)\n",
            "Collecting tokenizers!=0.11.3,<0.14,>=0.11.1 (from transformers==4.28.0)\n",
            "  Downloading tokenizers-0.13.3-cp310-cp310-manylinux_2_17_x86_64.manylinux2014_x86_64.whl (7.8 MB)\n",
            "\u001b[2K     \u001b[90m━━━━━━━━━━━━━━━━━━━━━━━━━━━━━━━━━━━━━━━━\u001b[0m \u001b[32m7.8/7.8 MB\u001b[0m \u001b[31m78.5 MB/s\u001b[0m eta \u001b[36m0:00:00\u001b[0m\n",
            "\u001b[?25hRequirement already satisfied: tqdm>=4.27 in /usr/local/lib/python3.10/dist-packages (from transformers==4.28.0) (4.65.0)\n",
            "Requirement already satisfied: pyarrow>=8.0.0 in /usr/local/lib/python3.10/dist-packages (from datasets) (9.0.0)\n",
            "Collecting dill<0.3.7,>=0.3.0 (from datasets)\n",
            "  Downloading dill-0.3.6-py3-none-any.whl (110 kB)\n",
            "\u001b[2K     \u001b[90m━━━━━━━━━━━━━━━━━━━━━━━━━━━━━━━━━━━━━━\u001b[0m \u001b[32m110.5/110.5 kB\u001b[0m \u001b[31m11.3 MB/s\u001b[0m eta \u001b[36m0:00:00\u001b[0m\n",
            "\u001b[?25hRequirement already satisfied: pandas in /usr/local/lib/python3.10/dist-packages (from datasets) (1.5.3)\n",
            "Collecting xxhash (from datasets)\n",
            "  Downloading xxhash-3.2.0-cp310-cp310-manylinux_2_17_x86_64.manylinux2014_x86_64.whl (212 kB)\n",
            "\u001b[2K     \u001b[90m━━━━━━━━━━━━━━━━━━━━━━━━━━━━━━━━━━━━━━\u001b[0m \u001b[32m212.5/212.5 kB\u001b[0m \u001b[31m19.2 MB/s\u001b[0m eta \u001b[36m0:00:00\u001b[0m\n",
            "\u001b[?25hCollecting multiprocess (from datasets)\n",
            "  Downloading multiprocess-0.70.14-py310-none-any.whl (134 kB)\n",
            "\u001b[2K     \u001b[90m━━━━━━━━━━━━━━━━━━━━━━━━━━━━━━━━━━━━━━\u001b[0m \u001b[32m134.3/134.3 kB\u001b[0m \u001b[31m13.8 MB/s\u001b[0m eta \u001b[36m0:00:00\u001b[0m\n",
            "\u001b[?25hRequirement already satisfied: fsspec[http]>=2021.11.1 in /usr/local/lib/python3.10/dist-packages (from datasets) (2023.4.0)\n",
            "Collecting aiohttp (from datasets)\n",
            "  Downloading aiohttp-3.8.4-cp310-cp310-manylinux_2_17_x86_64.manylinux2014_x86_64.whl (1.0 MB)\n",
            "\u001b[2K     \u001b[90m━━━━━━━━━━━━━━━━━━━━━━━━━━━━━━━━━━━━━━━━\u001b[0m \u001b[32m1.0/1.0 MB\u001b[0m \u001b[31m42.1 MB/s\u001b[0m eta \u001b[36m0:00:00\u001b[0m\n",
            "\u001b[?25hCollecting responses<0.19 (from datasets)\n",
            "  Downloading responses-0.18.0-py3-none-any.whl (38 kB)\n",
            "Requirement already satisfied: graphviz in /usr/local/lib/python3.10/dist-packages (from catboost) (0.20.1)\n",
            "Requirement already satisfied: matplotlib in /usr/local/lib/python3.10/dist-packages (from catboost) (3.7.1)\n",
            "Requirement already satisfied: scipy in /usr/local/lib/python3.10/dist-packages (from catboost) (1.10.1)\n",
            "Requirement already satisfied: plotly in /usr/local/lib/python3.10/dist-packages (from catboost) (5.13.1)\n",
            "Requirement already satisfied: six in /usr/local/lib/python3.10/dist-packages (from catboost) (1.16.0)\n",
            "Requirement already satisfied: attrs>=17.3.0 in /usr/local/lib/python3.10/dist-packages (from aiohttp->datasets) (23.1.0)\n",
            "Requirement already satisfied: charset-normalizer<4.0,>=2.0 in /usr/local/lib/python3.10/dist-packages (from aiohttp->datasets) (2.0.12)\n",
            "Collecting multidict<7.0,>=4.5 (from aiohttp->datasets)\n",
            "  Downloading multidict-6.0.4-cp310-cp310-manylinux_2_17_x86_64.manylinux2014_x86_64.whl (114 kB)\n",
            "\u001b[2K     \u001b[90m━━━━━━━━━━━━━━━━━━━━━━━━━━━━━━━━━━━━━━\u001b[0m \u001b[32m114.5/114.5 kB\u001b[0m \u001b[31m11.7 MB/s\u001b[0m eta \u001b[36m0:00:00\u001b[0m\n",
            "\u001b[?25hCollecting async-timeout<5.0,>=4.0.0a3 (from aiohttp->datasets)\n",
            "  Downloading async_timeout-4.0.2-py3-none-any.whl (5.8 kB)\n",
            "Collecting yarl<2.0,>=1.0 (from aiohttp->datasets)\n",
            "  Downloading yarl-1.9.2-cp310-cp310-manylinux_2_17_x86_64.manylinux2014_x86_64.whl (268 kB)\n",
            "\u001b[2K     \u001b[90m━━━━━━━━━━━━━━━━━━━━━━━━━━━━━━━━━━━━━━\u001b[0m \u001b[32m268.8/268.8 kB\u001b[0m \u001b[31m25.3 MB/s\u001b[0m eta \u001b[36m0:00:00\u001b[0m\n",
            "\u001b[?25hCollecting frozenlist>=1.1.1 (from aiohttp->datasets)\n",
            "  Downloading frozenlist-1.3.3-cp310-cp310-manylinux_2_5_x86_64.manylinux1_x86_64.manylinux_2_17_x86_64.manylinux2014_x86_64.whl (149 kB)\n",
            "\u001b[2K     \u001b[90m━━━━━━━━━━━━━━━━━━━━━━━━━━━━━━━━━━━━━━\u001b[0m \u001b[32m149.6/149.6 kB\u001b[0m \u001b[31m16.7 MB/s\u001b[0m eta \u001b[36m0:00:00\u001b[0m\n",
            "\u001b[?25hCollecting aiosignal>=1.1.2 (from aiohttp->datasets)\n",
            "  Downloading aiosignal-1.3.1-py3-none-any.whl (7.6 kB)\n",
            "Requirement already satisfied: typing-extensions>=3.7.4.3 in /usr/local/lib/python3.10/dist-packages (from huggingface-hub<1.0,>=0.11.0->transformers==4.28.0) (4.5.0)\n",
            "Requirement already satisfied: python-dateutil>=2.8.1 in /usr/local/lib/python3.10/dist-packages (from pandas->datasets) (2.8.2)\n",
            "Requirement already satisfied: pytz>=2020.1 in /usr/local/lib/python3.10/dist-packages (from pandas->datasets) (2022.7.1)\n",
            "Requirement already satisfied: urllib3<1.27,>=1.21.1 in /usr/local/lib/python3.10/dist-packages (from requests->transformers==4.28.0) (1.26.15)\n",
            "Requirement already satisfied: certifi>=2017.4.17 in /usr/local/lib/python3.10/dist-packages (from requests->transformers==4.28.0) (2022.12.7)\n",
            "Requirement already satisfied: idna<4,>=2.5 in /usr/local/lib/python3.10/dist-packages (from requests->transformers==4.28.0) (3.4)\n",
            "Requirement already satisfied: contourpy>=1.0.1 in /usr/local/lib/python3.10/dist-packages (from matplotlib->catboost) (1.0.7)\n",
            "Requirement already satisfied: cycler>=0.10 in /usr/local/lib/python3.10/dist-packages (from matplotlib->catboost) (0.11.0)\n",
            "Requirement already satisfied: fonttools>=4.22.0 in /usr/local/lib/python3.10/dist-packages (from matplotlib->catboost) (4.39.3)\n",
            "Requirement already satisfied: kiwisolver>=1.0.1 in /usr/local/lib/python3.10/dist-packages (from matplotlib->catboost) (1.4.4)\n",
            "Requirement already satisfied: pillow>=6.2.0 in /usr/local/lib/python3.10/dist-packages (from matplotlib->catboost) (8.4.0)\n",
            "Requirement already satisfied: pyparsing>=2.3.1 in /usr/local/lib/python3.10/dist-packages (from matplotlib->catboost) (3.0.9)\n",
            "Requirement already satisfied: tenacity>=6.2.0 in /usr/local/lib/python3.10/dist-packages (from plotly->catboost) (8.2.2)\n",
            "Installing collected packages: tokenizers, xxhash, multidict, frozenlist, dill, async-timeout, yarl, responses, multiprocess, huggingface-hub, aiosignal, transformers, catboost, aiohttp, datasets, evaluate\n",
            "Successfully installed aiohttp-3.8.4 aiosignal-1.3.1 async-timeout-4.0.2 catboost-1.2 datasets-2.12.0 dill-0.3.6 evaluate-0.4.0 frozenlist-1.3.3 huggingface-hub-0.15.1 multidict-6.0.4 multiprocess-0.70.14 responses-0.18.0 tokenizers-0.13.3 transformers-4.28.0 xxhash-3.2.0 yarl-1.9.2\n"
          ]
        }
      ]
    },
    {
      "cell_type": "code",
      "source": [
        "! pip install --upgrade accelerate"
      ],
      "metadata": {
        "colab": {
          "base_uri": "https://localhost:8080/"
        },
        "id": "qSwPf5TaHL3F",
        "outputId": "665396f4-2c7f-4c39-d1af-f0a6d8e9c8ec"
      },
      "id": "qSwPf5TaHL3F",
      "execution_count": 7,
      "outputs": [
        {
          "output_type": "stream",
          "name": "stdout",
          "text": [
            "Looking in indexes: https://pypi.org/simple, https://us-python.pkg.dev/colab-wheels/public/simple/\n",
            "Collecting accelerate\n",
            "  Downloading accelerate-0.19.0-py3-none-any.whl (219 kB)\n",
            "\u001b[2K     \u001b[90m━━━━━━━━━━━━━━━━━━━━━━━━━━━━━━━━━━━━━━━\u001b[0m \u001b[32m219.1/219.1 kB\u001b[0m \u001b[31m3.6 MB/s\u001b[0m eta \u001b[36m0:00:00\u001b[0m\n",
            "\u001b[?25hRequirement already satisfied: numpy>=1.17 in /usr/local/lib/python3.10/dist-packages (from accelerate) (1.22.4)\n",
            "Requirement already satisfied: packaging>=20.0 in /usr/local/lib/python3.10/dist-packages (from accelerate) (23.1)\n",
            "Requirement already satisfied: psutil in /usr/local/lib/python3.10/dist-packages (from accelerate) (5.9.5)\n",
            "Requirement already satisfied: pyyaml in /usr/local/lib/python3.10/dist-packages (from accelerate) (6.0)\n",
            "Requirement already satisfied: torch>=1.6.0 in /usr/local/lib/python3.10/dist-packages (from accelerate) (2.0.1+cu118)\n",
            "Requirement already satisfied: filelock in /usr/local/lib/python3.10/dist-packages (from torch>=1.6.0->accelerate) (3.12.0)\n",
            "Requirement already satisfied: typing-extensions in /usr/local/lib/python3.10/dist-packages (from torch>=1.6.0->accelerate) (4.5.0)\n",
            "Requirement already satisfied: sympy in /usr/local/lib/python3.10/dist-packages (from torch>=1.6.0->accelerate) (1.11.1)\n",
            "Requirement already satisfied: networkx in /usr/local/lib/python3.10/dist-packages (from torch>=1.6.0->accelerate) (3.1)\n",
            "Requirement already satisfied: jinja2 in /usr/local/lib/python3.10/dist-packages (from torch>=1.6.0->accelerate) (3.1.2)\n",
            "Requirement already satisfied: triton==2.0.0 in /usr/local/lib/python3.10/dist-packages (from torch>=1.6.0->accelerate) (2.0.0)\n",
            "Requirement already satisfied: cmake in /usr/local/lib/python3.10/dist-packages (from triton==2.0.0->torch>=1.6.0->accelerate) (3.25.2)\n",
            "Requirement already satisfied: lit in /usr/local/lib/python3.10/dist-packages (from triton==2.0.0->torch>=1.6.0->accelerate) (16.0.5)\n",
            "Requirement already satisfied: MarkupSafe>=2.0 in /usr/local/lib/python3.10/dist-packages (from jinja2->torch>=1.6.0->accelerate) (2.1.2)\n",
            "Requirement already satisfied: mpmath>=0.19 in /usr/local/lib/python3.10/dist-packages (from sympy->torch>=1.6.0->accelerate) (1.3.0)\n",
            "Installing collected packages: accelerate\n",
            "Successfully installed accelerate-0.19.0\n"
          ]
        }
      ]
    },
    {
      "cell_type": "code",
      "source": [
        "from pathlib import Path \n",
        "BASE_PATH = Path('/content/drive/MyDrive/NLP2023/HW/Project/')\n",
        "PATH_TO_DATA = BASE_PATH/'data'\n",
        "PATH_TO_MODELS = BASE_PATH/'models'"
      ],
      "metadata": {
        "id": "0EkNwKnr9-n5"
      },
      "id": "0EkNwKnr9-n5",
      "execution_count": 8,
      "outputs": []
    },
    {
      "cell_type": "code",
      "execution_count": 9,
      "id": "67bf12e6",
      "metadata": {
        "ExecuteTime": {
          "end_time": "2023-05-09T17:27:49.484867Z",
          "start_time": "2023-05-09T17:27:49.475557Z"
        },
        "id": "67bf12e6"
      },
      "outputs": [],
      "source": [
        "import sys\n",
        "import os\n",
        "import gc\n",
        "import importlib\n",
        "import warnings\n",
        "warnings.simplefilter('ignore')\n",
        "\n",
        "import numpy as np\n",
        "import pandas as pd\n",
        "from scipy.special import softmax\n",
        "pd.set_option('display.max_colwidth', 300)\n",
        "\n",
        "import matplotlib.pyplot as plt\n",
        "import seaborn as sns\n",
        "\n",
        "from sklearn.metrics import accuracy_score, roc_auc_score, classification_report, confusion_matrix, PrecisionRecallDisplay\n",
        "from sklearn.metrics import precision_recall_curve, recall_score\n",
        "\n",
        "from sklearn.feature_extraction.text import TfidfVectorizer\n",
        "from sklearn.pipeline import make_pipeline\n",
        "from sklearn.decomposition import SparsePCA, PCA, TruncatedSVD\n",
        "from sklearn.svm import SVC\n",
        "from lightgbm import LGBMClassifier\n",
        "from catboost import CatBoostClassifier\n",
        "\n",
        "import torch\n",
        "from torch.utils.data import DataLoader\n",
        "import datasets\n",
        "import evaluate\n",
        "from datasets import Dataset\n",
        "from transformers import AutoTokenizer, AutoModelForSequenceClassification, TrainingArguments, Trainer\n",
        "from transformers import pipeline"
      ]
    },
    {
      "cell_type": "code",
      "execution_count": 10,
      "id": "d2df8449",
      "metadata": {
        "ExecuteTime": {
          "end_time": "2023-05-09T17:06:23.494937Z",
          "start_time": "2023-05-09T17:06:23.490755Z"
        },
        "id": "d2df8449"
      },
      "outputs": [],
      "source": [
        "TEST_SIZE = 0.2\n",
        "VAL_SIZE = 0.2\n",
        "TRAIN_SIZE = 1 - (TEST_SIZE + VAL_SIZE)\n",
        "RANDOM_STATE = 9\n",
        "PRECISION = 0.8"
      ]
    },
    {
      "cell_type": "code",
      "execution_count": 11,
      "id": "2ed00943",
      "metadata": {
        "ExecuteTime": {
          "end_time": "2023-05-09T16:21:02.557887Z",
          "start_time": "2023-05-09T16:21:02.474323Z"
        },
        "id": "2ed00943"
      },
      "outputs": [],
      "source": [
        "SAMPLE = 'sample'\n",
        "TARGET = 'bin_type'\n",
        "PRED = 'pred'\n",
        "TRAIN = 'train'\n",
        "VALID = 'valid'\n",
        "TEST = 'test'"
      ]
    },
    {
      "cell_type": "code",
      "source": [
        "def get_target_metric():\n",
        "    precision, recall, threshold = precision_recall_curve(\n",
        "        df[mask_valid][TARGET].values, \n",
        "        df[mask_valid][PRED].values\n",
        "    )\n",
        "    precision = precision[:-1]\n",
        "    recall = recall[1:]\n",
        "    threshold = threshold[precision > PRECISION][np.argmax(recall[precision > PRECISION])]\n",
        "    print(classification_report(\n",
        "        df[mask_test][TARGET].values, \n",
        "        df[mask_test][PRED].values > threshold\n",
        "    ))\n",
        "    print(f'{threshold=:.3f}')\n",
        "    return recall_score(df[mask_test][TARGET].values, df[mask_test][PRED].values > threshold)"
      ],
      "metadata": {
        "id": "Y3VpLWCi8LR6"
      },
      "id": "Y3VpLWCi8LR6",
      "execution_count": 12,
      "outputs": []
    },
    {
      "cell_type": "markdown",
      "id": "aeea9091",
      "metadata": {
        "id": "aeea9091"
      },
      "source": [
        "# Dataset"
      ]
    },
    {
      "cell_type": "code",
      "execution_count": 13,
      "id": "2d6579db",
      "metadata": {
        "ExecuteTime": {
          "end_time": "2023-05-09T16:21:03.073152Z",
          "start_time": "2023-05-09T16:21:02.564876Z"
        },
        "id": "2d6579db"
      },
      "outputs": [],
      "source": [
        "df = pd.read_csv(PATH_TO_DATA/'PROMISE_exp.csv', header=None, names=['id_project', 'req', 'type'])\n",
        "df['req'] = df['req'].str[1:-1].str.replace('\\t', ' ')\n",
        "df['bin_type'] = np.where(df['type'] == 'F', 'FR', 'NFR')"
      ]
    },
    {
      "cell_type": "code",
      "execution_count": 14,
      "id": "759cd2f9",
      "metadata": {
        "ExecuteTime": {
          "end_time": "2023-05-09T16:21:03.253917Z",
          "start_time": "2023-05-09T16:21:03.076148Z"
        },
        "colab": {
          "base_uri": "https://localhost:8080/",
          "height": 511
        },
        "id": "759cd2f9",
        "outputId": "bca34a9b-6088-49a9-d16b-7126727b09f6"
      },
      "outputs": [
        {
          "output_type": "stream",
          "name": "stdout",
          "text": [
            "969\n"
          ]
        },
        {
          "output_type": "execute_result",
          "data": {
            "text/plain": [
              "   id_project  \\\n",
              "0           1   \n",
              "1           1   \n",
              "2           1   \n",
              "3           1   \n",
              "4           1   \n",
              "5           1   \n",
              "6           1   \n",
              "7           1   \n",
              "8           1   \n",
              "9           1   \n",
              "\n",
              "                                                                                                                                                                                                           req  \\\n",
              "0                                                                                                                                                       The system shall refresh the display every 60 seconds.   \n",
              "1                                                                                                             The application shall match the color of the schema set forth by Department of Homeland Security   \n",
              "2                                              If projected  the data must be readable.  On a 10x10 projection screen  90% of viewers must be able to read Event / Activity data from a viewing distance of 30   \n",
              "3         The product shall be available during normal business hours. As long as the user has access to the client PC  the system will be available 99% of the time during the first six months of operation.   \n",
              "4  If projected  the data must be understandable. On a 10x10 projection screen  90% of viewers must be able to determine that Events or Activities are occuring in current time from a viewing distance of 100   \n",
              "5                         The product shall ensure that it can only be accessed by authorized users.  The product will be able to distinguish between authorized and unauthorized users in all access attempts   \n",
              "6                                     The product shall be intuitive and self-explanatory. 90% of new users shall be able to start the display of Events or Activities within 90 minutes of using the product.   \n",
              "7                                                                                                                                       The product shall respond fast to keep up-to-date data in the display.   \n",
              "8                                                                                                                The system shall have a MDI form that allows for the viewing of the graph and the data table.   \n",
              "9                                                                                                                                                 The system shall display Events in a vertical table by time.   \n",
              "\n",
              "  type bin_type  \n",
              "0   PE      NFR  \n",
              "1   LF      NFR  \n",
              "2   US      NFR  \n",
              "3    A      NFR  \n",
              "4   US      NFR  \n",
              "5   SE      NFR  \n",
              "6   US      NFR  \n",
              "7   PE      NFR  \n",
              "8    F       FR  \n",
              "9    F       FR  "
            ],
            "text/html": [
              "\n",
              "  <div id=\"df-a4a20547-2891-4efd-b0b2-f06868904676\">\n",
              "    <div class=\"colab-df-container\">\n",
              "      <div>\n",
              "<style scoped>\n",
              "    .dataframe tbody tr th:only-of-type {\n",
              "        vertical-align: middle;\n",
              "    }\n",
              "\n",
              "    .dataframe tbody tr th {\n",
              "        vertical-align: top;\n",
              "    }\n",
              "\n",
              "    .dataframe thead th {\n",
              "        text-align: right;\n",
              "    }\n",
              "</style>\n",
              "<table border=\"1\" class=\"dataframe\">\n",
              "  <thead>\n",
              "    <tr style=\"text-align: right;\">\n",
              "      <th></th>\n",
              "      <th>id_project</th>\n",
              "      <th>req</th>\n",
              "      <th>type</th>\n",
              "      <th>bin_type</th>\n",
              "    </tr>\n",
              "  </thead>\n",
              "  <tbody>\n",
              "    <tr>\n",
              "      <th>0</th>\n",
              "      <td>1</td>\n",
              "      <td>The system shall refresh the display every 60 seconds.</td>\n",
              "      <td>PE</td>\n",
              "      <td>NFR</td>\n",
              "    </tr>\n",
              "    <tr>\n",
              "      <th>1</th>\n",
              "      <td>1</td>\n",
              "      <td>The application shall match the color of the schema set forth by Department of Homeland Security</td>\n",
              "      <td>LF</td>\n",
              "      <td>NFR</td>\n",
              "    </tr>\n",
              "    <tr>\n",
              "      <th>2</th>\n",
              "      <td>1</td>\n",
              "      <td>If projected  the data must be readable.  On a 10x10 projection screen  90% of viewers must be able to read Event / Activity data from a viewing distance of 30</td>\n",
              "      <td>US</td>\n",
              "      <td>NFR</td>\n",
              "    </tr>\n",
              "    <tr>\n",
              "      <th>3</th>\n",
              "      <td>1</td>\n",
              "      <td>The product shall be available during normal business hours. As long as the user has access to the client PC  the system will be available 99% of the time during the first six months of operation.</td>\n",
              "      <td>A</td>\n",
              "      <td>NFR</td>\n",
              "    </tr>\n",
              "    <tr>\n",
              "      <th>4</th>\n",
              "      <td>1</td>\n",
              "      <td>If projected  the data must be understandable. On a 10x10 projection screen  90% of viewers must be able to determine that Events or Activities are occuring in current time from a viewing distance of 100</td>\n",
              "      <td>US</td>\n",
              "      <td>NFR</td>\n",
              "    </tr>\n",
              "    <tr>\n",
              "      <th>5</th>\n",
              "      <td>1</td>\n",
              "      <td>The product shall ensure that it can only be accessed by authorized users.  The product will be able to distinguish between authorized and unauthorized users in all access attempts</td>\n",
              "      <td>SE</td>\n",
              "      <td>NFR</td>\n",
              "    </tr>\n",
              "    <tr>\n",
              "      <th>6</th>\n",
              "      <td>1</td>\n",
              "      <td>The product shall be intuitive and self-explanatory. 90% of new users shall be able to start the display of Events or Activities within 90 minutes of using the product.</td>\n",
              "      <td>US</td>\n",
              "      <td>NFR</td>\n",
              "    </tr>\n",
              "    <tr>\n",
              "      <th>7</th>\n",
              "      <td>1</td>\n",
              "      <td>The product shall respond fast to keep up-to-date data in the display.</td>\n",
              "      <td>PE</td>\n",
              "      <td>NFR</td>\n",
              "    </tr>\n",
              "    <tr>\n",
              "      <th>8</th>\n",
              "      <td>1</td>\n",
              "      <td>The system shall have a MDI form that allows for the viewing of the graph and the data table.</td>\n",
              "      <td>F</td>\n",
              "      <td>FR</td>\n",
              "    </tr>\n",
              "    <tr>\n",
              "      <th>9</th>\n",
              "      <td>1</td>\n",
              "      <td>The system shall display Events in a vertical table by time.</td>\n",
              "      <td>F</td>\n",
              "      <td>FR</td>\n",
              "    </tr>\n",
              "  </tbody>\n",
              "</table>\n",
              "</div>\n",
              "      <button class=\"colab-df-convert\" onclick=\"convertToInteractive('df-a4a20547-2891-4efd-b0b2-f06868904676')\"\n",
              "              title=\"Convert this dataframe to an interactive table.\"\n",
              "              style=\"display:none;\">\n",
              "        \n",
              "  <svg xmlns=\"http://www.w3.org/2000/svg\" height=\"24px\"viewBox=\"0 0 24 24\"\n",
              "       width=\"24px\">\n",
              "    <path d=\"M0 0h24v24H0V0z\" fill=\"none\"/>\n",
              "    <path d=\"M18.56 5.44l.94 2.06.94-2.06 2.06-.94-2.06-.94-.94-2.06-.94 2.06-2.06.94zm-11 1L8.5 8.5l.94-2.06 2.06-.94-2.06-.94L8.5 2.5l-.94 2.06-2.06.94zm10 10l.94 2.06.94-2.06 2.06-.94-2.06-.94-.94-2.06-.94 2.06-2.06.94z\"/><path d=\"M17.41 7.96l-1.37-1.37c-.4-.4-.92-.59-1.43-.59-.52 0-1.04.2-1.43.59L10.3 9.45l-7.72 7.72c-.78.78-.78 2.05 0 2.83L4 21.41c.39.39.9.59 1.41.59.51 0 1.02-.2 1.41-.59l7.78-7.78 2.81-2.81c.8-.78.8-2.07 0-2.86zM5.41 20L4 18.59l7.72-7.72 1.47 1.35L5.41 20z\"/>\n",
              "  </svg>\n",
              "      </button>\n",
              "      \n",
              "  <style>\n",
              "    .colab-df-container {\n",
              "      display:flex;\n",
              "      flex-wrap:wrap;\n",
              "      gap: 12px;\n",
              "    }\n",
              "\n",
              "    .colab-df-convert {\n",
              "      background-color: #E8F0FE;\n",
              "      border: none;\n",
              "      border-radius: 50%;\n",
              "      cursor: pointer;\n",
              "      display: none;\n",
              "      fill: #1967D2;\n",
              "      height: 32px;\n",
              "      padding: 0 0 0 0;\n",
              "      width: 32px;\n",
              "    }\n",
              "\n",
              "    .colab-df-convert:hover {\n",
              "      background-color: #E2EBFA;\n",
              "      box-shadow: 0px 1px 2px rgba(60, 64, 67, 0.3), 0px 1px 3px 1px rgba(60, 64, 67, 0.15);\n",
              "      fill: #174EA6;\n",
              "    }\n",
              "\n",
              "    [theme=dark] .colab-df-convert {\n",
              "      background-color: #3B4455;\n",
              "      fill: #D2E3FC;\n",
              "    }\n",
              "\n",
              "    [theme=dark] .colab-df-convert:hover {\n",
              "      background-color: #434B5C;\n",
              "      box-shadow: 0px 1px 3px 1px rgba(0, 0, 0, 0.15);\n",
              "      filter: drop-shadow(0px 1px 2px rgba(0, 0, 0, 0.3));\n",
              "      fill: #FFFFFF;\n",
              "    }\n",
              "  </style>\n",
              "\n",
              "      <script>\n",
              "        const buttonEl =\n",
              "          document.querySelector('#df-a4a20547-2891-4efd-b0b2-f06868904676 button.colab-df-convert');\n",
              "        buttonEl.style.display =\n",
              "          google.colab.kernel.accessAllowed ? 'block' : 'none';\n",
              "\n",
              "        async function convertToInteractive(key) {\n",
              "          const element = document.querySelector('#df-a4a20547-2891-4efd-b0b2-f06868904676');\n",
              "          const dataTable =\n",
              "            await google.colab.kernel.invokeFunction('convertToInteractive',\n",
              "                                                     [key], {});\n",
              "          if (!dataTable) return;\n",
              "\n",
              "          const docLinkHtml = 'Like what you see? Visit the ' +\n",
              "            '<a target=\"_blank\" href=https://colab.research.google.com/notebooks/data_table.ipynb>data table notebook</a>'\n",
              "            + ' to learn more about interactive tables.';\n",
              "          element.innerHTML = '';\n",
              "          dataTable['output_type'] = 'display_data';\n",
              "          await google.colab.output.renderOutput(dataTable, element);\n",
              "          const docLink = document.createElement('div');\n",
              "          docLink.innerHTML = docLinkHtml;\n",
              "          element.appendChild(docLink);\n",
              "        }\n",
              "      </script>\n",
              "    </div>\n",
              "  </div>\n",
              "  "
            ]
          },
          "metadata": {},
          "execution_count": 14
        }
      ],
      "source": [
        "print(len(df))\n",
        "df.head(10)"
      ]
    },
    {
      "cell_type": "code",
      "execution_count": 15,
      "id": "aa4f7e22",
      "metadata": {
        "ExecuteTime": {
          "end_time": "2023-05-09T16:21:04.223564Z",
          "start_time": "2023-05-09T16:21:03.257911Z"
        },
        "colab": {
          "base_uri": "https://localhost:8080/",
          "height": 419
        },
        "id": "aa4f7e22",
        "outputId": "d2d88bb5-08a2-471e-a12e-5b275ef75ec6"
      },
      "outputs": [
        {
          "output_type": "execute_result",
          "data": {
            "text/plain": [
              "<Axes: xlabel='type'>"
            ]
          },
          "metadata": {},
          "execution_count": 15
        },
        {
          "output_type": "display_data",
          "data": {
            "text/plain": [
              "<Figure size 1200x400 with 2 Axes>"
            ],
            "image/png": "[encoded data removed]"
          },
          "metadata": {}
        }
      ],
      "source": [
        "fig, axs = plt.subplots(1, 2, figsize=(12, 4))\n",
        "\n",
        "df.groupby('bin_type')['req'].count().plot(kind='bar', ax=axs[0])\n",
        "df.groupby('type')['req'].count().plot(kind='bar', ax=axs[1])"
      ]
    },
    {
      "cell_type": "code",
      "execution_count": 16,
      "id": "f346cdd9",
      "metadata": {
        "ExecuteTime": {
          "end_time": "2023-05-09T16:21:04.774038Z",
          "start_time": "2023-05-09T16:21:04.226559Z"
        },
        "colab": {
          "base_uri": "https://localhost:8080/",
          "height": 548
        },
        "id": "f346cdd9",
        "outputId": "cbc09748-a793-4241-96e6-4e97cfa12a2e"
      },
      "outputs": [
        {
          "output_type": "display_data",
          "data": {
            "text/plain": [
              "count    47.0\n",
              "mean     21.0\n",
              "std      24.0\n",
              "min       1.0\n",
              "25%       5.0\n",
              "50%      11.0\n",
              "75%      24.0\n",
              "max      92.0\n",
              "Name: req, dtype: float64"
            ]
          },
          "metadata": {}
        },
        {
          "output_type": "display_data",
          "data": {
            "text/plain": [
              "<Figure size 1200x400 with 1 Axes>"
            ],
            "image/png": "[encoded data removed]"
          },
          "metadata": {}
        }
      ],
      "source": [
        "fig, ax = plt.subplots(1, 1, figsize=(12, 4))\n",
        "\n",
        "df.groupby('id_project')['req'].count().plot(kind='bar', ax=ax)\n",
        "\n",
        "display(df.groupby('id_project')['req'].count().describe().round())"
      ]
    },
    {
      "cell_type": "code",
      "execution_count": 17,
      "id": "4fe07a89",
      "metadata": {
        "ExecuteTime": {
          "end_time": "2023-05-09T16:47:24.865886Z",
          "start_time": "2023-05-09T16:47:24.547014Z"
        },
        "colab": {
          "base_uri": "https://localhost:8080/",
          "height": 405
        },
        "id": "4fe07a89",
        "outputId": "bd1bcdd4-9549-438b-8bab-bc691171640c"
      },
      "outputs": [
        {
          "output_type": "execute_result",
          "data": {
            "text/plain": [
              "<Axes: xlabel='len', ylabel='Density'>"
            ]
          },
          "metadata": {},
          "execution_count": 17
        },
        {
          "output_type": "display_data",
          "data": {
            "text/plain": [
              "<Figure size 1200x400 with 1 Axes>"
            ],
            "image/png": "[encoded data removed]"
          },
          "metadata": {}
        }
      ],
      "source": [
        "fig, ax = plt.subplots(1, 1, figsize=(12, 4))\n",
        "\n",
        "df['len'] = df['req'].apply(lambda x: len(x.split()))\n",
        "\n",
        "sns.kdeplot(df.loc[df['bin_type'] == 'FR', 'len'], ax=ax, label='FR')\n",
        "sns.kdeplot(df.loc[df['bin_type'] == 'NFR', 'len'], ax=ax, label='NFR')\n"
      ]
    },
    {
      "cell_type": "markdown",
      "id": "e305bfcf",
      "metadata": {
        "ExecuteTime": {
          "end_time": "2023-04-30T17:39:21.962542Z",
          "start_time": "2023-04-30T17:39:21.958553Z"
        },
        "id": "e305bfcf"
      },
      "source": [
        "## Train Val Test split"
      ]
    },
    {
      "cell_type": "code",
      "execution_count": 18,
      "id": "5a7b082e",
      "metadata": {
        "ExecuteTime": {
          "end_time": "2023-05-09T16:21:04.783473Z",
          "start_time": "2023-05-09T16:21:04.776037Z"
        },
        "id": "5a7b082e"
      },
      "outputs": [],
      "source": [
        "def train_val_test_split(ary, train_size, val_size, test_size=None, shuffle=True, random_state=None):\n",
        "    length = len(ary)\n",
        "    \n",
        "    train_ind = int(length * train_size)\n",
        "    val_ind = train_ind + int(length * val_size)\n",
        "    \n",
        "    if shuffle:\n",
        "        ary = np.random.RandomState(random_state).permutation(ary)\n",
        "    \n",
        "    return ary[:train_ind], ary[train_ind:val_ind], ary[val_ind:]"
      ]
    },
    {
      "cell_type": "code",
      "execution_count": 19,
      "id": "753b7b8a",
      "metadata": {
        "ExecuteTime": {
          "end_time": "2023-05-09T16:21:04.911324Z",
          "start_time": "2023-05-09T16:21:04.786469Z"
        },
        "id": "753b7b8a"
      },
      "outputs": [],
      "source": [
        "train, valid, test = train_val_test_split(df['id_project'].unique(), TRAIN_SIZE, VAL_SIZE, random_state=RANDOM_STATE)\n",
        "\n",
        "df[SAMPLE] = np.where(df['id_project'].isin(train), TRAIN, np.where(df['id_project'].isin(valid), VALID, TEST))\n",
        "mask_train = df[SAMPLE] == TRAIN\n",
        "mask_valid = df[SAMPLE] == VALID\n",
        "mask_test = df[SAMPLE] == TEST"
      ]
    },
    {
      "cell_type": "code",
      "execution_count": 20,
      "id": "4f70b10e",
      "metadata": {
        "ExecuteTime": {
          "end_time": "2023-05-09T16:21:05.465521Z",
          "start_time": "2023-05-09T16:21:04.921303Z"
        },
        "colab": {
          "base_uri": "https://localhost:8080/",
          "height": 419
        },
        "id": "4f70b10e",
        "outputId": "34f3f8d1-2845-4d59-b63c-5da3fc1f225f"
      },
      "outputs": [
        {
          "output_type": "execute_result",
          "data": {
            "text/plain": [
              "<Axes: xlabel='bin_type'>"
            ]
          },
          "metadata": {},
          "execution_count": 20
        },
        {
          "output_type": "display_data",
          "data": {
            "text/plain": [
              "<Figure size 1200x400 with 3 Axes>"
            ],
            "image/png": "[encoded data removed]"
          },
          "metadata": {}
        }
      ],
      "source": [
        "fig, axs = plt.subplots(1, 3, figsize=(12, 4))\n",
        "\n",
        "df[df[SAMPLE] == TRAIN].groupby('bin_type')['req'].count().plot(kind='bar', ax=axs[0])\n",
        "df[df[SAMPLE] == VALID].groupby('bin_type')['req'].count().plot(kind='bar', ax=axs[1])\n",
        "df[df[SAMPLE] == TEST].groupby('bin_type')['req'].count().plot(kind='bar', ax=axs[2])"
      ]
    },
    {
      "cell_type": "code",
      "execution_count": 21,
      "id": "e09e0b79",
      "metadata": {
        "ExecuteTime": {
          "end_time": "2023-05-09T16:21:06.069412Z",
          "start_time": "2023-05-09T16:21:05.468516Z"
        },
        "colab": {
          "base_uri": "https://localhost:8080/",
          "height": 414
        },
        "id": "e09e0b79",
        "outputId": "4f7a1979-c50e-4ae5-b21e-a1e512503278"
      },
      "outputs": [
        {
          "output_type": "execute_result",
          "data": {
            "text/plain": [
              "<Axes: xlabel='type'>"
            ]
          },
          "metadata": {},
          "execution_count": 21
        },
        {
          "output_type": "display_data",
          "data": {
            "text/plain": [
              "<Figure size 1200x400 with 3 Axes>"
            ],
            "image/png": "[encoded data removed]"
          },
          "metadata": {}
        }
      ],
      "source": [
        "fig, axs = plt.subplots(1, 3, figsize=(12, 4))\n",
        "\n",
        "df[df[SAMPLE] == TRAIN].groupby('type')['req'].count().plot(kind='bar', ax=axs[0])\n",
        "df[df[SAMPLE] == VALID].groupby('type')['req'].count().plot(kind='bar', ax=axs[1])\n",
        "df[df[SAMPLE] == TEST].groupby('type')['req'].count().plot(kind='bar', ax=axs[2])"
      ]
    },
    {
      "cell_type": "markdown",
      "source": [
        "#  Save Data for HGAT"
      ],
      "metadata": {
        "id": "9ld7P-isoa3L"
      },
      "id": "9ld7P-isoa3L"
    },
    {
      "cell_type": "code",
      "source": [
        "# df[['bin_type', 'req']].to_csv(BASE_PATH/'HGAT-master/data/software_requirements/software_requirements.txt', header=None, sep='\\t')\n",
        "\n",
        "# df[df[SAMPLE] == TRAIN].reset_index()[['index']].to_csv(BASE_PATH/'HGAT-master/data/software_requirements/train.list', \n",
        "#                                                         header=None, index=False)\n",
        "\n",
        "# df[df[SAMPLE] == VALID].reset_index()[['index']].to_csv(BASE_PATH/'HGAT-master/data/software_requirements/vali.list', \n",
        "#                                                         header=None, index=False)\n",
        "\n",
        "# df[df[SAMPLE] == TEST].reset_index()[['index']].to_csv(BASE_PATH/'HGAT-master/data/software_requirements/test.list', \n",
        "#                                                         header=None, index=False)\n",
        "\n",
        "# # BERT embeddings\n",
        "# feature_extraction = pipeline('feature-extraction', model=\"bert-base-uncased\", tokenizer=\"bert-base-uncased\")\n",
        "# features = feature_extraction(df['req'].tolist())\n",
        "# features = [x[0][0] for x in features]\n",
        "# features = pd.DataFrame(data=np.array(features))\n",
        "# features['index'] = df.index.astype(str).values\n",
        "# features['bin_type'] = df['bin_type'].values\n",
        "# features = features.set_index('index')\n",
        "\n",
        "# # mapindex\n",
        "# mapindex = pd.read_csv(BASE_PATH/'HGAT-master/model/data/software_requirements/mapindex.txt', \n",
        "#                        header=None, sep='\\t', names=['index', 'node_index'], index_col=0)\n",
        "# features = features.join(mapindex).set_index('node_index')\n",
        "\n",
        "# # save embeddings\n",
        "# features.to_csv(BASE_PATH/'HGAT-master/model/data/software_requirements/software_requirements.content.text', header=None, sep='\\t')\n",
        "\n"
      ],
      "metadata": {
        "id": "0TAz6_mwoaVL"
      },
      "id": "0TAz6_mwoaVL",
      "execution_count": 24,
      "outputs": []
    },
    {
      "cell_type": "code",
      "source": [
        "# entity_ids = pd.read_csv(BASE_PATH/'HGAT-master/model/data/software_requirements/software_requirements.content.entity', \n",
        "#                      header=None, sep='\\t', usecols=[0]).values.reshape(-1)\n",
        "\n",
        "# topic_ids = pd.read_csv(BASE_PATH/'HGAT-master/model/data/software_requirements/software_requirements.content.topic', \n",
        "#                      header=None, sep='\\t', usecols=[0]).values.reshape(-1)\n",
        "                     \n",
        "# mapindex = pd.read_csv(BASE_PATH/'HGAT-master/model/data/software_requirements/mapindex.txt', \n",
        "#                        header=None, sep='\\t', index_col=1, names=['index'])\n",
        "\n",
        "# cites = pd.read_csv(BASE_PATH/'HGAT-master/model/data/software_requirements/software_requirements.content.cites', \n",
        "#                        header=None, sep='\\t', index_col=1, names=['index'])"
      ],
      "metadata": {
        "id": "FLjB7kbFWacF"
      },
      "id": "FLjB7kbFWacF",
      "execution_count": 25,
      "outputs": []
    },
    {
      "cell_type": "markdown",
      "id": "32a6075a",
      "metadata": {
        "id": "32a6075a"
      },
      "source": [
        "# Encoding"
      ]
    },
    {
      "cell_type": "code",
      "execution_count": 26,
      "id": "4627a32b",
      "metadata": {
        "ExecuteTime": {
          "end_time": "2023-05-09T17:19:35.062231Z",
          "start_time": "2023-05-09T17:19:35.058008Z"
        },
        "id": "4627a32b"
      },
      "outputs": [],
      "source": [
        "type_enc = {\n",
        "    'PE': 0,\n",
        "    'LF': 1,\n",
        "    'US': 2,\n",
        "    'A': 3,\n",
        "    'SE': 4,\n",
        "    'F': 5,\n",
        "    'FT': 6,\n",
        "    'SC': 7,\n",
        "    'PO': 8,\n",
        "    'O': 9,\n",
        "    'L': 10,\n",
        "    'MN': 11,\n",
        "}\n",
        "\n",
        "bin_type_enc = {\n",
        "    'NFR': 0,\n",
        "    'FR': 1\n",
        "}"
      ]
    },
    {
      "cell_type": "code",
      "execution_count": 27,
      "id": "50bf1b26",
      "metadata": {
        "ExecuteTime": {
          "end_time": "2023-05-09T17:19:35.363918Z",
          "start_time": "2023-05-09T17:19:35.357854Z"
        },
        "id": "50bf1b26"
      },
      "outputs": [],
      "source": [
        "df['type'] = df['type'].replace(type_enc).astype(np.int16)\n",
        "df['bin_type'] = df['bin_type'].replace(bin_type_enc).astype(np.int16)"
      ]
    },
    {
      "cell_type": "markdown",
      "id": "287c4c58",
      "metadata": {
        "id": "287c4c58"
      },
      "source": [
        "# TF-IDF + LGBM"
      ]
    },
    {
      "cell_type": "code",
      "execution_count": 22,
      "id": "be2f1836",
      "metadata": {
        "ExecuteTime": {
          "end_time": "2023-05-09T17:19:36.976338Z",
          "start_time": "2023-05-09T17:19:36.951017Z"
        },
        "id": "be2f1836"
      },
      "outputs": [],
      "source": [
        "vectorizer = TfidfVectorizer(stop_words=None)\n",
        "\n",
        "\n",
        "pca = TruncatedSVD(n_components=100)\n",
        "\n",
        "\n",
        "params = {\n",
        "    'random_state': RANDOM_STATE,\n",
        "    'objective': \"binary\",\n",
        "    # 'learning_rate': 0.05,\n",
        "    # 'max_depth': 3\n",
        "}\n",
        "\n",
        "model = LGBMClassifier(**params)\n",
        "\n",
        "\n",
        "model_pipe = make_pipeline(vectorizer, pca, model)"
      ]
    },
    {
      "cell_type": "code",
      "source": [
        "X_train = df[mask_train]['req']\n",
        "for step in model_pipe.steps[:-1]:\n",
        "    X_train = step[1].fit_transform(X_train)\n",
        "\n",
        "X_valid = df[mask_valid]['req']\n",
        "for step in model_pipe.steps[:-1]:\n",
        "    X_valid = step[1].transform(X_valid)\n",
        "\n",
        "fit_params = {\n",
        "    'eval_set': [\n",
        "        (X_train, df[mask_train][TARGET]),\n",
        "        (X_valid, df[mask_valid][TARGET])\n",
        "    ],\n",
        "    'eval_names': ['train', 'valid'],\n",
        "    'early_stopping_rounds': 50,\n",
        "    'verbose': 30,\n",
        "}\n",
        "\n",
        "model_pipe.steps[-1][1].fit(X_train, df[mask_train][TARGET], **fit_params)\n",
        "df[PRED] = model_pipe.predict_proba(df['req'])[:, 1]"
      ],
      "metadata": {
        "colab": {
          "base_uri": "https://localhost:8080/"
        },
        "id": "J9RfJn8vFYVN",
        "outputId": "021d1564-6177-4bf1-f0a2-ac5c244ca06d"
      },
      "id": "J9RfJn8vFYVN",
      "execution_count": 23,
      "outputs": [
        {
          "output_type": "stream",
          "name": "stderr",
          "text": [
            "/usr/local/lib/python3.10/dist-packages/lightgbm/sklearn.py:726: UserWarning: 'early_stopping_rounds' argument is deprecated and will be removed in a future release of LightGBM. Pass 'early_stopping()' callback via 'callbacks' argument instead.\n",
            "  _log_warning(\"'early_stopping_rounds' argument is deprecated and will be removed in a future release of LightGBM. \"\n",
            "/usr/local/lib/python3.10/dist-packages/lightgbm/sklearn.py:736: UserWarning: 'verbose' argument is deprecated and will be removed in a future release of LightGBM. Pass 'log_evaluation()' callback via 'callbacks' argument instead.\n",
            "  _log_warning(\"'verbose' argument is deprecated and will be removed in a future release of LightGBM. \"\n"
          ]
        },
        {
          "output_type": "stream",
          "name": "stdout",
          "text": [
            "[30]\ttrain's binary_logloss: 0.125627\tvalid's binary_logloss: 0.388656\n",
            "[60]\ttrain's binary_logloss: 0.0297683\tvalid's binary_logloss: 0.365439\n",
            "[90]\ttrain's binary_logloss: 0.00721183\tvalid's binary_logloss: 0.391978\n"
          ]
        }
      ]
    },
    {
      "cell_type": "code",
      "source": [],
      "metadata": {
        "id": "xEfFQNYNkNwN"
      },
      "id": "xEfFQNYNkNwN",
      "execution_count": 23,
      "outputs": []
    },
    {
      "cell_type": "code",
      "source": [
        "PrecisionRecallDisplay.from_predictions(\n",
        "    df[mask_train][TARGET].values, \n",
        "    df[mask_train][PRED].values\n",
        ")\n",
        "# print(classification_report(df[mask_train][TARGET].values , model_pipe.predict(df[mask_train]['req'])))"
      ],
      "metadata": {
        "colab": {
          "base_uri": "https://localhost:8080/",
          "height": 466
        },
        "id": "Wv406Q2RHXqB",
        "outputId": "2acdaa1d-a56d-4781-849d-74dbb45c9cab"
      },
      "id": "Wv406Q2RHXqB",
      "execution_count": 24,
      "outputs": [
        {
          "output_type": "execute_result",
          "data": {
            "text/plain": [
              "<sklearn.metrics._plot.precision_recall_curve.PrecisionRecallDisplay at 0x7f46376fb5b0>"
            ]
          },
          "metadata": {},
          "execution_count": 24
        },
        {
          "output_type": "display_data",
          "data": {
            "text/plain": [
              "<Figure size 640x480 with 1 Axes>"
            ],
            "image/png": "[encoded data removed]"
          },
          "metadata": {}
        }
      ]
    },
    {
      "cell_type": "code",
      "execution_count": 25,
      "id": "b22927a0",
      "metadata": {
        "ExecuteTime": {
          "end_time": "2023-05-09T17:24:09.940638Z",
          "start_time": "2023-05-09T17:24:09.383217Z"
        },
        "colab": {
          "base_uri": "https://localhost:8080/",
          "height": 466
        },
        "id": "b22927a0",
        "outputId": "fb55ac25-f0ad-4ae1-dc09-fb62ed15ba1e"
      },
      "outputs": [
        {
          "output_type": "execute_result",
          "data": {
            "text/plain": [
              "<sklearn.metrics._plot.precision_recall_curve.PrecisionRecallDisplay at 0x7f46379351b0>"
            ]
          },
          "metadata": {},
          "execution_count": 25
        },
        {
          "output_type": "display_data",
          "data": {
            "text/plain": [
              "<Figure size 640x480 with 1 Axes>"
            ],
            "image/png": "[encoded data removed]"
          },
          "metadata": {}
        }
      ],
      "source": [
        "PrecisionRecallDisplay.from_predictions(\n",
        "    df[mask_valid][TARGET].values, \n",
        "    df[mask_valid][PRED].values\n",
        ")\n",
        "# print(classification_report(df[mask_valid][TARGET].values , model_pipe.predict(df[mask_valid]['req'])))"
      ]
    },
    {
      "cell_type": "code",
      "execution_count": 26,
      "id": "3ddd3a46",
      "metadata": {
        "ExecuteTime": {
          "end_time": "2023-05-09T17:24:17.775238Z",
          "start_time": "2023-05-09T17:24:17.562407Z"
        },
        "colab": {
          "base_uri": "https://localhost:8080/",
          "height": 466
        },
        "id": "3ddd3a46",
        "outputId": "22c89d39-c138-4ecb-f412-207375be9592"
      },
      "outputs": [
        {
          "output_type": "execute_result",
          "data": {
            "text/plain": [
              "<sklearn.metrics._plot.precision_recall_curve.PrecisionRecallDisplay at 0x7f4636e66260>"
            ]
          },
          "metadata": {},
          "execution_count": 26
        },
        {
          "output_type": "display_data",
          "data": {
            "text/plain": [
              "<Figure size 640x480 with 1 Axes>"
            ],
            "image/png": "[encoded data removed]"
          },
          "metadata": {}
        }
      ],
      "source": [
        "PrecisionRecallDisplay.from_predictions(\n",
        "    df[mask_test][TARGET].values, \n",
        "    df[mask_test][PRED].values\n",
        ")\n",
        "# print(classification_report(df[mask_test][TARGET].values , model_pipe.predict(df[mask_test]['req'])))"
      ]
    },
    {
      "cell_type": "code",
      "source": [
        "get_target_metric()"
      ],
      "metadata": {
        "colab": {
          "base_uri": "https://localhost:8080/"
        },
        "id": "zE_j6Ja4leV6",
        "outputId": "3a9e75e7-6e3f-47aa-ae6e-8acb77fc21d7"
      },
      "id": "zE_j6Ja4leV6",
      "execution_count": 27,
      "outputs": [
        {
          "output_type": "stream",
          "name": "stdout",
          "text": [
            "              precision    recall  f1-score   support\n",
            "\n",
            "           0       0.68      0.89      0.77        70\n",
            "           1       0.78      0.50      0.61        58\n",
            "\n",
            "    accuracy                           0.71       128\n",
            "   macro avg       0.73      0.69      0.69       128\n",
            "weighted avg       0.73      0.71      0.70       128\n",
            "\n",
            "threshold=0.301\n"
          ]
        },
        {
          "output_type": "execute_result",
          "data": {
            "text/plain": [
              "0.5"
            ]
          },
          "metadata": {},
          "execution_count": 27
        }
      ]
    },
    {
      "cell_type": "markdown",
      "source": [
        "# TF-IDF + SVM"
      ],
      "metadata": {
        "id": "CXjUyQihgr6T"
      },
      "id": "CXjUyQihgr6T"
    },
    {
      "cell_type": "code",
      "execution_count": 28,
      "metadata": {
        "ExecuteTime": {
          "end_time": "2023-05-09T17:19:36.976338Z",
          "start_time": "2023-05-09T17:19:36.951017Z"
        },
        "id": "t2B17U8dgpek"
      },
      "outputs": [],
      "source": [
        "vectorizer = TfidfVectorizer(stop_words=None)\n",
        "\n",
        "\n",
        "pca = TruncatedSVD(n_components=100)\n",
        "\n",
        "\n",
        "model = SVC(probability=True)\n",
        "\n",
        "\n",
        "model_pipe = make_pipeline(vectorizer, pca, model)"
      ],
      "id": "t2B17U8dgpek"
    },
    {
      "cell_type": "code",
      "source": [
        "X_train = df[mask_train]['req']\n",
        "for step in model_pipe.steps[:-1]:\n",
        "    X_train = step[1].fit_transform(X_train)\n",
        "\n",
        "X_valid = df[mask_valid]['req']\n",
        "for step in model_pipe.steps[:-1]:\n",
        "    X_valid = step[1].transform(X_valid)\n",
        "\n",
        "\n",
        "model_pipe.steps[-1][1].fit(X_train, df[mask_train][TARGET])\n",
        "df[PRED] = model_pipe.predict_proba(df['req'])[:, 1]"
      ],
      "metadata": {
        "id": "C9BO5zu1gpes"
      },
      "execution_count": 29,
      "outputs": [],
      "id": "C9BO5zu1gpes"
    },
    {
      "cell_type": "code",
      "source": [
        "PrecisionRecallDisplay.from_predictions(\n",
        "    df[mask_train][TARGET].values, \n",
        "    df[mask_train][PRED].values, \n",
        ")\n",
        "# print(classification_report(df[mask_train][TARGET].values , model_pipe.predict(df[mask_train]['req'])))"
      ],
      "metadata": {
        "colab": {
          "base_uri": "https://localhost:8080/",
          "height": 466
        },
        "outputId": "ee121e57-2ab6-49cf-bb98-e9899be31e26",
        "id": "YGSqYT0ggpes"
      },
      "execution_count": 30,
      "outputs": [
        {
          "output_type": "execute_result",
          "data": {
            "text/plain": [
              "<sklearn.metrics._plot.precision_recall_curve.PrecisionRecallDisplay at 0x7f46376fbca0>"
            ]
          },
          "metadata": {},
          "execution_count": 30
        },
        {
          "output_type": "display_data",
          "data": {
            "text/plain": [
              "<Figure size 640x480 with 1 Axes>"
            ],
            "image/png": "[encoded data removed]"
          },
          "metadata": {}
        }
      ],
      "id": "YGSqYT0ggpes"
    },
    {
      "cell_type": "code",
      "execution_count": 31,
      "metadata": {
        "ExecuteTime": {
          "end_time": "2023-05-09T17:24:09.940638Z",
          "start_time": "2023-05-09T17:24:09.383217Z"
        },
        "colab": {
          "base_uri": "https://localhost:8080/",
          "height": 466
        },
        "outputId": "088f0548-cde3-4677-f1e3-e7d7e10793ab",
        "id": "XJaLYVipgpes"
      },
      "outputs": [
        {
          "output_type": "execute_result",
          "data": {
            "text/plain": [
              "<sklearn.metrics._plot.precision_recall_curve.PrecisionRecallDisplay at 0x7f4636d94ee0>"
            ]
          },
          "metadata": {},
          "execution_count": 31
        },
        {
          "output_type": "display_data",
          "data": {
            "text/plain": [
              "<Figure size 640x480 with 1 Axes>"
            ],
            "image/png": "[encoded data removed]"
          },
          "metadata": {}
        }
      ],
      "source": [
        "PrecisionRecallDisplay.from_predictions(\n",
        "    df[mask_valid][TARGET].values, \n",
        "    df[mask_valid][PRED].values\n",
        ")\n",
        "# print(classification_report(df[mask_valid][TARGET].values , model_pipe.predict(df[mask_valid]['req'])))"
      ],
      "id": "XJaLYVipgpes"
    },
    {
      "cell_type": "code",
      "execution_count": 32,
      "metadata": {
        "ExecuteTime": {
          "end_time": "2023-05-09T17:24:17.775238Z",
          "start_time": "2023-05-09T17:24:17.562407Z"
        },
        "colab": {
          "base_uri": "https://localhost:8080/",
          "height": 466
        },
        "outputId": "88b73599-7d1c-49ef-a2aa-df3edb03478a",
        "id": "8b3f7XfLgpes"
      },
      "outputs": [
        {
          "output_type": "execute_result",
          "data": {
            "text/plain": [
              "<sklearn.metrics._plot.precision_recall_curve.PrecisionRecallDisplay at 0x7f4636d963e0>"
            ]
          },
          "metadata": {},
          "execution_count": 32
        },
        {
          "output_type": "display_data",
          "data": {
            "text/plain": [
              "<Figure size 640x480 with 1 Axes>"
            ],
            "image/png": "[encoded data removed]"
          },
          "metadata": {}
        }
      ],
      "source": [
        "PrecisionRecallDisplay.from_predictions(\n",
        "    df[mask_test][TARGET].values, \n",
        "    df[mask_test][PRED].values\n",
        ")\n",
        "# print(classification_report(df[mask_test][TARGET].values , model_pipe.predict(df[mask_test]['req'])))"
      ],
      "id": "8b3f7XfLgpes"
    },
    {
      "cell_type": "code",
      "source": [
        "get_target_metric()"
      ],
      "metadata": {
        "colab": {
          "base_uri": "https://localhost:8080/"
        },
        "id": "Y-ZG4pOfmQ1h",
        "outputId": "18e26e58-41d7-4564-8454-d19514511a19"
      },
      "id": "Y-ZG4pOfmQ1h",
      "execution_count": 33,
      "outputs": [
        {
          "output_type": "stream",
          "name": "stdout",
          "text": [
            "              precision    recall  f1-score   support\n",
            "\n",
            "           0       0.70      0.91      0.80        70\n",
            "           1       0.84      0.53      0.65        58\n",
            "\n",
            "    accuracy                           0.74       128\n",
            "   macro avg       0.77      0.72      0.72       128\n",
            "weighted avg       0.76      0.74      0.73       128\n",
            "\n",
            "threshold=0.258\n"
          ]
        },
        {
          "output_type": "execute_result",
          "data": {
            "text/plain": [
              "0.5344827586206896"
            ]
          },
          "metadata": {},
          "execution_count": 33
        }
      ]
    },
    {
      "cell_type": "markdown",
      "id": "7b457086",
      "metadata": {
        "id": "7b457086"
      },
      "source": [
        "# BERT Classifier"
      ]
    },
    {
      "cell_type": "code",
      "source": [
        "# MODEL_NAME = 'distilbert-base-uncased'\n",
        "# MODEL_NAME = 'roberta-base'\n",
        "MODEL_NAME = 'bert-base-uncased'\n",
        "BATCH_SIZE = 20\n",
        "MAX_LEN = 15\n",
        "NUM_EPOCHS = 1"
      ],
      "metadata": {
        "id": "yVyTxC5ssXDB"
      },
      "id": "yVyTxC5ssXDB",
      "execution_count": 34,
      "outputs": []
    },
    {
      "cell_type": "code",
      "source": [
        "train = Dataset.from_pandas(df.loc[mask_train, ['req', 'bin_type']].rename(columns={'req': 'text', 'bin_type': 'label'}))\n",
        "valid = Dataset.from_pandas(df.loc[mask_valid, ['req', 'bin_type']].rename(columns={'req': 'text', 'bin_type': 'label'}))\n",
        "test = Dataset.from_pandas(df.loc[mask_test, ['req', 'bin_type']].rename(columns={'req': 'text', 'bin_type': 'label'}))\n",
        "\n",
        "tokenizer = AutoTokenizer.from_pretrained(MODEL_NAME)\n",
        "\n",
        " \n",
        "def tokenize_function(examples):\n",
        "\treturn tokenizer.encode_plus(\n",
        "\t\texamples['text'],\n",
        "\t\tNone,\n",
        "\t\tadd_special_tokens=True,\n",
        "\t\tmax_length=MAX_LEN,\n",
        "\t\tpad_to_max_length=True,\n",
        "\t\treturn_token_type_ids=True,\n",
        "\t\ttruncation=True\n",
        "\t)\n",
        " \n",
        "tokenized_train = train.map(tokenize_function)\n",
        "tokenized_valid = valid.map(tokenize_function)\n",
        "tokenized_test = test.map(tokenize_function)\n",
        "\n",
        "model = AutoModelForSequenceClassification.from_pretrained(MODEL_NAME, num_labels=2)\n",
        "training_args = TrainingArguments(\n",
        "\toutput_dir = 'test_trainer_log',\n",
        "\tevaluation_strategy = 'epoch',\n",
        "\tper_device_train_batch_size = BATCH_SIZE,\n",
        "\tper_device_eval_batch_size = BATCH_SIZE,\n",
        "\tnum_train_epochs = NUM_EPOCHS,\n",
        "\treport_to='none'\n",
        ")\n",
        "\n",
        "accuracy = evaluate.load(\"accuracy\")\n",
        "average_precision = evaluate.load(\"yonting/average_precision_score\")\n",
        "def compute_metrics(eval_pred):\n",
        "\tlogits, labels = eval_pred\n",
        "\tpredictions = np.argmax(logits, axis=-1)\n",
        "\tprediction_scores = logits[:, 1]\n",
        "\tap = average_precision.compute(references=labels, prediction_scores=prediction_scores)\n",
        "\tacc = accuracy.compute(references=labels, predictions=predictions)\n",
        "\treturn {**ap, **acc}\n",
        " \n",
        "trainer = Trainer(\n",
        "\tmodel = model,\n",
        "\targs = training_args,\n",
        "\ttrain_dataset = tokenized_train,\n",
        "\teval_dataset = tokenized_valid,\n",
        "\tcompute_metrics = compute_metrics\n",
        ")\n",
        "\n",
        "trainer.train()\n",
        "\n",
        "# Сохраняем модель\n",
        "# trainer.save_model(PATH_TO_MODELS/'bert_trainer.hf')\n",
        "\n",
        "df.loc[mask_train, PRED] = softmax(trainer.predict(tokenized_train).predictions, axis=1)[:, 1]\n",
        "df.loc[mask_valid, PRED] = softmax(trainer.predict(tokenized_valid).predictions, axis=1)[:, 1]\n",
        "df.loc[mask_test , PRED] = softmax(trainer.predict(tokenized_test ).predictions, axis=1)[:, 1]\n"
      ],
      "metadata": {
        "id": "LB4n7LU3rj1p",
        "colab": {
          "base_uri": "https://localhost:8080/",
          "height": 507,
          "referenced_widgets": [
            "8abbdcb2d7f64e1d9b04ed04ce2cb613",
            "d72d45ebfa8b4d9ca3e4f92cc81b484e",
            "bc87f765ce8b4107ba65b04cc87114f3",
            "7a82c48523474e3f947426d3460301df",
            "e2cfe679848a4b9fba1c890d364af5ce",
            "fe5e320566a3455cabb391ff61e444cf",
            "2d1113dfa9ca45b08350d3bf8e1e938f",
            "67db5924aafa4b67aad62c6308049e1d",
            "a26632515bbd4cd388b5b649a35d7ac1",
            "0c5713c5e59343d49fe3fbe2e9013c2e",
            "9b12b0b22aa6454596fcfe7d5ca80c94",
            "b809535ef5dd42e48bdfd175b56c66f6",
            "c3a92376347e49b4803b5e4374d649f0",
            "3e9c962cc140494a9c0db73884227289",
            "36a6a0e1c8fe417db9da0f8c2db90763",
            "6134cc6519484b369054921cff85abd5",
            "2d06594ebf074bbfb3d2f1b3d931cdca",
            "8ac8f4cd563444b7ad2df406a7beb9e6",
            "f17d5b4685004db0b5f1cfe0df835bfa",
            "5234b7373519481084ecd561ef10cf55",
            "6fff1a925dde4c8ba061694ed2f6ba9a",
            "11794f37651e4d54aed101a2e4b6ea18",
            "e71c3e3fdf9d46a78b7205c87086c0e0",
            "d44a0234e3fa4efca26a57eec3baf02f",
            "2e34839f77b149d0a9dbe23fdba9a5f3",
            "0892dda87e88416294d68e1441774b98",
            "ae148974f9bf4b2bb2f3ba34cf982143",
            "a0103c0c5975408abe758d90316c7f00",
            "f2112c8db8d84da4a7761d631848dcaa",
            "c421b3256dae406e807296d089eb7305",
            "94e628045fe343e69d4a40bdb54c30bf",
            "0b41891ead80422893c216824c7aa82f",
            "b0a74a990b6845929f6c3452b97259a7",
            "10869d9464dc44908671e0486a06e5e9",
            "cac0ca0919084170b527567ca2ab136b",
            "d6465b07504f48f791d1e4e461418045",
            "7e5a31af3bce4b93a919a3442509646d",
            "446e774bf30c45a5be0230fc0595816e",
            "b700a5860f6848c6b14d8e9b69245f8b",
            "bc283dfb0e02492389fd6c4a97992b1e",
            "ebc7c033165c4fcc93d2c9a641385a88",
            "4362251b3abd406d91d76b7a8e15744e",
            "28a8a19cd3e64b39bbad89e68405be3f",
            "ec54513dd9ac43329a11117b065da563",
            "44d0df8f4b04402782f81671b2dc695c",
            "e0b0676379bd4e94b6c359b9a281ebad",
            "68b18cd763324c9c96054c2bc240ec29",
            "a6727eb3535f47879d5cdda53cddd005",
            "df8290d581a74796bbc0df33ffaae7e5",
            "78384505ca344e229e9f6f2ba133feda",
            "182520fcd74b4925b7bfbf992d86ed64",
            "ed77e82769724387a4a32b56b61c3783",
            "1e657f96c39346daa0d4f9dcda16e23c",
            "020cb9e9286f4cf49e76119748ecb5e5",
            "a904d29478b04fbbbff163686e5352f9",
            "7d5b96f7d4214fa48312bf8693883be9",
            "1ae5867e470b41eaa25a3b2edfe94041",
            "25814c6f5c24463b8a86ae464a0e7756",
            "d98ee1f7823b43c18f143f096bc285ce",
            "3f325ecadcad43c7ab23bdd263c4e5b7",
            "f931b431a6724f45a46d941676eef368",
            "16ed18a5ba424c7e8f0a6e3276095e2d",
            "cf4b21c360a1458e89049accf040a3cf",
            "1868107990b448bc8218d1999027ab67",
            "04be4061b66140ce931e725a5c48114a",
            "d28f564ccc5f414c9057a50efeac06e6",
            "5e984f05621e41bc88567a9c750ff152",
            "79a10a8b5f4540b5b37c64c213a75e70",
            "ccf8bfc532124b8eba0a02bfa0403cad",
            "a22d0102005d41eeb53abb47e7f20b59",
            "a3c68c842d0e49b4bfd5a2f51830ad04",
            "4691fd4e4708427aa9974e4bd596d6c3",
            "8faafe1f38694eac9b0cd14339b412e4",
            "657c7ca12161405d93f16206115d16ec",
            "320c420cc7b8420e8f12b3a823c0f678",
            "d1fab0657c204d2f85c7cbb51770c117",
            "d2ceb97a1747427e95ab06213dc8330d",
            "db121e1c12864c36b086bf8a3c2dd129",
            "02775ffe0cd541dbb1064c236e52bfed",
            "a2401f63f45e4fcfa532e7c5553bc829",
            "13ce404b80d14548b2229b772defccd4",
            "c95cda5a119d41519436fcc2404a8653",
            "011fcddeb6484490a6768398df44f0b3",
            "aeb2a6a88543429b8638373ea1c88f9a",
            "77348389780244538714dd26a5db509d",
            "42442d0055e14830bcac69cb909d48f0",
            "b357aba80b7f42fb842ab69035608226",
            "6b65329c95af4c8981f7d85cbaf40707",
            "cab980c516e24dfaad801e2ec5593f17",
            "c81f43f59b6942fb9cc68c20ceadbe13",
            "97b3ea0d12b84abeae49af1e77df60ce",
            "025e86f9043e42fa9ee3ded93f56c9ac",
            "eddb9f33b2cb48e5bebb912271f0b9be",
            "2584dcf5f44f40daa3db691fd5c4ad97",
            "283c8d78ecb244298bb01fdb27bd0d78",
            "44b53f0ce6c1465e807b0d96a93e6a47",
            "083ba77f95aa4adba036777c51e4030f",
            "90a7c5ee76a042d59583657addd31628",
            "1b668c475e1c45cdaa92b8100aa15fae",
            "9fb8740330364b939565466ee07f5953",
            "738607ff88c04add99000d877009a55a",
            "3c832d3f283b4963bf43741433245c08",
            "ec992d0f82ba4de2b7e26b78a773d637",
            "d931d429a4dd42e3ba80457317b778a7",
            "cf49f45641654d28b980d808361b383d",
            "a8b482d8d189449fa7ebaca896db9f89",
            "5dbaa1e0e02a4b76abd477331463b524",
            "73004f37cad64cc98c9fb4c1748d2a24",
            "1dca855132434b52ad6b6f2d0edd1810",
            "80117d34bfe94409876b4c156bbec3a2"
          ]
        },
        "outputId": "560ab93e-1497-416c-af76-cc6ea41ebfc7"
      },
      "id": "LB4n7LU3rj1p",
      "execution_count": 35,
      "outputs": [
        {
          "output_type": "display_data",
          "data": {
            "text/plain": [
              "Downloading (…)okenizer_config.json:   0%|          | 0.00/28.0 [00:00<?, ?B/s]"
            ],
            "application/vnd.jupyter.widget-view+json": {
              "version_major": 2,
              "version_minor": 0,
              "model_id": "8abbdcb2d7f64e1d9b04ed04ce2cb613"
            }
          },
          "metadata": {}
        },
        {
          "output_type": "display_data",
          "data": {
            "text/plain": [
              "Downloading (…)lve/main/config.json:   0%|          | 0.00/570 [00:00<?, ?B/s]"
            ],
            "application/vnd.jupyter.widget-view+json": {
              "version_major": 2,
              "version_minor": 0,
              "model_id": "b809535ef5dd42e48bdfd175b56c66f6"
            }
          },
          "metadata": {}
        },
        {
          "output_type": "display_data",
          "data": {
            "text/plain": [
              "Downloading (…)solve/main/vocab.txt:   0%|          | 0.00/232k [00:00<?, ?B/s]"
            ],
            "application/vnd.jupyter.widget-view+json": {
              "version_major": 2,
              "version_minor": 0,
              "model_id": "e71c3e3fdf9d46a78b7205c87086c0e0"
            }
          },
          "metadata": {}
        },
        {
          "output_type": "display_data",
          "data": {
            "text/plain": [
              "Downloading (…)/main/tokenizer.json:   0%|          | 0.00/466k [00:00<?, ?B/s]"
            ],
            "application/vnd.jupyter.widget-view+json": {
              "version_major": 2,
              "version_minor": 0,
              "model_id": "10869d9464dc44908671e0486a06e5e9"
            }
          },
          "metadata": {}
        },
        {
          "output_type": "display_data",
          "data": {
            "text/plain": [
              "Map:   0%|          | 0/700 [00:00<?, ? examples/s]"
            ],
            "application/vnd.jupyter.widget-view+json": {
              "version_major": 2,
              "version_minor": 0,
              "model_id": "44d0df8f4b04402782f81671b2dc695c"
            }
          },
          "metadata": {}
        },
        {
          "output_type": "stream",
          "name": "stderr",
          "text": [
            "/usr/local/lib/python3.10/dist-packages/transformers/tokenization_utils_base.py:2354: FutureWarning: The `pad_to_max_length` argument is deprecated and will be removed in a future version, use `padding=True` or `padding='longest'` to pad to the longest sequence in the batch, or use `padding='max_length'` to pad to a max length. In this case, you can give a specific length with `max_length` (e.g. `max_length=45`) or leave max_length to None to pad to the maximal input size of the model (e.g. 512 for Bert).\n",
            "  warnings.warn(\n"
          ]
        },
        {
          "output_type": "display_data",
          "data": {
            "text/plain": [
              "Map:   0%|          | 0/141 [00:00<?, ? examples/s]"
            ],
            "application/vnd.jupyter.widget-view+json": {
              "version_major": 2,
              "version_minor": 0,
              "model_id": "7d5b96f7d4214fa48312bf8693883be9"
            }
          },
          "metadata": {}
        },
        {
          "output_type": "display_data",
          "data": {
            "text/plain": [
              "Map:   0%|          | 0/128 [00:00<?, ? examples/s]"
            ],
            "application/vnd.jupyter.widget-view+json": {
              "version_major": 2,
              "version_minor": 0,
              "model_id": "5e984f05621e41bc88567a9c750ff152"
            }
          },
          "metadata": {}
        },
        {
          "output_type": "display_data",
          "data": {
            "text/plain": [
              "Downloading pytorch_model.bin:   0%|          | 0.00/440M [00:00<?, ?B/s]"
            ],
            "application/vnd.jupyter.widget-view+json": {
              "version_major": 2,
              "version_minor": 0,
              "model_id": "db121e1c12864c36b086bf8a3c2dd129"
            }
          },
          "metadata": {}
        },
        {
          "output_type": "stream",
          "name": "stderr",
          "text": [
            "Some weights of the model checkpoint at bert-base-uncased were not used when initializing BertForSequenceClassification: ['cls.predictions.transform.dense.bias', 'cls.predictions.bias', 'cls.seq_relationship.weight', 'cls.predictions.transform.LayerNorm.bias', 'cls.predictions.decoder.weight', 'cls.predictions.transform.LayerNorm.weight', 'cls.predictions.transform.dense.weight', 'cls.seq_relationship.bias']\n",
            "- This IS expected if you are initializing BertForSequenceClassification from the checkpoint of a model trained on another task or with another architecture (e.g. initializing a BertForSequenceClassification model from a BertForPreTraining model).\n",
            "- This IS NOT expected if you are initializing BertForSequenceClassification from the checkpoint of a model that you expect to be exactly identical (initializing a BertForSequenceClassification model from a BertForSequenceClassification model).\n",
            "Some weights of BertForSequenceClassification were not initialized from the model checkpoint at bert-base-uncased and are newly initialized: ['classifier.weight', 'classifier.bias']\n",
            "You should probably TRAIN this model on a down-stream task to be able to use it for predictions and inference.\n"
          ]
        },
        {
          "output_type": "display_data",
          "data": {
            "text/plain": [
              "Downloading builder script:   0%|          | 0.00/4.20k [00:00<?, ?B/s]"
            ],
            "application/vnd.jupyter.widget-view+json": {
              "version_major": 2,
              "version_minor": 0,
              "model_id": "cab980c516e24dfaad801e2ec5593f17"
            }
          },
          "metadata": {}
        },
        {
          "output_type": "display_data",
          "data": {
            "text/plain": [
              "Downloading builder script:   0%|          | 0.00/6.84k [00:00<?, ?B/s]"
            ],
            "application/vnd.jupyter.widget-view+json": {
              "version_major": 2,
              "version_minor": 0,
              "model_id": "9fb8740330364b939565466ee07f5953"
            }
          },
          "metadata": {}
        },
        {
          "output_type": "stream",
          "name": "stderr",
          "text": [
            "/usr/local/lib/python3.10/dist-packages/transformers/optimization.py:391: FutureWarning: This implementation of AdamW is deprecated and will be removed in a future version. Use the PyTorch implementation torch.optim.AdamW instead, or set `no_deprecation_warning=True` to disable this warning\n",
            "  warnings.warn(\n"
          ]
        },
        {
          "output_type": "display_data",
          "data": {
            "text/plain": [
              "<IPython.core.display.HTML object>"
            ],
            "text/html": [
              "\n",
              "    <div>\n",
              "      \n",
              "      <progress value='35' max='35' style='width:300px; height:20px; vertical-align: middle;'></progress>\n",
              "      [35/35 00:06, Epoch 1/1]\n",
              "    </div>\n",
              "    <table border=\"1\" class=\"dataframe\">\n",
              "  <thead>\n",
              " <tr style=\"text-align: left;\">\n",
              "      <th>Epoch</th>\n",
              "      <th>Training Loss</th>\n",
              "      <th>Validation Loss</th>\n",
              "      <th>Average Precision Score</th>\n",
              "      <th>Accuracy</th>\n",
              "    </tr>\n",
              "  </thead>\n",
              "  <tbody>\n",
              "    <tr>\n",
              "      <td>1</td>\n",
              "      <td>No log</td>\n",
              "      <td>0.456998</td>\n",
              "      <td>0.951850</td>\n",
              "      <td>0.879433</td>\n",
              "    </tr>\n",
              "  </tbody>\n",
              "</table><p>"
            ]
          },
          "metadata": {}
        },
        {
          "output_type": "display_data",
          "data": {
            "text/plain": [
              "<IPython.core.display.HTML object>"
            ],
            "text/html": []
          },
          "metadata": {}
        },
        {
          "output_type": "display_data",
          "data": {
            "text/plain": [
              "<IPython.core.display.HTML object>"
            ],
            "text/html": []
          },
          "metadata": {}
        },
        {
          "output_type": "display_data",
          "data": {
            "text/plain": [
              "<IPython.core.display.HTML object>"
            ],
            "text/html": []
          },
          "metadata": {}
        }
      ]
    },
    {
      "cell_type": "code",
      "source": [
        "PrecisionRecallDisplay.from_predictions(\n",
        "    df[mask_train][TARGET].values, \n",
        "    df[mask_train][PRED].values, \n",
        "\n",
        ")\n",
        "# print(classification_report(df[mask_train][TARGET].values , np.argmax(train_predict.predictions, axis=1)))"
      ],
      "metadata": {
        "colab": {
          "base_uri": "https://localhost:8080/",
          "height": 466
        },
        "id": "FLvKQ2d8gcAm",
        "outputId": "9cb8a156-53ad-4d68-f9f3-b58b68958189"
      },
      "id": "FLvKQ2d8gcAm",
      "execution_count": 36,
      "outputs": [
        {
          "output_type": "execute_result",
          "data": {
            "text/plain": [
              "<sklearn.metrics._plot.precision_recall_curve.PrecisionRecallDisplay at 0x7f4636ca8a00>"
            ]
          },
          "metadata": {},
          "execution_count": 36
        },
        {
          "output_type": "display_data",
          "data": {
            "text/plain": [
              "<Figure size 640x480 with 1 Axes>"
            ],
            "image/png": "[encoded data removed]"
          },
          "metadata": {}
        }
      ]
    },
    {
      "cell_type": "code",
      "source": [
        "PrecisionRecallDisplay.from_predictions(\n",
        "    df[mask_valid][TARGET].values, \n",
        "    df[mask_valid][PRED].values, \n",
        ")\n",
        "# print(classification_report(df[mask_valid][TARGET].values , np.argmax(valid_predict.predictions, axis=1)))"
      ],
      "metadata": {
        "colab": {
          "base_uri": "https://localhost:8080/",
          "height": 466
        },
        "id": "dKCXt_A8fe1K",
        "outputId": "106f89da-b5da-4955-c1ab-8e49fc1430b0"
      },
      "id": "dKCXt_A8fe1K",
      "execution_count": 37,
      "outputs": [
        {
          "output_type": "execute_result",
          "data": {
            "text/plain": [
              "<sklearn.metrics._plot.precision_recall_curve.PrecisionRecallDisplay at 0x7f462fe00190>"
            ]
          },
          "metadata": {},
          "execution_count": 37
        },
        {
          "output_type": "display_data",
          "data": {
            "text/plain": [
              "<Figure size 640x480 with 1 Axes>"
            ],
            "image/png": "[encoded data removed]"
          },
          "metadata": {}
        }
      ]
    },
    {
      "cell_type": "code",
      "source": [
        "PrecisionRecallDisplay.from_predictions(\n",
        "    df[mask_test][TARGET].values, \n",
        "    df[mask_test][PRED].values, \n",
        ")\n",
        "# print(classification_report(df[mask_test][TARGET].values , np.argmax(test_predict.predictions, axis=1)))"
      ],
      "metadata": {
        "colab": {
          "base_uri": "https://localhost:8080/",
          "height": 466
        },
        "id": "Jl0IfoapXHUh",
        "outputId": "f73307d7-ec22-4683-c4aa-56ef0b17db67"
      },
      "id": "Jl0IfoapXHUh",
      "execution_count": 38,
      "outputs": [
        {
          "output_type": "execute_result",
          "data": {
            "text/plain": [
              "<sklearn.metrics._plot.precision_recall_curve.PrecisionRecallDisplay at 0x7f462fddf100>"
            ]
          },
          "metadata": {},
          "execution_count": 38
        },
        {
          "output_type": "display_data",
          "data": {
            "text/plain": [
              "<Figure size 640x480 with 1 Axes>"
            ],
            "image/png": "[encoded data removed]"
          },
          "metadata": {}
        }
      ]
    },
    {
      "cell_type": "code",
      "source": [
        "get_target_metric()"
      ],
      "metadata": {
        "colab": {
          "base_uri": "https://localhost:8080/"
        },
        "id": "IBxr5mTfmchI",
        "outputId": "08e2b21d-9dac-4deb-9a3b-428091fdec99"
      },
      "id": "IBxr5mTfmchI",
      "execution_count": 39,
      "outputs": [
        {
          "output_type": "stream",
          "name": "stdout",
          "text": [
            "              precision    recall  f1-score   support\n",
            "\n",
            "           0       0.84      0.96      0.89        70\n",
            "           1       0.94      0.78      0.85        58\n",
            "\n",
            "    accuracy                           0.88       128\n",
            "   macro avg       0.89      0.87      0.87       128\n",
            "weighted avg       0.88      0.88      0.87       128\n",
            "\n",
            "threshold=0.503\n"
          ]
        },
        {
          "output_type": "execute_result",
          "data": {
            "text/plain": [
              "0.7758620689655172"
            ]
          },
          "metadata": {},
          "execution_count": 39
        }
      ]
    },
    {
      "cell_type": "markdown",
      "source": [
        "# BERT Embeddings"
      ],
      "metadata": {
        "id": "LZZe0A_jF4av"
      },
      "id": "LZZe0A_jF4av"
    },
    {
      "cell_type": "code",
      "source": [
        "ENCODER_NAME = \"bert-base-uncased\""
      ],
      "metadata": {
        "id": "WoGJUy4KGwmz"
      },
      "id": "WoGJUy4KGwmz",
      "execution_count": 40,
      "outputs": []
    },
    {
      "cell_type": "code",
      "source": [
        "if not os.path.exists(PATH_TO_DATA/f'{ENCODER_NAME}.txt'):\n",
        "    feature_extraction = pipeline('feature-extraction', model=ENCODER_NAME, tokenizer=ENCODER_NAME)\n",
        "    features = feature_extraction(df['req'].tolist())\n",
        "    features = [x[0][0] for x in features]\n",
        "    features = pd.DataFrame(data=np.array(features))\n",
        "    features['index'] = df.index.values\n",
        "    features = features.set_index('index')\n",
        "\n",
        "    features.to_csv(PATH_TO_DATA/f'{ENCODER_NAME}.txt')\n",
        "\n",
        "features = pd.read_csv(PATH_TO_DATA/f'{ENCODER_NAME}.txt', index_col=0).drop(columns=['bin_type', 'type', SAMPLE])\n",
        "BERT_FEATURES = list(map(str, range(768)))\n",
        "\n",
        "df = df.drop(columns=BERT_FEATURES, errors='ignore')\n",
        "df = df.join(features)\n",
        "\n",
        "del features\n",
        "gc.collect()"
      ],
      "metadata": {
        "colab": {
          "base_uri": "https://localhost:8080/"
        },
        "id": "cYleI0NPF3kP",
        "outputId": "8708ea1c-d637-4876-faef-1bfff652b97f"
      },
      "id": "cYleI0NPF3kP",
      "execution_count": 41,
      "outputs": [
        {
          "output_type": "execute_result",
          "data": {
            "text/plain": [
              "9832"
            ]
          },
          "metadata": {},
          "execution_count": 41
        }
      ]
    },
    {
      "cell_type": "markdown",
      "source": [
        "## CatBoost"
      ],
      "metadata": {
        "id": "OhoetXYXRKth"
      },
      "id": "OhoetXYXRKth"
    },
    {
      "cell_type": "code",
      "source": [
        "params = {\n",
        "    'iterations': 200,\n",
        "    'verbose': 20,\n",
        "    'od_wait': 30,\n",
        "    'learning_rate': 0.05, \n",
        "    'random_state': RANDOM_STATE,\n",
        "    'loss_function': 'Logloss',\n",
        "    'eval_metric': 'Accuracy',\n",
        "    'depth': 3,\n",
        "    'random_strength': 0.0\n",
        "}\n",
        "clf = CatBoostClassifier(**params, )"
      ],
      "metadata": {
        "id": "yEJNPoTWIh0R"
      },
      "id": "yEJNPoTWIh0R",
      "execution_count": 42,
      "outputs": []
    },
    {
      "cell_type": "code",
      "source": [
        "clf.fit(df[mask_train][BERT_FEATURES], df[mask_train][TARGET],\n",
        "       eval_set=(df[mask_valid][BERT_FEATURES], df[mask_valid][TARGET])\n",
        "       )\n",
        "\n",
        "df[PRED] = clf.predict_proba(df[BERT_FEATURES])[:, 1]"
      ],
      "metadata": {
        "colab": {
          "base_uri": "https://localhost:8080/"
        },
        "id": "iRuhGsZHJLND",
        "outputId": "9512188c-e15d-4a43-e7d1-726e77f15d2a"
      },
      "id": "iRuhGsZHJLND",
      "execution_count": 43,
      "outputs": [
        {
          "output_type": "stream",
          "name": "stdout",
          "text": [
            "0:\tlearn: 0.7328571\ttest: 0.5673759\tbest: 0.5673759 (0)\ttotal: 105ms\tremaining: 20.8s\n",
            "20:\tlearn: 0.8871429\ttest: 0.8085106\tbest: 0.8085106 (17)\ttotal: 862ms\tremaining: 7.35s\n",
            "40:\tlearn: 0.9257143\ttest: 0.8156028\tbest: 0.8368794 (38)\ttotal: 1.65s\tremaining: 6.41s\n",
            "60:\tlearn: 0.9542857\ttest: 0.8652482\tbest: 0.8794326 (53)\ttotal: 2.43s\tremaining: 5.55s\n",
            "80:\tlearn: 0.9685714\ttest: 0.8581560\tbest: 0.8794326 (53)\ttotal: 3.2s\tremaining: 4.71s\n",
            "Stopped by overfitting detector  (30 iterations wait)\n",
            "\n",
            "bestTest = 0.8794326241\n",
            "bestIteration = 53\n",
            "\n",
            "Shrink model to first 54 iterations.\n"
          ]
        }
      ]
    },
    {
      "cell_type": "code",
      "source": [
        "PrecisionRecallDisplay.from_predictions(\n",
        "    df[mask_train][TARGET].values, \n",
        "    df[mask_train][PRED].values, \n",
        ")\n",
        "# print(classification_report(df[mask_train][TARGET].values , clf.predict(df[mask_train][BERT_FEATURES])))"
      ],
      "metadata": {
        "colab": {
          "base_uri": "https://localhost:8080/",
          "height": 466
        },
        "outputId": "19e3883c-d99c-42d5-83a6-29c3cdce69cc",
        "id": "WM9vNMXmO-rR"
      },
      "execution_count": 44,
      "outputs": [
        {
          "output_type": "execute_result",
          "data": {
            "text/plain": [
              "<sklearn.metrics._plot.precision_recall_curve.PrecisionRecallDisplay at 0x7f462c8689a0>"
            ]
          },
          "metadata": {},
          "execution_count": 44
        },
        {
          "output_type": "display_data",
          "data": {
            "text/plain": [
              "<Figure size 640x480 with 1 Axes>"
            ],
            "image/png": "[encoded data removed]"
          },
          "metadata": {}
        }
      ],
      "id": "WM9vNMXmO-rR"
    },
    {
      "cell_type": "code",
      "execution_count": 45,
      "metadata": {
        "ExecuteTime": {
          "end_time": "2023-05-09T17:24:09.940638Z",
          "start_time": "2023-05-09T17:24:09.383217Z"
        },
        "colab": {
          "base_uri": "https://localhost:8080/",
          "height": 466
        },
        "outputId": "9ec5d1c7-9689-47c6-9297-9ceff3356fc7",
        "id": "BegAG6hlO-rb"
      },
      "outputs": [
        {
          "output_type": "execute_result",
          "data": {
            "text/plain": [
              "<sklearn.metrics._plot.precision_recall_curve.PrecisionRecallDisplay at 0x7f462c868af0>"
            ]
          },
          "metadata": {},
          "execution_count": 45
        },
        {
          "output_type": "display_data",
          "data": {
            "text/plain": [
              "<Figure size 640x480 with 1 Axes>"
            ],
            "image/png": "[encoded data removed]"
          },
          "metadata": {}
        }
      ],
      "source": [
        "PrecisionRecallDisplay.from_predictions(\n",
        "    df[mask_valid][TARGET].values, \n",
        "    df[mask_valid][PRED].values, \n",
        ")\n",
        "# print(classification_report(df[mask_valid][TARGET].values , clf.predict(df[mask_valid][BERT_FEATURES])))"
      ],
      "id": "BegAG6hlO-rb"
    },
    {
      "cell_type": "code",
      "execution_count": 46,
      "metadata": {
        "ExecuteTime": {
          "end_time": "2023-05-09T17:24:17.775238Z",
          "start_time": "2023-05-09T17:24:17.562407Z"
        },
        "colab": {
          "base_uri": "https://localhost:8080/",
          "height": 466
        },
        "outputId": "1640970c-1d5c-49f2-8083-e962d1f8bc38",
        "id": "fK-y9rE9O-rb"
      },
      "outputs": [
        {
          "output_type": "execute_result",
          "data": {
            "text/plain": [
              "<sklearn.metrics._plot.precision_recall_curve.PrecisionRecallDisplay at 0x7f4639b039a0>"
            ]
          },
          "metadata": {},
          "execution_count": 46
        },
        {
          "output_type": "display_data",
          "data": {
            "text/plain": [
              "<Figure size 640x480 with 1 Axes>"
            ],
            "image/png": "[encoded data removed]"
          },
          "metadata": {}
        }
      ],
      "source": [
        "PrecisionRecallDisplay.from_predictions(\n",
        "    df[mask_test][TARGET].values, \n",
        "    df[mask_test][PRED].values, \n",
        ")\n",
        "# print(classification_report(df[mask_test][TARGET].values , clf.predict(df[mask_test][BERT_FEATURES])))"
      ],
      "id": "fK-y9rE9O-rb"
    },
    {
      "cell_type": "code",
      "source": [
        "get_target_metric()"
      ],
      "metadata": {
        "colab": {
          "base_uri": "https://localhost:8080/"
        },
        "id": "zt0EcRXzs7Jb",
        "outputId": "9f7de1f3-e527-4842-aa59-385ed7a0c675"
      },
      "id": "zt0EcRXzs7Jb",
      "execution_count": 47,
      "outputs": [
        {
          "output_type": "stream",
          "name": "stdout",
          "text": [
            "              precision    recall  f1-score   support\n",
            "\n",
            "           0       0.88      0.81      0.84        70\n",
            "           1       0.79      0.86      0.83        58\n",
            "\n",
            "    accuracy                           0.84       128\n",
            "   macro avg       0.84      0.84      0.84       128\n",
            "weighted avg       0.84      0.84      0.84       128\n",
            "\n",
            "threshold=0.463\n"
          ]
        },
        {
          "output_type": "execute_result",
          "data": {
            "text/plain": [
              "0.8620689655172413"
            ]
          },
          "metadata": {},
          "execution_count": 47
        }
      ]
    },
    {
      "cell_type": "markdown",
      "source": [
        "## LGBM"
      ],
      "metadata": {
        "id": "dEZHHJpwRRpI"
      },
      "id": "dEZHHJpwRRpI"
    },
    {
      "cell_type": "code",
      "source": [
        "params = {\n",
        "    'random_state': RANDOM_STATE,\n",
        "    'objective': \"binary\",\n",
        "    # 'learning_rate': 0.05,\n",
        "    # 'max_depth': 3\n",
        "}\n",
        "\n",
        "clf = LGBMClassifier(**params)\n",
        "\n",
        "fit_params = {\n",
        "    'eval_set': [\n",
        "        (df[mask_train][BERT_FEATURES], df[mask_train][TARGET]),\n",
        "        (df[mask_valid][BERT_FEATURES], df[mask_valid][TARGET])\n",
        "    ],\n",
        "    'eval_names': ['train', 'valid'],\n",
        "    'early_stopping_rounds': 50,\n",
        "    'verbose': 30,\n",
        "}\n",
        "\n",
        "clf.fit(df[mask_train][BERT_FEATURES], df[mask_train][TARGET], **fit_params)\n",
        "df[PRED] = clf.predict_proba(df[BERT_FEATURES])[:, 1]"
      ],
      "metadata": {
        "colab": {
          "base_uri": "https://localhost:8080/"
        },
        "id": "L0pNSn7fRetO",
        "outputId": "11247af1-fef9-4db2-e3cb-ac926cf5e0aa"
      },
      "id": "L0pNSn7fRetO",
      "execution_count": 48,
      "outputs": [
        {
          "output_type": "stream",
          "name": "stderr",
          "text": [
            "/usr/local/lib/python3.10/dist-packages/lightgbm/sklearn.py:726: UserWarning: 'early_stopping_rounds' argument is deprecated and will be removed in a future release of LightGBM. Pass 'early_stopping()' callback via 'callbacks' argument instead.\n",
            "  _log_warning(\"'early_stopping_rounds' argument is deprecated and will be removed in a future release of LightGBM. \"\n",
            "/usr/local/lib/python3.10/dist-packages/lightgbm/sklearn.py:736: UserWarning: 'verbose' argument is deprecated and will be removed in a future release of LightGBM. Pass 'log_evaluation()' callback via 'callbacks' argument instead.\n",
            "  _log_warning(\"'verbose' argument is deprecated and will be removed in a future release of LightGBM. \"\n"
          ]
        },
        {
          "output_type": "stream",
          "name": "stdout",
          "text": [
            "[30]\ttrain's binary_logloss: 0.102619\tvalid's binary_logloss: 0.374368\n",
            "[60]\ttrain's binary_logloss: 0.0197774\tvalid's binary_logloss: 0.311258\n",
            "[90]\ttrain's binary_logloss: 0.00379856\tvalid's binary_logloss: 0.300331\n"
          ]
        }
      ]
    },
    {
      "cell_type": "code",
      "source": [
        "PrecisionRecallDisplay.from_predictions(\n",
        "    df[mask_train][TARGET].values, \n",
        "    df[mask_train][PRED].values, \n",
        ")\n",
        "# print(classification_report(df[mask_train][TARGET].values , clf.predict(df[mask_train][BERT_FEATURES])))"
      ],
      "metadata": {
        "colab": {
          "base_uri": "https://localhost:8080/",
          "height": 466
        },
        "outputId": "c3085213-d5fb-4084-bc28-fadfcd863511",
        "id": "X6JwOM9qtvAB"
      },
      "execution_count": 49,
      "outputs": [
        {
          "output_type": "execute_result",
          "data": {
            "text/plain": [
              "<sklearn.metrics._plot.precision_recall_curve.PrecisionRecallDisplay at 0x7f4639cc0670>"
            ]
          },
          "metadata": {},
          "execution_count": 49
        },
        {
          "output_type": "display_data",
          "data": {
            "text/plain": [
              "<Figure size 640x480 with 1 Axes>"
            ],
            "image/png": "[encoded data removed]"
          },
          "metadata": {}
        }
      ],
      "id": "X6JwOM9qtvAB"
    },
    {
      "cell_type": "code",
      "execution_count": 50,
      "metadata": {
        "ExecuteTime": {
          "end_time": "2023-05-09T17:24:09.940638Z",
          "start_time": "2023-05-09T17:24:09.383217Z"
        },
        "colab": {
          "base_uri": "https://localhost:8080/",
          "height": 466
        },
        "outputId": "33c2f658-416e-4fb4-91b9-4d9487bc7940",
        "id": "2YY7pP3BtvAP"
      },
      "outputs": [
        {
          "output_type": "execute_result",
          "data": {
            "text/plain": [
              "<sklearn.metrics._plot.precision_recall_curve.PrecisionRecallDisplay at 0x7f462c84f340>"
            ]
          },
          "metadata": {},
          "execution_count": 50
        },
        {
          "output_type": "display_data",
          "data": {
            "text/plain": [
              "<Figure size 640x480 with 1 Axes>"
            ],
            "image/png": "[encoded data removed]"
          },
          "metadata": {}
        }
      ],
      "source": [
        "PrecisionRecallDisplay.from_predictions(\n",
        "    df[mask_valid][TARGET].values, \n",
        "    df[mask_valid][PRED].values, \n",
        ")\n",
        "# print(classification_report(df[mask_valid][TARGET].values , clf.predict(df[mask_valid][BERT_FEATURES])))"
      ],
      "id": "2YY7pP3BtvAP"
    },
    {
      "cell_type": "code",
      "execution_count": 51,
      "metadata": {
        "ExecuteTime": {
          "end_time": "2023-05-09T17:24:17.775238Z",
          "start_time": "2023-05-09T17:24:17.562407Z"
        },
        "colab": {
          "base_uri": "https://localhost:8080/",
          "height": 466
        },
        "outputId": "a21570c0-68c0-4000-bd72-0fe1274a9a78",
        "id": "pcjbkWz3tvAP"
      },
      "outputs": [
        {
          "output_type": "execute_result",
          "data": {
            "text/plain": [
              "<sklearn.metrics._plot.precision_recall_curve.PrecisionRecallDisplay at 0x7f462c833f10>"
            ]
          },
          "metadata": {},
          "execution_count": 51
        },
        {
          "output_type": "display_data",
          "data": {
            "text/plain": [
              "<Figure size 640x480 with 1 Axes>"
            ],
            "image/png": "[encoded data removed]"
          },
          "metadata": {}
        }
      ],
      "source": [
        "PrecisionRecallDisplay.from_predictions(\n",
        "    df[mask_test][TARGET].values, \n",
        "    df[mask_test][PRED].values, \n",
        ")\n",
        "# print(classification_report(df[mask_test][TARGET].values , clf.predict(df[mask_test][BERT_FEATURES])))"
      ],
      "id": "pcjbkWz3tvAP"
    },
    {
      "cell_type": "code",
      "source": [
        "get_target_metric()"
      ],
      "metadata": {
        "colab": {
          "base_uri": "https://localhost:8080/"
        },
        "outputId": "0f6478be-dc01-4d63-f0f8-f7eb8b59a287",
        "id": "l9yoHRG9tvAQ"
      },
      "execution_count": 52,
      "outputs": [
        {
          "output_type": "stream",
          "name": "stdout",
          "text": [
            "              precision    recall  f1-score   support\n",
            "\n",
            "           0       0.86      0.81      0.84        70\n",
            "           1       0.79      0.84      0.82        58\n",
            "\n",
            "    accuracy                           0.83       128\n",
            "   macro avg       0.83      0.83      0.83       128\n",
            "weighted avg       0.83      0.83      0.83       128\n",
            "\n",
            "threshold=0.319\n"
          ]
        },
        {
          "output_type": "execute_result",
          "data": {
            "text/plain": [
              "0.8448275862068966"
            ]
          },
          "metadata": {},
          "execution_count": 52
        }
      ],
      "id": "l9yoHRG9tvAQ"
    },
    {
      "cell_type": "markdown",
      "source": [
        "## SVM"
      ],
      "metadata": {
        "id": "WofwD-slRZG0"
      },
      "id": "WofwD-slRZG0"
    },
    {
      "cell_type": "code",
      "execution_count": 53,
      "metadata": {
        "ExecuteTime": {
          "end_time": "2023-05-09T17:19:36.976338Z",
          "start_time": "2023-05-09T17:19:36.951017Z"
        },
        "id": "LSGBrmF7Rfm-"
      },
      "outputs": [],
      "source": [
        "clf = SVC(probability=True)\n",
        "\n",
        "clf.fit(df[mask_train][BERT_FEATURES], df[mask_train][TARGET])\n",
        "df[PRED] = clf.predict_proba(df[BERT_FEATURES])[:, 1]"
      ],
      "id": "LSGBrmF7Rfm-"
    },
    {
      "cell_type": "code",
      "source": [
        "PrecisionRecallDisplay.from_predictions(\n",
        "    df[mask_train][TARGET].values, \n",
        "    df[mask_train][PRED].values, \n",
        ")\n",
        "# print(classification_report(df[mask_train][TARGET].values , clf.predict(df[mask_train][BERT_FEATURES])))"
      ],
      "metadata": {
        "colab": {
          "base_uri": "https://localhost:8080/",
          "height": 466
        },
        "outputId": "b27a3c56-3006-4d37-e7b3-6e250435710b",
        "id": "LvIzrmw2t4ar"
      },
      "execution_count": 54,
      "outputs": [
        {
          "output_type": "execute_result",
          "data": {
            "text/plain": [
              "<sklearn.metrics._plot.precision_recall_curve.PrecisionRecallDisplay at 0x7f4639cc0160>"
            ]
          },
          "metadata": {},
          "execution_count": 54
        },
        {
          "output_type": "display_data",
          "data": {
            "text/plain": [
              "<Figure size 640x480 with 1 Axes>"
            ],
            "image/png": "[encoded data removed]"
          },
          "metadata": {}
        }
      ],
      "id": "LvIzrmw2t4ar"
    },
    {
      "cell_type": "code",
      "execution_count": 55,
      "metadata": {
        "ExecuteTime": {
          "end_time": "2023-05-09T17:24:09.940638Z",
          "start_time": "2023-05-09T17:24:09.383217Z"
        },
        "colab": {
          "base_uri": "https://localhost:8080/",
          "height": 466
        },
        "outputId": "2bc24899-d1b2-4638-8d54-8c9404cf3580",
        "id": "UaWJkWxHt4as"
      },
      "outputs": [
        {
          "output_type": "execute_result",
          "data": {
            "text/plain": [
              "<sklearn.metrics._plot.precision_recall_curve.PrecisionRecallDisplay at 0x7f4639df1f90>"
            ]
          },
          "metadata": {},
          "execution_count": 55
        },
        {
          "output_type": "display_data",
          "data": {
            "text/plain": [
              "<Figure size 640x480 with 1 Axes>"
            ],
            "image/png": "[encoded data removed]"
          },
          "metadata": {}
        }
      ],
      "source": [
        "PrecisionRecallDisplay.from_predictions(\n",
        "    df[mask_valid][TARGET].values, \n",
        "    df[mask_valid][PRED].values, \n",
        ")\n",
        "# print(classification_report(df[mask_valid][TARGET].values , clf.predict(df[mask_valid][BERT_FEATURES])))"
      ],
      "id": "UaWJkWxHt4as"
    },
    {
      "cell_type": "code",
      "execution_count": 56,
      "metadata": {
        "ExecuteTime": {
          "end_time": "2023-05-09T17:24:17.775238Z",
          "start_time": "2023-05-09T17:24:17.562407Z"
        },
        "colab": {
          "base_uri": "https://localhost:8080/",
          "height": 466
        },
        "outputId": "f724b70e-e529-420f-89b3-b67063025b54",
        "id": "bXIRpcSut4as"
      },
      "outputs": [
        {
          "output_type": "execute_result",
          "data": {
            "text/plain": [
              "<sklearn.metrics._plot.precision_recall_curve.PrecisionRecallDisplay at 0x7f462cd60af0>"
            ]
          },
          "metadata": {},
          "execution_count": 56
        },
        {
          "output_type": "display_data",
          "data": {
            "text/plain": [
              "<Figure size 640x480 with 1 Axes>"
            ],
            "image/png": "[encoded data removed]"
          },
          "metadata": {}
        }
      ],
      "source": [
        "PrecisionRecallDisplay.from_predictions(\n",
        "    df[mask_test][TARGET].values, \n",
        "    df[mask_test][PRED].values, \n",
        ")\n",
        "# print(classification_report(df[mask_test][TARGET].values , clf.predict(df[mask_test][BERT_FEATURES])))"
      ],
      "id": "bXIRpcSut4as"
    },
    {
      "cell_type": "code",
      "source": [
        "get_target_metric()"
      ],
      "metadata": {
        "colab": {
          "base_uri": "https://localhost:8080/"
        },
        "outputId": "e1d7a42c-7feb-47d3-d7b3-003aa88f03d1",
        "id": "8B5e35EUt4as"
      },
      "execution_count": 57,
      "outputs": [
        {
          "output_type": "stream",
          "name": "stdout",
          "text": [
            "              precision    recall  f1-score   support\n",
            "\n",
            "           0       0.95      0.80      0.87        70\n",
            "           1       0.80      0.95      0.87        58\n",
            "\n",
            "    accuracy                           0.87       128\n",
            "   macro avg       0.87      0.87      0.87       128\n",
            "weighted avg       0.88      0.87      0.87       128\n",
            "\n",
            "threshold=0.387\n"
          ]
        },
        {
          "output_type": "execute_result",
          "data": {
            "text/plain": [
              "0.9482758620689655"
            ]
          },
          "metadata": {},
          "execution_count": 57
        }
      ],
      "id": "8B5e35EUt4as"
    },
    {
      "cell_type": "markdown",
      "source": [
        "# HGAT"
      ],
      "metadata": {
        "id": "oNHJht5J75GG"
      },
      "id": "oNHJht5J75GG"
    },
    {
      "cell_type": "code",
      "source": [
        "scores = pd.read_csv(BASE_PATH/'HGAT-master/model/embeddings/software_requirements.emb2', sep='\\t', header=None)\n",
        "scores = np.vstack(scores[0].str[1:-1].str.split(',').apply(lambda x: np.array([float(a) for a in x])).values)\n",
        "df[PRED] = softmax(scores, axis=1)[:, 1]"
      ],
      "metadata": {
        "id": "IdgKkPSJ77_K"
      },
      "id": "IdgKkPSJ77_K",
      "execution_count": 28,
      "outputs": []
    },
    {
      "cell_type": "code",
      "source": [
        "get_target_metric()"
      ],
      "metadata": {
        "colab": {
          "base_uri": "https://localhost:8080/"
        },
        "id": "C3cVrxmU8P-h",
        "outputId": "0bb3a180-73ae-4711-c868-aade6c7ba18f"
      },
      "id": "C3cVrxmU8P-h",
      "execution_count": 29,
      "outputs": [
        {
          "output_type": "stream",
          "name": "stdout",
          "text": [
            "              precision    recall  f1-score   support\n",
            "\n",
            "           0       0.93      0.81      0.87        70\n",
            "           1       0.81      0.93      0.86        58\n",
            "\n",
            "    accuracy                           0.87       128\n",
            "   macro avg       0.87      0.87      0.87       128\n",
            "weighted avg       0.88      0.87      0.87       128\n",
            "\n",
            "threshold=0.427\n"
          ]
        },
        {
          "output_type": "execute_result",
          "data": {
            "text/plain": [
              "0.9310344827586207"
            ]
          },
          "metadata": {},
          "execution_count": 29
        }
      ]
    },
    {
      "cell_type": "code",
      "source": [
        "df_summary = df[[SAMPLE, 'req', 'bin_type', 'pred']]\n",
        "df_summary['pred_label'] = np.where(df['pred'] > 0.427, 1, 0)"
      ],
      "metadata": {
        "id": "13Vb2a2p2d6Y"
      },
      "id": "13Vb2a2p2d6Y",
      "execution_count": 30,
      "outputs": []
    },
    {
      "cell_type": "code",
      "source": [
        "df_summary.loc[[177, 603, 200, 346, 347, 680, 204], ['req', 'bin_type', 'pred']]"
      ],
      "metadata": {
        "colab": {
          "base_uri": "https://localhost:8080/",
          "height": 269
        },
        "id": "v962FG6O2eW3",
        "outputId": "b372e181-288b-4487-a023-fe37a6d2ea60"
      },
      "id": "v962FG6O2eW3",
      "execution_count": 56,
      "outputs": [
        {
          "output_type": "execute_result",
          "data": {
            "text/plain": [
              "                                                                                                                   req  \\\n",
              "177                                        The Disputes System must be accessible by both internal and external users.   \n",
              "603  The application shall ask the user to confirm dropping a player or trading a player before performing the action.   \n",
              "200        All letter requests must be formatted according to guidelines specified by the Print Letter Utility system.   \n",
              "346                                                               The product shall have a customizable Look and Feel.   \n",
              "347                                                                The product shall have an intuitive user interface.   \n",
              "680  The campus map shall provide visual clues regarding what areas have prepared audio and therefore may be selected.   \n",
              "204          The product shall interface with the Choice Parts System.  This provides the feed of recycled parts data.   \n",
              "\n",
              "     bin_type      pred  \n",
              "177         1  0.187901  \n",
              "603         0  0.938285  \n",
              "200         1  0.191291  \n",
              "346         1  0.128582  \n",
              "347         1  0.100875  \n",
              "680         0  0.806561  \n",
              "204         0  0.806526  "
            ],
            "text/html": [
              "\n",
              "  <div id=\"df-91ff91c4-2720-4747-a938-de0f1b24af1c\">\n",
              "    <div class=\"colab-df-container\">\n",
              "      <div>\n",
              "<style scoped>\n",
              "    .dataframe tbody tr th:only-of-type {\n",
              "        vertical-align: middle;\n",
              "    }\n",
              "\n",
              "    .dataframe tbody tr th {\n",
              "        vertical-align: top;\n",
              "    }\n",
              "\n",
              "    .dataframe thead th {\n",
              "        text-align: right;\n",
              "    }\n",
              "</style>\n",
              "<table border=\"1\" class=\"dataframe\">\n",
              "  <thead>\n",
              "    <tr style=\"text-align: right;\">\n",
              "      <th></th>\n",
              "      <th>req</th>\n",
              "      <th>bin_type</th>\n",
              "      <th>pred</th>\n",
              "    </tr>\n",
              "  </thead>\n",
              "  <tbody>\n",
              "    <tr>\n",
              "      <th>177</th>\n",
              "      <td>The Disputes System must be accessible by both internal and external users.</td>\n",
              "      <td>1</td>\n",
              "      <td>0.187901</td>\n",
              "    </tr>\n",
              "    <tr>\n",
              "      <th>603</th>\n",
              "      <td>The application shall ask the user to confirm dropping a player or trading a player before performing the action.</td>\n",
              "      <td>0</td>\n",
              "      <td>0.938285</td>\n",
              "    </tr>\n",
              "    <tr>\n",
              "      <th>200</th>\n",
              "      <td>All letter requests must be formatted according to guidelines specified by the Print Letter Utility system.</td>\n",
              "      <td>1</td>\n",
              "      <td>0.191291</td>\n",
              "    </tr>\n",
              "    <tr>\n",
              "      <th>346</th>\n",
              "      <td>The product shall have a customizable Look and Feel.</td>\n",
              "      <td>1</td>\n",
              "      <td>0.128582</td>\n",
              "    </tr>\n",
              "    <tr>\n",
              "      <th>347</th>\n",
              "      <td>The product shall have an intuitive user interface.</td>\n",
              "      <td>1</td>\n",
              "      <td>0.100875</td>\n",
              "    </tr>\n",
              "    <tr>\n",
              "      <th>680</th>\n",
              "      <td>The campus map shall provide visual clues regarding what areas have prepared audio and therefore may be selected.</td>\n",
              "      <td>0</td>\n",
              "      <td>0.806561</td>\n",
              "    </tr>\n",
              "    <tr>\n",
              "      <th>204</th>\n",
              "      <td>The product shall interface with the Choice Parts System.  This provides the feed of recycled parts data.</td>\n",
              "      <td>0</td>\n",
              "      <td>0.806526</td>\n",
              "    </tr>\n",
              "  </tbody>\n",
              "</table>\n",
              "</div>\n",
              "      <button class=\"colab-df-convert\" onclick=\"convertToInteractive('df-91ff91c4-2720-4747-a938-de0f1b24af1c')\"\n",
              "              title=\"Convert this dataframe to an interactive table.\"\n",
              "              style=\"display:none;\">\n",
              "        \n",
              "  <svg xmlns=\"http://www.w3.org/2000/svg\" height=\"24px\"viewBox=\"0 0 24 24\"\n",
              "       width=\"24px\">\n",
              "    <path d=\"M0 0h24v24H0V0z\" fill=\"none\"/>\n",
              "    <path d=\"M18.56 5.44l.94 2.06.94-2.06 2.06-.94-2.06-.94-.94-2.06-.94 2.06-2.06.94zm-11 1L8.5 8.5l.94-2.06 2.06-.94-2.06-.94L8.5 2.5l-.94 2.06-2.06.94zm10 10l.94 2.06.94-2.06 2.06-.94-2.06-.94-.94-2.06-.94 2.06-2.06.94z\"/><path d=\"M17.41 7.96l-1.37-1.37c-.4-.4-.92-.59-1.43-.59-.52 0-1.04.2-1.43.59L10.3 9.45l-7.72 7.72c-.78.78-.78 2.05 0 2.83L4 21.41c.39.39.9.59 1.41.59.51 0 1.02-.2 1.41-.59l7.78-7.78 2.81-2.81c.8-.78.8-2.07 0-2.86zM5.41 20L4 18.59l7.72-7.72 1.47 1.35L5.41 20z\"/>\n",
              "  </svg>\n",
              "      </button>\n",
              "      \n",
              "  <style>\n",
              "    .colab-df-container {\n",
              "      display:flex;\n",
              "      flex-wrap:wrap;\n",
              "      gap: 12px;\n",
              "    }\n",
              "\n",
              "    .colab-df-convert {\n",
              "      background-color: #E8F0FE;\n",
              "      border: none;\n",
              "      border-radius: 50%;\n",
              "      cursor: pointer;\n",
              "      display: none;\n",
              "      fill: #1967D2;\n",
              "      height: 32px;\n",
              "      padding: 0 0 0 0;\n",
              "      width: 32px;\n",
              "    }\n",
              "\n",
              "    .colab-df-convert:hover {\n",
              "      background-color: #E2EBFA;\n",
              "      box-shadow: 0px 1px 2px rgba(60, 64, 67, 0.3), 0px 1px 3px 1px rgba(60, 64, 67, 0.15);\n",
              "      fill: #174EA6;\n",
              "    }\n",
              "\n",
              "    [theme=dark] .colab-df-convert {\n",
              "      background-color: #3B4455;\n",
              "      fill: #D2E3FC;\n",
              "    }\n",
              "\n",
              "    [theme=dark] .colab-df-convert:hover {\n",
              "      background-color: #434B5C;\n",
              "      box-shadow: 0px 1px 3px 1px rgba(0, 0, 0, 0.15);\n",
              "      filter: drop-shadow(0px 1px 2px rgba(0, 0, 0, 0.3));\n",
              "      fill: #FFFFFF;\n",
              "    }\n",
              "  </style>\n",
              "\n",
              "      <script>\n",
              "        const buttonEl =\n",
              "          document.querySelector('#df-91ff91c4-2720-4747-a938-de0f1b24af1c button.colab-df-convert');\n",
              "        buttonEl.style.display =\n",
              "          google.colab.kernel.accessAllowed ? 'block' : 'none';\n",
              "\n",
              "        async function convertToInteractive(key) {\n",
              "          const element = document.querySelector('#df-91ff91c4-2720-4747-a938-de0f1b24af1c');\n",
              "          const dataTable =\n",
              "            await google.colab.kernel.invokeFunction('convertToInteractive',\n",
              "                                                     [key], {});\n",
              "          if (!dataTable) return;\n",
              "\n",
              "          const docLinkHtml = 'Like what you see? Visit the ' +\n",
              "            '<a target=\"_blank\" href=https://colab.research.google.com/notebooks/data_table.ipynb>data table notebook</a>'\n",
              "            + ' to learn more about interactive tables.';\n",
              "          element.innerHTML = '';\n",
              "          dataTable['output_type'] = 'display_data';\n",
              "          await google.colab.output.renderOutput(dataTable, element);\n",
              "          const docLink = document.createElement('div');\n",
              "          docLink.innerHTML = docLinkHtml;\n",
              "          element.appendChild(docLink);\n",
              "        }\n",
              "      </script>\n",
              "    </div>\n",
              "  </div>\n",
              "  "
            ]
          },
          "metadata": {},
          "execution_count": 56
        }
      ]
    }
  ],
  "metadata": {
    "kernelspec": {
      "display_name": "Python 3",
      "name": "python3"
    },
    "language_info": {
      "codemirror_mode": {
        "name": "ipython",
        "version": 3
      },
      "file_extension": ".py",
      "mimetype": "text/x-python",
      "name": "python",
      "nbconvert_exporter": "python",
      "pygments_lexer": "ipython3",
      "version": "3.11.3"
    },
    "toc": {
      "base_numbering": 1,
      "nav_menu": {},
      "number_sections": true,
      "sideBar": true,
      "skip_h1_title": false,
      "title_cell": "Table of Contents",
      "title_sidebar": "Contents",
      "toc_cell": false,
      "toc_position": {},
      "toc_section_display": true,
      "toc_window_display": false
    },
    "colab": {
      "provenance": [],
      "toc_visible": true,
      "gpuType": "T4"
    },
    "widgets": {
      "application/vnd.jupyter.widget-state+json": {
        "8abbdcb2d7f64e1d9b04ed04ce2cb613": {
          "model_module": "@jupyter-widgets/controls",
          "model_name": "HBoxModel",
          "model_module_version": "1.5.0",
          "state": {
            "_dom_classes": [],
            "_model_module": "@jupyter-widgets/controls",
            "_model_module_version": "1.5.0",
            "_model_name": "HBoxModel",
            "_view_count": null,
            "_view_module": "@jupyter-widgets/controls",
            "_view_module_version": "1.5.0",
            "_view_name": "HBoxView",
            "box_style": "",
            "children": [
              "IPY_MODEL_d72d45ebfa8b4d9ca3e4f92cc81b484e",
              "IPY_MODEL_bc87f765ce8b4107ba65b04cc87114f3",
              "IPY_MODEL_7a82c48523474e3f947426d3460301df"
            ],
            "layout": "IPY_MODEL_e2cfe679848a4b9fba1c890d364af5ce"
          }
        },
        "d72d45ebfa8b4d9ca3e4f92cc81b484e": {
          "model_module": "@jupyter-widgets/controls",
          "model_name": "HTMLModel",
          "model_module_version": "1.5.0",
          "state": {
            "_dom_classes": [],
            "_model_module": "@jupyter-widgets/controls",
            "_model_module_version": "1.5.0",
            "_model_name": "HTMLModel",
            "_view_count": null,
            "_view_module": "@jupyter-widgets/controls",
            "_view_module_version": "1.5.0",
            "_view_name": "HTMLView",
            "description": "",
            "description_tooltip": null,
            "layout": "IPY_MODEL_fe5e320566a3455cabb391ff61e444cf",
            "placeholder": "​",
            "style": "IPY_MODEL_2d1113dfa9ca45b08350d3bf8e1e938f",
            "value": "Downloading (…)okenizer_config.json: 100%"
          }
        },
        "bc87f765ce8b4107ba65b04cc87114f3": {
          "model_module": "@jupyter-widgets/controls",
          "model_name": "FloatProgressModel",
          "model_module_version": "1.5.0",
          "state": {
            "_dom_classes": [],
            "_model_module": "@jupyter-widgets/controls",
            "_model_module_version": "1.5.0",
            "_model_name": "FloatProgressModel",
            "_view_count": null,
            "_view_module": "@jupyter-widgets/controls",
            "_view_module_version": "1.5.0",
            "_view_name": "ProgressView",
            "bar_style": "success",
            "description": "",
            "description_tooltip": null,
            "layout": "IPY_MODEL_67db5924aafa4b67aad62c6308049e1d",
            "max": 28,
            "min": 0,
            "orientation": "horizontal",
            "style": "IPY_MODEL_a26632515bbd4cd388b5b649a35d7ac1",
            "value": 28
          }
        },
        "7a82c48523474e3f947426d3460301df": {
          "model_module": "@jupyter-widgets/controls",
          "model_name": "HTMLModel",
          "model_module_version": "1.5.0",
          "state": {
            "_dom_classes": [],
            "_model_module": "@jupyter-widgets/controls",
            "_model_module_version": "1.5.0",
            "_model_name": "HTMLModel",
            "_view_count": null,
            "_view_module": "@jupyter-widgets/controls",
            "_view_module_version": "1.5.0",
            "_view_name": "HTMLView",
            "description": "",
            "description_tooltip": null,
            "layout": "IPY_MODEL_0c5713c5e59343d49fe3fbe2e9013c2e",
            "placeholder": "​",
            "style": "IPY_MODEL_9b12b0b22aa6454596fcfe7d5ca80c94",
            "value": " 28.0/28.0 [00:00&lt;00:00, 724B/s]"
          }
        },
        "e2cfe679848a4b9fba1c890d364af5ce": {
          "model_module": "@jupyter-widgets/base",
          "model_name": "LayoutModel",
          "model_module_version": "1.2.0",
          "state": {
            "_model_module": "@jupyter-widgets/base",
            "_model_module_version": "1.2.0",
            "_model_name": "LayoutModel",
            "_view_count": null,
            "_view_module": "@jupyter-widgets/base",
            "_view_module_version": "1.2.0",
            "_view_name": "LayoutView",
            "align_content": null,
            "align_items": null,
            "align_self": null,
            "border": null,
            "bottom": null,
            "display": null,
            "flex": null,
            "flex_flow": null,
            "grid_area": null,
            "grid_auto_columns": null,
            "grid_auto_flow": null,
            "grid_auto_rows": null,
            "grid_column": null,
            "grid_gap": null,
            "grid_row": null,
            "grid_template_areas": null,
            "grid_template_columns": null,
            "grid_template_rows": null,
            "height": null,
            "justify_content": null,
            "justify_items": null,
            "left": null,
            "margin": null,
            "max_height": null,
            "max_width": null,
            "min_height": null,
            "min_width": null,
            "object_fit": null,
            "object_position": null,
            "order": null,
            "overflow": null,
            "overflow_x": null,
            "overflow_y": null,
            "padding": null,
            "right": null,
            "top": null,
            "visibility": null,
            "width": null
          }
        },
        "fe5e320566a3455cabb391ff61e444cf": {
          "model_module": "@jupyter-widgets/base",
          "model_name": "LayoutModel",
          "model_module_version": "1.2.0",
          "state": {
            "_model_module": "@jupyter-widgets/base",
            "_model_module_version": "1.2.0",
            "_model_name": "LayoutModel",
            "_view_count": null,
            "_view_module": "@jupyter-widgets/base",
            "_view_module_version": "1.2.0",
            "_view_name": "LayoutView",
            "align_content": null,
            "align_items": null,
            "align_self": null,
            "border": null,
            "bottom": null,
            "display": null,
            "flex": null,
            "flex_flow": null,
            "grid_area": null,
            "grid_auto_columns": null,
            "grid_auto_flow": null,
            "grid_auto_rows": null,
            "grid_column": null,
            "grid_gap": null,
            "grid_row": null,
            "grid_template_areas": null,
            "grid_template_columns": null,
            "grid_template_rows": null,
            "height": null,
            "justify_content": null,
            "justify_items": null,
            "left": null,
            "margin": null,
            "max_height": null,
            "max_width": null,
            "min_height": null,
            "min_width": null,
            "object_fit": null,
            "object_position": null,
            "order": null,
            "overflow": null,
            "overflow_x": null,
            "overflow_y": null,
            "padding": null,
            "right": null,
            "top": null,
            "visibility": null,
            "width": null
          }
        },
        "2d1113dfa9ca45b08350d3bf8e1e938f": {
          "model_module": "@jupyter-widgets/controls",
          "model_name": "DescriptionStyleModel",
          "model_module_version": "1.5.0",
          "state": {
            "_model_module": "@jupyter-widgets/controls",
            "_model_module_version": "1.5.0",
            "_model_name": "DescriptionStyleModel",
            "_view_count": null,
            "_view_module": "@jupyter-widgets/base",
            "_view_module_version": "1.2.0",
            "_view_name": "StyleView",
            "description_width": ""
          }
        },
        "67db5924aafa4b67aad62c6308049e1d": {
          "model_module": "@jupyter-widgets/base",
          "model_name": "LayoutModel",
          "model_module_version": "1.2.0",
          "state": {
            "_model_module": "@jupyter-widgets/base",
            "_model_module_version": "1.2.0",
            "_model_name": "LayoutModel",
            "_view_count": null,
            "_view_module": "@jupyter-widgets/base",
            "_view_module_version": "1.2.0",
            "_view_name": "LayoutView",
            "align_content": null,
            "align_items": null,
            "align_self": null,
            "border": null,
            "bottom": null,
            "display": null,
            "flex": null,
            "flex_flow": null,
            "grid_area": null,
            "grid_auto_columns": null,
            "grid_auto_flow": null,
            "grid_auto_rows": null,
            "grid_column": null,
            "grid_gap": null,
            "grid_row": null,
            "grid_template_areas": null,
            "grid_template_columns": null,
            "grid_template_rows": null,
            "height": null,
            "justify_content": null,
            "justify_items": null,
            "left": null,
            "margin": null,
            "max_height": null,
            "max_width": null,
            "min_height": null,
            "min_width": null,
            "object_fit": null,
            "object_position": null,
            "order": null,
            "overflow": null,
            "overflow_x": null,
            "overflow_y": null,
            "padding": null,
            "right": null,
            "top": null,
            "visibility": null,
            "width": null
          }
        },
        "a26632515bbd4cd388b5b649a35d7ac1": {
          "model_module": "@jupyter-widgets/controls",
          "model_name": "ProgressStyleModel",
          "model_module_version": "1.5.0",
          "state": {
            "_model_module": "@jupyter-widgets/controls",
            "_model_module_version": "1.5.0",
            "_model_name": "ProgressStyleModel",
            "_view_count": null,
            "_view_module": "@jupyter-widgets/base",
            "_view_module_version": "1.2.0",
            "_view_name": "StyleView",
            "bar_color": null,
            "description_width": ""
          }
        },
        "0c5713c5e59343d49fe3fbe2e9013c2e": {
          "model_module": "@jupyter-widgets/base",
          "model_name": "LayoutModel",
          "model_module_version": "1.2.0",
          "state": {
            "_model_module": "@jupyter-widgets/base",
            "_model_module_version": "1.2.0",
            "_model_name": "LayoutModel",
            "_view_count": null,
            "_view_module": "@jupyter-widgets/base",
            "_view_module_version": "1.2.0",
            "_view_name": "LayoutView",
            "align_content": null,
            "align_items": null,
            "align_self": null,
            "border": null,
            "bottom": null,
            "display": null,
            "flex": null,
            "flex_flow": null,
            "grid_area": null,
            "grid_auto_columns": null,
            "grid_auto_flow": null,
            "grid_auto_rows": null,
            "grid_column": null,
            "grid_gap": null,
            "grid_row": null,
            "grid_template_areas": null,
            "grid_template_columns": null,
            "grid_template_rows": null,
            "height": null,
            "justify_content": null,
            "justify_items": null,
            "left": null,
            "margin": null,
            "max_height": null,
            "max_width": null,
            "min_height": null,
            "min_width": null,
            "object_fit": null,
            "object_position": null,
            "order": null,
            "overflow": null,
            "overflow_x": null,
            "overflow_y": null,
            "padding": null,
            "right": null,
            "top": null,
            "visibility": null,
            "width": null
          }
        },
        "9b12b0b22aa6454596fcfe7d5ca80c94": {
          "model_module": "@jupyter-widgets/controls",
          "model_name": "DescriptionStyleModel",
          "model_module_version": "1.5.0",
          "state": {
            "_model_module": "@jupyter-widgets/controls",
            "_model_module_version": "1.5.0",
            "_model_name": "DescriptionStyleModel",
            "_view_count": null,
            "_view_module": "@jupyter-widgets/base",
            "_view_module_version": "1.2.0",
            "_view_name": "StyleView",
            "description_width": ""
          }
        },
        "b809535ef5dd42e48bdfd175b56c66f6": {
          "model_module": "@jupyter-widgets/controls",
          "model_name": "HBoxModel",
          "model_module_version": "1.5.0",
          "state": {
            "_dom_classes": [],
            "_model_module": "@jupyter-widgets/controls",
            "_model_module_version": "1.5.0",
            "_model_name": "HBoxModel",
            "_view_count": null,
            "_view_module": "@jupyter-widgets/controls",
            "_view_module_version": "1.5.0",
            "_view_name": "HBoxView",
            "box_style": "",
            "children": [
              "IPY_MODEL_c3a92376347e49b4803b5e4374d649f0",
              "IPY_MODEL_3e9c962cc140494a9c0db73884227289",
              "IPY_MODEL_36a6a0e1c8fe417db9da0f8c2db90763"
            ],
            "layout": "IPY_MODEL_6134cc6519484b369054921cff85abd5"
          }
        },
        "c3a92376347e49b4803b5e4374d649f0": {
          "model_module": "@jupyter-widgets/controls",
          "model_name": "HTMLModel",
          "model_module_version": "1.5.0",
          "state": {
            "_dom_classes": [],
            "_model_module": "@jupyter-widgets/controls",
            "_model_module_version": "1.5.0",
            "_model_name": "HTMLModel",
            "_view_count": null,
            "_view_module": "@jupyter-widgets/controls",
            "_view_module_version": "1.5.0",
            "_view_name": "HTMLView",
            "description": "",
            "description_tooltip": null,
            "layout": "IPY_MODEL_2d06594ebf074bbfb3d2f1b3d931cdca",
            "placeholder": "​",
            "style": "IPY_MODEL_8ac8f4cd563444b7ad2df406a7beb9e6",
            "value": "Downloading (…)lve/main/config.json: 100%"
          }
        },
        "3e9c962cc140494a9c0db73884227289": {
          "model_module": "@jupyter-widgets/controls",
          "model_name": "FloatProgressModel",
          "model_module_version": "1.5.0",
          "state": {
            "_dom_classes": [],
            "_model_module": "@jupyter-widgets/controls",
            "_model_module_version": "1.5.0",
            "_model_name": "FloatProgressModel",
            "_view_count": null,
            "_view_module": "@jupyter-widgets/controls",
            "_view_module_version": "1.5.0",
            "_view_name": "ProgressView",
            "bar_style": "success",
            "description": "",
            "description_tooltip": null,
            "layout": "IPY_MODEL_f17d5b4685004db0b5f1cfe0df835bfa",
            "max": 570,
            "min": 0,
            "orientation": "horizontal",
            "style": "IPY_MODEL_5234b7373519481084ecd561ef10cf55",
            "value": 570
          }
        },
        "36a6a0e1c8fe417db9da0f8c2db90763": {
          "model_module": "@jupyter-widgets/controls",
          "model_name": "HTMLModel",
          "model_module_version": "1.5.0",
          "state": {
            "_dom_classes": [],
            "_model_module": "@jupyter-widgets/controls",
            "_model_module_version": "1.5.0",
            "_model_name": "HTMLModel",
            "_view_count": null,
            "_view_module": "@jupyter-widgets/controls",
            "_view_module_version": "1.5.0",
            "_view_name": "HTMLView",
            "description": "",
            "description_tooltip": null,
            "layout": "IPY_MODEL_6fff1a925dde4c8ba061694ed2f6ba9a",
            "placeholder": "​",
            "style": "IPY_MODEL_11794f37651e4d54aed101a2e4b6ea18",
            "value": " 570/570 [00:00&lt;00:00, 8.76kB/s]"
          }
        },
        "6134cc6519484b369054921cff85abd5": {
          "model_module": "@jupyter-widgets/base",
          "model_name": "LayoutModel",
          "model_module_version": "1.2.0",
          "state": {
            "_model_module": "@jupyter-widgets/base",
            "_model_module_version": "1.2.0",
            "_model_name": "LayoutModel",
            "_view_count": null,
            "_view_module": "@jupyter-widgets/base",
            "_view_module_version": "1.2.0",
            "_view_name": "LayoutView",
            "align_content": null,
            "align_items": null,
            "align_self": null,
            "border": null,
            "bottom": null,
            "display": null,
            "flex": null,
            "flex_flow": null,
            "grid_area": null,
            "grid_auto_columns": null,
            "grid_auto_flow": null,
            "grid_auto_rows": null,
            "grid_column": null,
            "grid_gap": null,
            "grid_row": null,
            "grid_template_areas": null,
            "grid_template_columns": null,
            "grid_template_rows": null,
            "height": null,
            "justify_content": null,
            "justify_items": null,
            "left": null,
            "margin": null,
            "max_height": null,
            "max_width": null,
            "min_height": null,
            "min_width": null,
            "object_fit": null,
            "object_position": null,
            "order": null,
            "overflow": null,
            "overflow_x": null,
            "overflow_y": null,
            "padding": null,
            "right": null,
            "top": null,
            "visibility": null,
            "width": null
          }
        },
        "2d06594ebf074bbfb3d2f1b3d931cdca": {
          "model_module": "@jupyter-widgets/base",
          "model_name": "LayoutModel",
          "model_module_version": "1.2.0",
          "state": {
            "_model_module": "@jupyter-widgets/base",
            "_model_module_version": "1.2.0",
            "_model_name": "LayoutModel",
            "_view_count": null,
            "_view_module": "@jupyter-widgets/base",
            "_view_module_version": "1.2.0",
            "_view_name": "LayoutView",
            "align_content": null,
            "align_items": null,
            "align_self": null,
            "border": null,
            "bottom": null,
            "display": null,
            "flex": null,
            "flex_flow": null,
            "grid_area": null,
            "grid_auto_columns": null,
            "grid_auto_flow": null,
            "grid_auto_rows": null,
            "grid_column": null,
            "grid_gap": null,
            "grid_row": null,
            "grid_template_areas": null,
            "grid_template_columns": null,
            "grid_template_rows": null,
            "height": null,
            "justify_content": null,
            "justify_items": null,
            "left": null,
            "margin": null,
            "max_height": null,
            "max_width": null,
            "min_height": null,
            "min_width": null,
            "object_fit": null,
            "object_position": null,
            "order": null,
            "overflow": null,
            "overflow_x": null,
            "overflow_y": null,
            "padding": null,
            "right": null,
            "top": null,
            "visibility": null,
            "width": null
          }
        },
        "8ac8f4cd563444b7ad2df406a7beb9e6": {
          "model_module": "@jupyter-widgets/controls",
          "model_name": "DescriptionStyleModel",
          "model_module_version": "1.5.0",
          "state": {
            "_model_module": "@jupyter-widgets/controls",
            "_model_module_version": "1.5.0",
            "_model_name": "DescriptionStyleModel",
            "_view_count": null,
            "_view_module": "@jupyter-widgets/base",
            "_view_module_version": "1.2.0",
            "_view_name": "StyleView",
            "description_width": ""
          }
        },
        "f17d5b4685004db0b5f1cfe0df835bfa": {
          "model_module": "@jupyter-widgets/base",
          "model_name": "LayoutModel",
          "model_module_version": "1.2.0",
          "state": {
            "_model_module": "@jupyter-widgets/base",
            "_model_module_version": "1.2.0",
            "_model_name": "LayoutModel",
            "_view_count": null,
            "_view_module": "@jupyter-widgets/base",
            "_view_module_version": "1.2.0",
            "_view_name": "LayoutView",
            "align_content": null,
            "align_items": null,
            "align_self": null,
            "border": null,
            "bottom": null,
            "display": null,
            "flex": null,
            "flex_flow": null,
            "grid_area": null,
            "grid_auto_columns": null,
            "grid_auto_flow": null,
            "grid_auto_rows": null,
            "grid_column": null,
            "grid_gap": null,
            "grid_row": null,
            "grid_template_areas": null,
            "grid_template_columns": null,
            "grid_template_rows": null,
            "height": null,
            "justify_content": null,
            "justify_items": null,
            "left": null,
            "margin": null,
            "max_height": null,
            "max_width": null,
            "min_height": null,
            "min_width": null,
            "object_fit": null,
            "object_position": null,
            "order": null,
            "overflow": null,
            "overflow_x": null,
            "overflow_y": null,
            "padding": null,
            "right": null,
            "top": null,
            "visibility": null,
            "width": null
          }
        },
        "5234b7373519481084ecd561ef10cf55": {
          "model_module": "@jupyter-widgets/controls",
          "model_name": "ProgressStyleModel",
          "model_module_version": "1.5.0",
          "state": {
            "_model_module": "@jupyter-widgets/controls",
            "_model_module_version": "1.5.0",
            "_model_name": "ProgressStyleModel",
            "_view_count": null,
            "_view_module": "@jupyter-widgets/base",
            "_view_module_version": "1.2.0",
            "_view_name": "StyleView",
            "bar_color": null,
            "description_width": ""
          }
        },
        "6fff1a925dde4c8ba061694ed2f6ba9a": {
          "model_module": "@jupyter-widgets/base",
          "model_name": "LayoutModel",
          "model_module_version": "1.2.0",
          "state": {
            "_model_module": "@jupyter-widgets/base",
            "_model_module_version": "1.2.0",
            "_model_name": "LayoutModel",
            "_view_count": null,
            "_view_module": "@jupyter-widgets/base",
            "_view_module_version": "1.2.0",
            "_view_name": "LayoutView",
            "align_content": null,
            "align_items": null,
            "align_self": null,
            "border": null,
            "bottom": null,
            "display": null,
            "flex": null,
            "flex_flow": null,
            "grid_area": null,
            "grid_auto_columns": null,
            "grid_auto_flow": null,
            "grid_auto_rows": null,
            "grid_column": null,
            "grid_gap": null,
            "grid_row": null,
            "grid_template_areas": null,
            "grid_template_columns": null,
            "grid_template_rows": null,
            "height": null,
            "justify_content": null,
            "justify_items": null,
            "left": null,
            "margin": null,
            "max_height": null,
            "max_width": null,
            "min_height": null,
            "min_width": null,
            "object_fit": null,
            "object_position": null,
            "order": null,
            "overflow": null,
            "overflow_x": null,
            "overflow_y": null,
            "padding": null,
            "right": null,
            "top": null,
            "visibility": null,
            "width": null
          }
        },
        "11794f37651e4d54aed101a2e4b6ea18": {
          "model_module": "@jupyter-widgets/controls",
          "model_name": "DescriptionStyleModel",
          "model_module_version": "1.5.0",
          "state": {
            "_model_module": "@jupyter-widgets/controls",
            "_model_module_version": "1.5.0",
            "_model_name": "DescriptionStyleModel",
            "_view_count": null,
            "_view_module": "@jupyter-widgets/base",
            "_view_module_version": "1.2.0",
            "_view_name": "StyleView",
            "description_width": ""
          }
        },
        "e71c3e3fdf9d46a78b7205c87086c0e0": {
          "model_module": "@jupyter-widgets/controls",
          "model_name": "HBoxModel",
          "model_module_version": "1.5.0",
          "state": {
            "_dom_classes": [],
            "_model_module": "@jupyter-widgets/controls",
            "_model_module_version": "1.5.0",
            "_model_name": "HBoxModel",
            "_view_count": null,
            "_view_module": "@jupyter-widgets/controls",
            "_view_module_version": "1.5.0",
            "_view_name": "HBoxView",
            "box_style": "",
            "children": [
              "IPY_MODEL_d44a0234e3fa4efca26a57eec3baf02f",
              "IPY_MODEL_2e34839f77b149d0a9dbe23fdba9a5f3",
              "IPY_MODEL_0892dda87e88416294d68e1441774b98"
            ],
            "layout": "IPY_MODEL_ae148974f9bf4b2bb2f3ba34cf982143"
          }
        },
        "d44a0234e3fa4efca26a57eec3baf02f": {
          "model_module": "@jupyter-widgets/controls",
          "model_name": "HTMLModel",
          "model_module_version": "1.5.0",
          "state": {
            "_dom_classes": [],
            "_model_module": "@jupyter-widgets/controls",
            "_model_module_version": "1.5.0",
            "_model_name": "HTMLModel",
            "_view_count": null,
            "_view_module": "@jupyter-widgets/controls",
            "_view_module_version": "1.5.0",
            "_view_name": "HTMLView",
            "description": "",
            "description_tooltip": null,
            "layout": "IPY_MODEL_a0103c0c5975408abe758d90316c7f00",
            "placeholder": "​",
            "style": "IPY_MODEL_f2112c8db8d84da4a7761d631848dcaa",
            "value": "Downloading (…)solve/main/vocab.txt: 100%"
          }
        },
        "2e34839f77b149d0a9dbe23fdba9a5f3": {
          "model_module": "@jupyter-widgets/controls",
          "model_name": "FloatProgressModel",
          "model_module_version": "1.5.0",
          "state": {
            "_dom_classes": [],
            "_model_module": "@jupyter-widgets/controls",
            "_model_module_version": "1.5.0",
            "_model_name": "FloatProgressModel",
            "_view_count": null,
            "_view_module": "@jupyter-widgets/controls",
            "_view_module_version": "1.5.0",
            "_view_name": "ProgressView",
            "bar_style": "success",
            "description": "",
            "description_tooltip": null,
            "layout": "IPY_MODEL_c421b3256dae406e807296d089eb7305",
            "max": 231508,
            "min": 0,
            "orientation": "horizontal",
            "style": "IPY_MODEL_94e628045fe343e69d4a40bdb54c30bf",
            "value": 231508
          }
        },
        "0892dda87e88416294d68e1441774b98": {
          "model_module": "@jupyter-widgets/controls",
          "model_name": "HTMLModel",
          "model_module_version": "1.5.0",
          "state": {
            "_dom_classes": [],
            "_model_module": "@jupyter-widgets/controls",
            "_model_module_version": "1.5.0",
            "_model_name": "HTMLModel",
            "_view_count": null,
            "_view_module": "@jupyter-widgets/controls",
            "_view_module_version": "1.5.0",
            "_view_name": "HTMLView",
            "description": "",
            "description_tooltip": null,
            "layout": "IPY_MODEL_0b41891ead80422893c216824c7aa82f",
            "placeholder": "​",
            "style": "IPY_MODEL_b0a74a990b6845929f6c3452b97259a7",
            "value": " 232k/232k [00:00&lt;00:00, 3.03MB/s]"
          }
        },
        "ae148974f9bf4b2bb2f3ba34cf982143": {
          "model_module": "@jupyter-widgets/base",
          "model_name": "LayoutModel",
          "model_module_version": "1.2.0",
          "state": {
            "_model_module": "@jupyter-widgets/base",
            "_model_module_version": "1.2.0",
            "_model_name": "LayoutModel",
            "_view_count": null,
            "_view_module": "@jupyter-widgets/base",
            "_view_module_version": "1.2.0",
            "_view_name": "LayoutView",
            "align_content": null,
            "align_items": null,
            "align_self": null,
            "border": null,
            "bottom": null,
            "display": null,
            "flex": null,
            "flex_flow": null,
            "grid_area": null,
            "grid_auto_columns": null,
            "grid_auto_flow": null,
            "grid_auto_rows": null,
            "grid_column": null,
            "grid_gap": null,
            "grid_row": null,
            "grid_template_areas": null,
            "grid_template_columns": null,
            "grid_template_rows": null,
            "height": null,
            "justify_content": null,
            "justify_items": null,
            "left": null,
            "margin": null,
            "max_height": null,
            "max_width": null,
            "min_height": null,
            "min_width": null,
            "object_fit": null,
            "object_position": null,
            "order": null,
            "overflow": null,
            "overflow_x": null,
            "overflow_y": null,
            "padding": null,
            "right": null,
            "top": null,
            "visibility": null,
            "width": null
          }
        },
        "a0103c0c5975408abe758d90316c7f00": {
          "model_module": "@jupyter-widgets/base",
          "model_name": "LayoutModel",
          "model_module_version": "1.2.0",
          "state": {
            "_model_module": "@jupyter-widgets/base",
            "_model_module_version": "1.2.0",
            "_model_name": "LayoutModel",
            "_view_count": null,
            "_view_module": "@jupyter-widgets/base",
            "_view_module_version": "1.2.0",
            "_view_name": "LayoutView",
            "align_content": null,
            "align_items": null,
            "align_self": null,
            "border": null,
            "bottom": null,
            "display": null,
            "flex": null,
            "flex_flow": null,
            "grid_area": null,
            "grid_auto_columns": null,
            "grid_auto_flow": null,
            "grid_auto_rows": null,
            "grid_column": null,
            "grid_gap": null,
            "grid_row": null,
            "grid_template_areas": null,
            "grid_template_columns": null,
            "grid_template_rows": null,
            "height": null,
            "justify_content": null,
            "justify_items": null,
            "left": null,
            "margin": null,
            "max_height": null,
            "max_width": null,
            "min_height": null,
            "min_width": null,
            "object_fit": null,
            "object_position": null,
            "order": null,
            "overflow": null,
            "overflow_x": null,
            "overflow_y": null,
            "padding": null,
            "right": null,
            "top": null,
            "visibility": null,
            "width": null
          }
        },
        "f2112c8db8d84da4a7761d631848dcaa": {
          "model_module": "@jupyter-widgets/controls",
          "model_name": "DescriptionStyleModel",
          "model_module_version": "1.5.0",
          "state": {
            "_model_module": "@jupyter-widgets/controls",
            "_model_module_version": "1.5.0",
            "_model_name": "DescriptionStyleModel",
            "_view_count": null,
            "_view_module": "@jupyter-widgets/base",
            "_view_module_version": "1.2.0",
            "_view_name": "StyleView",
            "description_width": ""
          }
        },
        "c421b3256dae406e807296d089eb7305": {
          "model_module": "@jupyter-widgets/base",
          "model_name": "LayoutModel",
          "model_module_version": "1.2.0",
          "state": {
            "_model_module": "@jupyter-widgets/base",
            "_model_module_version": "1.2.0",
            "_model_name": "LayoutModel",
            "_view_count": null,
            "_view_module": "@jupyter-widgets/base",
            "_view_module_version": "1.2.0",
            "_view_name": "LayoutView",
            "align_content": null,
            "align_items": null,
            "align_self": null,
            "border": null,
            "bottom": null,
            "display": null,
            "flex": null,
            "flex_flow": null,
            "grid_area": null,
            "grid_auto_columns": null,
            "grid_auto_flow": null,
            "grid_auto_rows": null,
            "grid_column": null,
            "grid_gap": null,
            "grid_row": null,
            "grid_template_areas": null,
            "grid_template_columns": null,
            "grid_template_rows": null,
            "height": null,
            "justify_content": null,
            "justify_items": null,
            "left": null,
            "margin": null,
            "max_height": null,
            "max_width": null,
            "min_height": null,
            "min_width": null,
            "object_fit": null,
            "object_position": null,
            "order": null,
            "overflow": null,
            "overflow_x": null,
            "overflow_y": null,
            "padding": null,
            "right": null,
            "top": null,
            "visibility": null,
            "width": null
          }
        },
        "94e628045fe343e69d4a40bdb54c30bf": {
          "model_module": "@jupyter-widgets/controls",
          "model_name": "ProgressStyleModel",
          "model_module_version": "1.5.0",
          "state": {
            "_model_module": "@jupyter-widgets/controls",
            "_model_module_version": "1.5.0",
            "_model_name": "ProgressStyleModel",
            "_view_count": null,
            "_view_module": "@jupyter-widgets/base",
            "_view_module_version": "1.2.0",
            "_view_name": "StyleView",
            "bar_color": null,
            "description_width": ""
          }
        },
        "0b41891ead80422893c216824c7aa82f": {
          "model_module": "@jupyter-widgets/base",
          "model_name": "LayoutModel",
          "model_module_version": "1.2.0",
          "state": {
            "_model_module": "@jupyter-widgets/base",
            "_model_module_version": "1.2.0",
            "_model_name": "LayoutModel",
            "_view_count": null,
            "_view_module": "@jupyter-widgets/base",
            "_view_module_version": "1.2.0",
            "_view_name": "LayoutView",
            "align_content": null,
            "align_items": null,
            "align_self": null,
            "border": null,
            "bottom": null,
            "display": null,
            "flex": null,
            "flex_flow": null,
            "grid_area": null,
            "grid_auto_columns": null,
            "grid_auto_flow": null,
            "grid_auto_rows": null,
            "grid_column": null,
            "grid_gap": null,
            "grid_row": null,
            "grid_template_areas": null,
            "grid_template_columns": null,
            "grid_template_rows": null,
            "height": null,
            "justify_content": null,
            "justify_items": null,
            "left": null,
            "margin": null,
            "max_height": null,
            "max_width": null,
            "min_height": null,
            "min_width": null,
            "object_fit": null,
            "object_position": null,
            "order": null,
            "overflow": null,
            "overflow_x": null,
            "overflow_y": null,
            "padding": null,
            "right": null,
            "top": null,
            "visibility": null,
            "width": null
          }
        },
        "b0a74a990b6845929f6c3452b97259a7": {
          "model_module": "@jupyter-widgets/controls",
          "model_name": "DescriptionStyleModel",
          "model_module_version": "1.5.0",
          "state": {
            "_model_module": "@jupyter-widgets/controls",
            "_model_module_version": "1.5.0",
            "_model_name": "DescriptionStyleModel",
            "_view_count": null,
            "_view_module": "@jupyter-widgets/base",
            "_view_module_version": "1.2.0",
            "_view_name": "StyleView",
            "description_width": ""
          }
        },
        "10869d9464dc44908671e0486a06e5e9": {
          "model_module": "@jupyter-widgets/controls",
          "model_name": "HBoxModel",
          "model_module_version": "1.5.0",
          "state": {
            "_dom_classes": [],
            "_model_module": "@jupyter-widgets/controls",
            "_model_module_version": "1.5.0",
            "_model_name": "HBoxModel",
            "_view_count": null,
            "_view_module": "@jupyter-widgets/controls",
            "_view_module_version": "1.5.0",
            "_view_name": "HBoxView",
            "box_style": "",
            "children": [
              "IPY_MODEL_cac0ca0919084170b527567ca2ab136b",
              "IPY_MODEL_d6465b07504f48f791d1e4e461418045",
              "IPY_MODEL_7e5a31af3bce4b93a919a3442509646d"
            ],
            "layout": "IPY_MODEL_446e774bf30c45a5be0230fc0595816e"
          }
        },
        "cac0ca0919084170b527567ca2ab136b": {
          "model_module": "@jupyter-widgets/controls",
          "model_name": "HTMLModel",
          "model_module_version": "1.5.0",
          "state": {
            "_dom_classes": [],
            "_model_module": "@jupyter-widgets/controls",
            "_model_module_version": "1.5.0",
            "_model_name": "HTMLModel",
            "_view_count": null,
            "_view_module": "@jupyter-widgets/controls",
            "_view_module_version": "1.5.0",
            "_view_name": "HTMLView",
            "description": "",
            "description_tooltip": null,
            "layout": "IPY_MODEL_b700a5860f6848c6b14d8e9b69245f8b",
            "placeholder": "​",
            "style": "IPY_MODEL_bc283dfb0e02492389fd6c4a97992b1e",
            "value": "Downloading (…)/main/tokenizer.json: 100%"
          }
        },
        "d6465b07504f48f791d1e4e461418045": {
          "model_module": "@jupyter-widgets/controls",
          "model_name": "FloatProgressModel",
          "model_module_version": "1.5.0",
          "state": {
            "_dom_classes": [],
            "_model_module": "@jupyter-widgets/controls",
            "_model_module_version": "1.5.0",
            "_model_name": "FloatProgressModel",
            "_view_count": null,
            "_view_module": "@jupyter-widgets/controls",
            "_view_module_version": "1.5.0",
            "_view_name": "ProgressView",
            "bar_style": "success",
            "description": "",
            "description_tooltip": null,
            "layout": "IPY_MODEL_ebc7c033165c4fcc93d2c9a641385a88",
            "max": 466062,
            "min": 0,
            "orientation": "horizontal",
            "style": "IPY_MODEL_4362251b3abd406d91d76b7a8e15744e",
            "value": 466062
          }
        },
        "7e5a31af3bce4b93a919a3442509646d": {
          "model_module": "@jupyter-widgets/controls",
          "model_name": "HTMLModel",
          "model_module_version": "1.5.0",
          "state": {
            "_dom_classes": [],
            "_model_module": "@jupyter-widgets/controls",
            "_model_module_version": "1.5.0",
            "_model_name": "HTMLModel",
            "_view_count": null,
            "_view_module": "@jupyter-widgets/controls",
            "_view_module_version": "1.5.0",
            "_view_name": "HTMLView",
            "description": "",
            "description_tooltip": null,
            "layout": "IPY_MODEL_28a8a19cd3e64b39bbad89e68405be3f",
            "placeholder": "​",
            "style": "IPY_MODEL_ec54513dd9ac43329a11117b065da563",
            "value": " 466k/466k [00:00&lt;00:00, 7.53MB/s]"
          }
        },
        "446e774bf30c45a5be0230fc0595816e": {
          "model_module": "@jupyter-widgets/base",
          "model_name": "LayoutModel",
          "model_module_version": "1.2.0",
          "state": {
            "_model_module": "@jupyter-widgets/base",
            "_model_module_version": "1.2.0",
            "_model_name": "LayoutModel",
            "_view_count": null,
            "_view_module": "@jupyter-widgets/base",
            "_view_module_version": "1.2.0",
            "_view_name": "LayoutView",
            "align_content": null,
            "align_items": null,
            "align_self": null,
            "border": null,
            "bottom": null,
            "display": null,
            "flex": null,
            "flex_flow": null,
            "grid_area": null,
            "grid_auto_columns": null,
            "grid_auto_flow": null,
            "grid_auto_rows": null,
            "grid_column": null,
            "grid_gap": null,
            "grid_row": null,
            "grid_template_areas": null,
            "grid_template_columns": null,
            "grid_template_rows": null,
            "height": null,
            "justify_content": null,
            "justify_items": null,
            "left": null,
            "margin": null,
            "max_height": null,
            "max_width": null,
            "min_height": null,
            "min_width": null,
            "object_fit": null,
            "object_position": null,
            "order": null,
            "overflow": null,
            "overflow_x": null,
            "overflow_y": null,
            "padding": null,
            "right": null,
            "top": null,
            "visibility": null,
            "width": null
          }
        },
        "b700a5860f6848c6b14d8e9b69245f8b": {
          "model_module": "@jupyter-widgets/base",
          "model_name": "LayoutModel",
          "model_module_version": "1.2.0",
          "state": {
            "_model_module": "@jupyter-widgets/base",
            "_model_module_version": "1.2.0",
            "_model_name": "LayoutModel",
            "_view_count": null,
            "_view_module": "@jupyter-widgets/base",
            "_view_module_version": "1.2.0",
            "_view_name": "LayoutView",
            "align_content": null,
            "align_items": null,
            "align_self": null,
            "border": null,
            "bottom": null,
            "display": null,
            "flex": null,
            "flex_flow": null,
            "grid_area": null,
            "grid_auto_columns": null,
            "grid_auto_flow": null,
            "grid_auto_rows": null,
            "grid_column": null,
            "grid_gap": null,
            "grid_row": null,
            "grid_template_areas": null,
            "grid_template_columns": null,
            "grid_template_rows": null,
            "height": null,
            "justify_content": null,
            "justify_items": null,
            "left": null,
            "margin": null,
            "max_height": null,
            "max_width": null,
            "min_height": null,
            "min_width": null,
            "object_fit": null,
            "object_position": null,
            "order": null,
            "overflow": null,
            "overflow_x": null,
            "overflow_y": null,
            "padding": null,
            "right": null,
            "top": null,
            "visibility": null,
            "width": null
          }
        },
        "bc283dfb0e02492389fd6c4a97992b1e": {
          "model_module": "@jupyter-widgets/controls",
          "model_name": "DescriptionStyleModel",
          "model_module_version": "1.5.0",
          "state": {
            "_model_module": "@jupyter-widgets/controls",
            "_model_module_version": "1.5.0",
            "_model_name": "DescriptionStyleModel",
            "_view_count": null,
            "_view_module": "@jupyter-widgets/base",
            "_view_module_version": "1.2.0",
            "_view_name": "StyleView",
            "description_width": ""
          }
        },
        "ebc7c033165c4fcc93d2c9a641385a88": {
          "model_module": "@jupyter-widgets/base",
          "model_name": "LayoutModel",
          "model_module_version": "1.2.0",
          "state": {
            "_model_module": "@jupyter-widgets/base",
            "_model_module_version": "1.2.0",
            "_model_name": "LayoutModel",
            "_view_count": null,
            "_view_module": "@jupyter-widgets/base",
            "_view_module_version": "1.2.0",
            "_view_name": "LayoutView",
            "align_content": null,
            "align_items": null,
            "align_self": null,
            "border": null,
            "bottom": null,
            "display": null,
            "flex": null,
            "flex_flow": null,
            "grid_area": null,
            "grid_auto_columns": null,
            "grid_auto_flow": null,
            "grid_auto_rows": null,
            "grid_column": null,
            "grid_gap": null,
            "grid_row": null,
            "grid_template_areas": null,
            "grid_template_columns": null,
            "grid_template_rows": null,
            "height": null,
            "justify_content": null,
            "justify_items": null,
            "left": null,
            "margin": null,
            "max_height": null,
            "max_width": null,
            "min_height": null,
            "min_width": null,
            "object_fit": null,
            "object_position": null,
            "order": null,
            "overflow": null,
            "overflow_x": null,
            "overflow_y": null,
            "padding": null,
            "right": null,
            "top": null,
            "visibility": null,
            "width": null
          }
        },
        "4362251b3abd406d91d76b7a8e15744e": {
          "model_module": "@jupyter-widgets/controls",
          "model_name": "ProgressStyleModel",
          "model_module_version": "1.5.0",
          "state": {
            "_model_module": "@jupyter-widgets/controls",
            "_model_module_version": "1.5.0",
            "_model_name": "ProgressStyleModel",
            "_view_count": null,
            "_view_module": "@jupyter-widgets/base",
            "_view_module_version": "1.2.0",
            "_view_name": "StyleView",
            "bar_color": null,
            "description_width": ""
          }
        },
        "28a8a19cd3e64b39bbad89e68405be3f": {
          "model_module": "@jupyter-widgets/base",
          "model_name": "LayoutModel",
          "model_module_version": "1.2.0",
          "state": {
            "_model_module": "@jupyter-widgets/base",
            "_model_module_version": "1.2.0",
            "_model_name": "LayoutModel",
            "_view_count": null,
            "_view_module": "@jupyter-widgets/base",
            "_view_module_version": "1.2.0",
            "_view_name": "LayoutView",
            "align_content": null,
            "align_items": null,
            "align_self": null,
            "border": null,
            "bottom": null,
            "display": null,
            "flex": null,
            "flex_flow": null,
            "grid_area": null,
            "grid_auto_columns": null,
            "grid_auto_flow": null,
            "grid_auto_rows": null,
            "grid_column": null,
            "grid_gap": null,
            "grid_row": null,
            "grid_template_areas": null,
            "grid_template_columns": null,
            "grid_template_rows": null,
            "height": null,
            "justify_content": null,
            "justify_items": null,
            "left": null,
            "margin": null,
            "max_height": null,
            "max_width": null,
            "min_height": null,
            "min_width": null,
            "object_fit": null,
            "object_position": null,
            "order": null,
            "overflow": null,
            "overflow_x": null,
            "overflow_y": null,
            "padding": null,
            "right": null,
            "top": null,
            "visibility": null,
            "width": null
          }
        },
        "ec54513dd9ac43329a11117b065da563": {
          "model_module": "@jupyter-widgets/controls",
          "model_name": "DescriptionStyleModel",
          "model_module_version": "1.5.0",
          "state": {
            "_model_module": "@jupyter-widgets/controls",
            "_model_module_version": "1.5.0",
            "_model_name": "DescriptionStyleModel",
            "_view_count": null,
            "_view_module": "@jupyter-widgets/base",
            "_view_module_version": "1.2.0",
            "_view_name": "StyleView",
            "description_width": ""
          }
        },
        "44d0df8f4b04402782f81671b2dc695c": {
          "model_module": "@jupyter-widgets/controls",
          "model_name": "HBoxModel",
          "model_module_version": "1.5.0",
          "state": {
            "_dom_classes": [],
            "_model_module": "@jupyter-widgets/controls",
            "_model_module_version": "1.5.0",
            "_model_name": "HBoxModel",
            "_view_count": null,
            "_view_module": "@jupyter-widgets/controls",
            "_view_module_version": "1.5.0",
            "_view_name": "HBoxView",
            "box_style": "",
            "children": [
              "IPY_MODEL_e0b0676379bd4e94b6c359b9a281ebad",
              "IPY_MODEL_68b18cd763324c9c96054c2bc240ec29",
              "IPY_MODEL_a6727eb3535f47879d5cdda53cddd005"
            ],
            "layout": "IPY_MODEL_df8290d581a74796bbc0df33ffaae7e5"
          }
        },
        "e0b0676379bd4e94b6c359b9a281ebad": {
          "model_module": "@jupyter-widgets/controls",
          "model_name": "HTMLModel",
          "model_module_version": "1.5.0",
          "state": {
            "_dom_classes": [],
            "_model_module": "@jupyter-widgets/controls",
            "_model_module_version": "1.5.0",
            "_model_name": "HTMLModel",
            "_view_count": null,
            "_view_module": "@jupyter-widgets/controls",
            "_view_module_version": "1.5.0",
            "_view_name": "HTMLView",
            "description": "",
            "description_tooltip": null,
            "layout": "IPY_MODEL_78384505ca344e229e9f6f2ba133feda",
            "placeholder": "​",
            "style": "IPY_MODEL_182520fcd74b4925b7bfbf992d86ed64",
            "value": "Map:  86%"
          }
        },
        "68b18cd763324c9c96054c2bc240ec29": {
          "model_module": "@jupyter-widgets/controls",
          "model_name": "FloatProgressModel",
          "model_module_version": "1.5.0",
          "state": {
            "_dom_classes": [],
            "_model_module": "@jupyter-widgets/controls",
            "_model_module_version": "1.5.0",
            "_model_name": "FloatProgressModel",
            "_view_count": null,
            "_view_module": "@jupyter-widgets/controls",
            "_view_module_version": "1.5.0",
            "_view_name": "ProgressView",
            "bar_style": "",
            "description": "",
            "description_tooltip": null,
            "layout": "IPY_MODEL_ed77e82769724387a4a32b56b61c3783",
            "max": 700,
            "min": 0,
            "orientation": "horizontal",
            "style": "IPY_MODEL_1e657f96c39346daa0d4f9dcda16e23c",
            "value": 700
          }
        },
        "a6727eb3535f47879d5cdda53cddd005": {
          "model_module": "@jupyter-widgets/controls",
          "model_name": "HTMLModel",
          "model_module_version": "1.5.0",
          "state": {
            "_dom_classes": [],
            "_model_module": "@jupyter-widgets/controls",
            "_model_module_version": "1.5.0",
            "_model_name": "HTMLModel",
            "_view_count": null,
            "_view_module": "@jupyter-widgets/controls",
            "_view_module_version": "1.5.0",
            "_view_name": "HTMLView",
            "description": "",
            "description_tooltip": null,
            "layout": "IPY_MODEL_020cb9e9286f4cf49e76119748ecb5e5",
            "placeholder": "​",
            "style": "IPY_MODEL_a904d29478b04fbbbff163686e5352f9",
            "value": " 602/700 [00:00&lt;00:00, 1287.89 examples/s]"
          }
        },
        "df8290d581a74796bbc0df33ffaae7e5": {
          "model_module": "@jupyter-widgets/base",
          "model_name": "LayoutModel",
          "model_module_version": "1.2.0",
          "state": {
            "_model_module": "@jupyter-widgets/base",
            "_model_module_version": "1.2.0",
            "_model_name": "LayoutModel",
            "_view_count": null,
            "_view_module": "@jupyter-widgets/base",
            "_view_module_version": "1.2.0",
            "_view_name": "LayoutView",
            "align_content": null,
            "align_items": null,
            "align_self": null,
            "border": null,
            "bottom": null,
            "display": null,
            "flex": null,
            "flex_flow": null,
            "grid_area": null,
            "grid_auto_columns": null,
            "grid_auto_flow": null,
            "grid_auto_rows": null,
            "grid_column": null,
            "grid_gap": null,
            "grid_row": null,
            "grid_template_areas": null,
            "grid_template_columns": null,
            "grid_template_rows": null,
            "height": null,
            "justify_content": null,
            "justify_items": null,
            "left": null,
            "margin": null,
            "max_height": null,
            "max_width": null,
            "min_height": null,
            "min_width": null,
            "object_fit": null,
            "object_position": null,
            "order": null,
            "overflow": null,
            "overflow_x": null,
            "overflow_y": null,
            "padding": null,
            "right": null,
            "top": null,
            "visibility": "hidden",
            "width": null
          }
        },
        "78384505ca344e229e9f6f2ba133feda": {
          "model_module": "@jupyter-widgets/base",
          "model_name": "LayoutModel",
          "model_module_version": "1.2.0",
          "state": {
            "_model_module": "@jupyter-widgets/base",
            "_model_module_version": "1.2.0",
            "_model_name": "LayoutModel",
            "_view_count": null,
            "_view_module": "@jupyter-widgets/base",
            "_view_module_version": "1.2.0",
            "_view_name": "LayoutView",
            "align_content": null,
            "align_items": null,
            "align_self": null,
            "border": null,
            "bottom": null,
            "display": null,
            "flex": null,
            "flex_flow": null,
            "grid_area": null,
            "grid_auto_columns": null,
            "grid_auto_flow": null,
            "grid_auto_rows": null,
            "grid_column": null,
            "grid_gap": null,
            "grid_row": null,
            "grid_template_areas": null,
            "grid_template_columns": null,
            "grid_template_rows": null,
            "height": null,
            "justify_content": null,
            "justify_items": null,
            "left": null,
            "margin": null,
            "max_height": null,
            "max_width": null,
            "min_height": null,
            "min_width": null,
            "object_fit": null,
            "object_position": null,
            "order": null,
            "overflow": null,
            "overflow_x": null,
            "overflow_y": null,
            "padding": null,
            "right": null,
            "top": null,
            "visibility": null,
            "width": null
          }
        },
        "182520fcd74b4925b7bfbf992d86ed64": {
          "model_module": "@jupyter-widgets/controls",
          "model_name": "DescriptionStyleModel",
          "model_module_version": "1.5.0",
          "state": {
            "_model_module": "@jupyter-widgets/controls",
            "_model_module_version": "1.5.0",
            "_model_name": "DescriptionStyleModel",
            "_view_count": null,
            "_view_module": "@jupyter-widgets/base",
            "_view_module_version": "1.2.0",
            "_view_name": "StyleView",
            "description_width": ""
          }
        },
        "ed77e82769724387a4a32b56b61c3783": {
          "model_module": "@jupyter-widgets/base",
          "model_name": "LayoutModel",
          "model_module_version": "1.2.0",
          "state": {
            "_model_module": "@jupyter-widgets/base",
            "_model_module_version": "1.2.0",
            "_model_name": "LayoutModel",
            "_view_count": null,
            "_view_module": "@jupyter-widgets/base",
            "_view_module_version": "1.2.0",
            "_view_name": "LayoutView",
            "align_content": null,
            "align_items": null,
            "align_self": null,
            "border": null,
            "bottom": null,
            "display": null,
            "flex": null,
            "flex_flow": null,
            "grid_area": null,
            "grid_auto_columns": null,
            "grid_auto_flow": null,
            "grid_auto_rows": null,
            "grid_column": null,
            "grid_gap": null,
            "grid_row": null,
            "grid_template_areas": null,
            "grid_template_columns": null,
            "grid_template_rows": null,
            "height": null,
            "justify_content": null,
            "justify_items": null,
            "left": null,
            "margin": null,
            "max_height": null,
            "max_width": null,
            "min_height": null,
            "min_width": null,
            "object_fit": null,
            "object_position": null,
            "order": null,
            "overflow": null,
            "overflow_x": null,
            "overflow_y": null,
            "padding": null,
            "right": null,
            "top": null,
            "visibility": null,
            "width": null
          }
        },
        "1e657f96c39346daa0d4f9dcda16e23c": {
          "model_module": "@jupyter-widgets/controls",
          "model_name": "ProgressStyleModel",
          "model_module_version": "1.5.0",
          "state": {
            "_model_module": "@jupyter-widgets/controls",
            "_model_module_version": "1.5.0",
            "_model_name": "ProgressStyleModel",
            "_view_count": null,
            "_view_module": "@jupyter-widgets/base",
            "_view_module_version": "1.2.0",
            "_view_name": "StyleView",
            "bar_color": null,
            "description_width": ""
          }
        },
        "020cb9e9286f4cf49e76119748ecb5e5": {
          "model_module": "@jupyter-widgets/base",
          "model_name": "LayoutModel",
          "model_module_version": "1.2.0",
          "state": {
            "_model_module": "@jupyter-widgets/base",
            "_model_module_version": "1.2.0",
            "_model_name": "LayoutModel",
            "_view_count": null,
            "_view_module": "@jupyter-widgets/base",
            "_view_module_version": "1.2.0",
            "_view_name": "LayoutView",
            "align_content": null,
            "align_items": null,
            "align_self": null,
            "border": null,
            "bottom": null,
            "display": null,
            "flex": null,
            "flex_flow": null,
            "grid_area": null,
            "grid_auto_columns": null,
            "grid_auto_flow": null,
            "grid_auto_rows": null,
            "grid_column": null,
            "grid_gap": null,
            "grid_row": null,
            "grid_template_areas": null,
            "grid_template_columns": null,
            "grid_template_rows": null,
            "height": null,
            "justify_content": null,
            "justify_items": null,
            "left": null,
            "margin": null,
            "max_height": null,
            "max_width": null,
            "min_height": null,
            "min_width": null,
            "object_fit": null,
            "object_position": null,
            "order": null,
            "overflow": null,
            "overflow_x": null,
            "overflow_y": null,
            "padding": null,
            "right": null,
            "top": null,
            "visibility": null,
            "width": null
          }
        },
        "a904d29478b04fbbbff163686e5352f9": {
          "model_module": "@jupyter-widgets/controls",
          "model_name": "DescriptionStyleModel",
          "model_module_version": "1.5.0",
          "state": {
            "_model_module": "@jupyter-widgets/controls",
            "_model_module_version": "1.5.0",
            "_model_name": "DescriptionStyleModel",
            "_view_count": null,
            "_view_module": "@jupyter-widgets/base",
            "_view_module_version": "1.2.0",
            "_view_name": "StyleView",
            "description_width": ""
          }
        },
        "7d5b96f7d4214fa48312bf8693883be9": {
          "model_module": "@jupyter-widgets/controls",
          "model_name": "HBoxModel",
          "model_module_version": "1.5.0",
          "state": {
            "_dom_classes": [],
            "_model_module": "@jupyter-widgets/controls",
            "_model_module_version": "1.5.0",
            "_model_name": "HBoxModel",
            "_view_count": null,
            "_view_module": "@jupyter-widgets/controls",
            "_view_module_version": "1.5.0",
            "_view_name": "HBoxView",
            "box_style": "",
            "children": [
              "IPY_MODEL_1ae5867e470b41eaa25a3b2edfe94041",
              "IPY_MODEL_25814c6f5c24463b8a86ae464a0e7756",
              "IPY_MODEL_d98ee1f7823b43c18f143f096bc285ce"
            ],
            "layout": "IPY_MODEL_3f325ecadcad43c7ab23bdd263c4e5b7"
          }
        },
        "1ae5867e470b41eaa25a3b2edfe94041": {
          "model_module": "@jupyter-widgets/controls",
          "model_name": "HTMLModel",
          "model_module_version": "1.5.0",
          "state": {
            "_dom_classes": [],
            "_model_module": "@jupyter-widgets/controls",
            "_model_module_version": "1.5.0",
            "_model_name": "HTMLModel",
            "_view_count": null,
            "_view_module": "@jupyter-widgets/controls",
            "_view_module_version": "1.5.0",
            "_view_name": "HTMLView",
            "description": "",
            "description_tooltip": null,
            "layout": "IPY_MODEL_f931b431a6724f45a46d941676eef368",
            "placeholder": "​",
            "style": "IPY_MODEL_16ed18a5ba424c7e8f0a6e3276095e2d",
            "value": "Map:  98%"
          }
        },
        "25814c6f5c24463b8a86ae464a0e7756": {
          "model_module": "@jupyter-widgets/controls",
          "model_name": "FloatProgressModel",
          "model_module_version": "1.5.0",
          "state": {
            "_dom_classes": [],
            "_model_module": "@jupyter-widgets/controls",
            "_model_module_version": "1.5.0",
            "_model_name": "FloatProgressModel",
            "_view_count": null,
            "_view_module": "@jupyter-widgets/controls",
            "_view_module_version": "1.5.0",
            "_view_name": "ProgressView",
            "bar_style": "",
            "description": "",
            "description_tooltip": null,
            "layout": "IPY_MODEL_cf4b21c360a1458e89049accf040a3cf",
            "max": 141,
            "min": 0,
            "orientation": "horizontal",
            "style": "IPY_MODEL_1868107990b448bc8218d1999027ab67",
            "value": 141
          }
        },
        "d98ee1f7823b43c18f143f096bc285ce": {
          "model_module": "@jupyter-widgets/controls",
          "model_name": "HTMLModel",
          "model_module_version": "1.5.0",
          "state": {
            "_dom_classes": [],
            "_model_module": "@jupyter-widgets/controls",
            "_model_module_version": "1.5.0",
            "_model_name": "HTMLModel",
            "_view_count": null,
            "_view_module": "@jupyter-widgets/controls",
            "_view_module_version": "1.5.0",
            "_view_name": "HTMLView",
            "description": "",
            "description_tooltip": null,
            "layout": "IPY_MODEL_04be4061b66140ce931e725a5c48114a",
            "placeholder": "​",
            "style": "IPY_MODEL_d28f564ccc5f414c9057a50efeac06e6",
            "value": " 138/141 [00:00&lt;00:00, 709.97 examples/s]"
          }
        },
        "3f325ecadcad43c7ab23bdd263c4e5b7": {
          "model_module": "@jupyter-widgets/base",
          "model_name": "LayoutModel",
          "model_module_version": "1.2.0",
          "state": {
            "_model_module": "@jupyter-widgets/base",
            "_model_module_version": "1.2.0",
            "_model_name": "LayoutModel",
            "_view_count": null,
            "_view_module": "@jupyter-widgets/base",
            "_view_module_version": "1.2.0",
            "_view_name": "LayoutView",
            "align_content": null,
            "align_items": null,
            "align_self": null,
            "border": null,
            "bottom": null,
            "display": null,
            "flex": null,
            "flex_flow": null,
            "grid_area": null,
            "grid_auto_columns": null,
            "grid_auto_flow": null,
            "grid_auto_rows": null,
            "grid_column": null,
            "grid_gap": null,
            "grid_row": null,
            "grid_template_areas": null,
            "grid_template_columns": null,
            "grid_template_rows": null,
            "height": null,
            "justify_content": null,
            "justify_items": null,
            "left": null,
            "margin": null,
            "max_height": null,
            "max_width": null,
            "min_height": null,
            "min_width": null,
            "object_fit": null,
            "object_position": null,
            "order": null,
            "overflow": null,
            "overflow_x": null,
            "overflow_y": null,
            "padding": null,
            "right": null,
            "top": null,
            "visibility": "hidden",
            "width": null
          }
        },
        "f931b431a6724f45a46d941676eef368": {
          "model_module": "@jupyter-widgets/base",
          "model_name": "LayoutModel",
          "model_module_version": "1.2.0",
          "state": {
            "_model_module": "@jupyter-widgets/base",
            "_model_module_version": "1.2.0",
            "_model_name": "LayoutModel",
            "_view_count": null,
            "_view_module": "@jupyter-widgets/base",
            "_view_module_version": "1.2.0",
            "_view_name": "LayoutView",
            "align_content": null,
            "align_items": null,
            "align_self": null,
            "border": null,
            "bottom": null,
            "display": null,
            "flex": null,
            "flex_flow": null,
            "grid_area": null,
            "grid_auto_columns": null,
            "grid_auto_flow": null,
            "grid_auto_rows": null,
            "grid_column": null,
            "grid_gap": null,
            "grid_row": null,
            "grid_template_areas": null,
            "grid_template_columns": null,
            "grid_template_rows": null,
            "height": null,
            "justify_content": null,
            "justify_items": null,
            "left": null,
            "margin": null,
            "max_height": null,
            "max_width": null,
            "min_height": null,
            "min_width": null,
            "object_fit": null,
            "object_position": null,
            "order": null,
            "overflow": null,
            "overflow_x": null,
            "overflow_y": null,
            "padding": null,
            "right": null,
            "top": null,
            "visibility": null,
            "width": null
          }
        },
        "16ed18a5ba424c7e8f0a6e3276095e2d": {
          "model_module": "@jupyter-widgets/controls",
          "model_name": "DescriptionStyleModel",
          "model_module_version": "1.5.0",
          "state": {
            "_model_module": "@jupyter-widgets/controls",
            "_model_module_version": "1.5.0",
            "_model_name": "DescriptionStyleModel",
            "_view_count": null,
            "_view_module": "@jupyter-widgets/base",
            "_view_module_version": "1.2.0",
            "_view_name": "StyleView",
            "description_width": ""
          }
        },
        "cf4b21c360a1458e89049accf040a3cf": {
          "model_module": "@jupyter-widgets/base",
          "model_name": "LayoutModel",
          "model_module_version": "1.2.0",
          "state": {
            "_model_module": "@jupyter-widgets/base",
            "_model_module_version": "1.2.0",
            "_model_name": "LayoutModel",
            "_view_count": null,
            "_view_module": "@jupyter-widgets/base",
            "_view_module_version": "1.2.0",
            "_view_name": "LayoutView",
            "align_content": null,
            "align_items": null,
            "align_self": null,
            "border": null,
            "bottom": null,
            "display": null,
            "flex": null,
            "flex_flow": null,
            "grid_area": null,
            "grid_auto_columns": null,
            "grid_auto_flow": null,
            "grid_auto_rows": null,
            "grid_column": null,
            "grid_gap": null,
            "grid_row": null,
            "grid_template_areas": null,
            "grid_template_columns": null,
            "grid_template_rows": null,
            "height": null,
            "justify_content": null,
            "justify_items": null,
            "left": null,
            "margin": null,
            "max_height": null,
            "max_width": null,
            "min_height": null,
            "min_width": null,
            "object_fit": null,
            "object_position": null,
            "order": null,
            "overflow": null,
            "overflow_x": null,
            "overflow_y": null,
            "padding": null,
            "right": null,
            "top": null,
            "visibility": null,
            "width": null
          }
        },
        "1868107990b448bc8218d1999027ab67": {
          "model_module": "@jupyter-widgets/controls",
          "model_name": "ProgressStyleModel",
          "model_module_version": "1.5.0",
          "state": {
            "_model_module": "@jupyter-widgets/controls",
            "_model_module_version": "1.5.0",
            "_model_name": "ProgressStyleModel",
            "_view_count": null,
            "_view_module": "@jupyter-widgets/base",
            "_view_module_version": "1.2.0",
            "_view_name": "StyleView",
            "bar_color": null,
            "description_width": ""
          }
        },
        "04be4061b66140ce931e725a5c48114a": {
          "model_module": "@jupyter-widgets/base",
          "model_name": "LayoutModel",
          "model_module_version": "1.2.0",
          "state": {
            "_model_module": "@jupyter-widgets/base",
            "_model_module_version": "1.2.0",
            "_model_name": "LayoutModel",
            "_view_count": null,
            "_view_module": "@jupyter-widgets/base",
            "_view_module_version": "1.2.0",
            "_view_name": "LayoutView",
            "align_content": null,
            "align_items": null,
            "align_self": null,
            "border": null,
            "bottom": null,
            "display": null,
            "flex": null,
            "flex_flow": null,
            "grid_area": null,
            "grid_auto_columns": null,
            "grid_auto_flow": null,
            "grid_auto_rows": null,
            "grid_column": null,
            "grid_gap": null,
            "grid_row": null,
            "grid_template_areas": null,
            "grid_template_columns": null,
            "grid_template_rows": null,
            "height": null,
            "justify_content": null,
            "justify_items": null,
            "left": null,
            "margin": null,
            "max_height": null,
            "max_width": null,
            "min_height": null,
            "min_width": null,
            "object_fit": null,
            "object_position": null,
            "order": null,
            "overflow": null,
            "overflow_x": null,
            "overflow_y": null,
            "padding": null,
            "right": null,
            "top": null,
            "visibility": null,
            "width": null
          }
        },
        "d28f564ccc5f414c9057a50efeac06e6": {
          "model_module": "@jupyter-widgets/controls",
          "model_name": "DescriptionStyleModel",
          "model_module_version": "1.5.0",
          "state": {
            "_model_module": "@jupyter-widgets/controls",
            "_model_module_version": "1.5.0",
            "_model_name": "DescriptionStyleModel",
            "_view_count": null,
            "_view_module": "@jupyter-widgets/base",
            "_view_module_version": "1.2.0",
            "_view_name": "StyleView",
            "description_width": ""
          }
        },
        "5e984f05621e41bc88567a9c750ff152": {
          "model_module": "@jupyter-widgets/controls",
          "model_name": "HBoxModel",
          "model_module_version": "1.5.0",
          "state": {
            "_dom_classes": [],
            "_model_module": "@jupyter-widgets/controls",
            "_model_module_version": "1.5.0",
            "_model_name": "HBoxModel",
            "_view_count": null,
            "_view_module": "@jupyter-widgets/controls",
            "_view_module_version": "1.5.0",
            "_view_name": "HBoxView",
            "box_style": "",
            "children": [
              "IPY_MODEL_79a10a8b5f4540b5b37c64c213a75e70",
              "IPY_MODEL_ccf8bfc532124b8eba0a02bfa0403cad",
              "IPY_MODEL_a22d0102005d41eeb53abb47e7f20b59"
            ],
            "layout": "IPY_MODEL_a3c68c842d0e49b4bfd5a2f51830ad04"
          }
        },
        "79a10a8b5f4540b5b37c64c213a75e70": {
          "model_module": "@jupyter-widgets/controls",
          "model_name": "HTMLModel",
          "model_module_version": "1.5.0",
          "state": {
            "_dom_classes": [],
            "_model_module": "@jupyter-widgets/controls",
            "_model_module_version": "1.5.0",
            "_model_name": "HTMLModel",
            "_view_count": null,
            "_view_module": "@jupyter-widgets/controls",
            "_view_module_version": "1.5.0",
            "_view_name": "HTMLView",
            "description": "",
            "description_tooltip": null,
            "layout": "IPY_MODEL_4691fd4e4708427aa9974e4bd596d6c3",
            "placeholder": "​",
            "style": "IPY_MODEL_8faafe1f38694eac9b0cd14339b412e4",
            "value": "Map:  23%"
          }
        },
        "ccf8bfc532124b8eba0a02bfa0403cad": {
          "model_module": "@jupyter-widgets/controls",
          "model_name": "FloatProgressModel",
          "model_module_version": "1.5.0",
          "state": {
            "_dom_classes": [],
            "_model_module": "@jupyter-widgets/controls",
            "_model_module_version": "1.5.0",
            "_model_name": "FloatProgressModel",
            "_view_count": null,
            "_view_module": "@jupyter-widgets/controls",
            "_view_module_version": "1.5.0",
            "_view_name": "ProgressView",
            "bar_style": "",
            "description": "",
            "description_tooltip": null,
            "layout": "IPY_MODEL_657c7ca12161405d93f16206115d16ec",
            "max": 128,
            "min": 0,
            "orientation": "horizontal",
            "style": "IPY_MODEL_320c420cc7b8420e8f12b3a823c0f678",
            "value": 128
          }
        },
        "a22d0102005d41eeb53abb47e7f20b59": {
          "model_module": "@jupyter-widgets/controls",
          "model_name": "HTMLModel",
          "model_module_version": "1.5.0",
          "state": {
            "_dom_classes": [],
            "_model_module": "@jupyter-widgets/controls",
            "_model_module_version": "1.5.0",
            "_model_name": "HTMLModel",
            "_view_count": null,
            "_view_module": "@jupyter-widgets/controls",
            "_view_module_version": "1.5.0",
            "_view_name": "HTMLView",
            "description": "",
            "description_tooltip": null,
            "layout": "IPY_MODEL_d1fab0657c204d2f85c7cbb51770c117",
            "placeholder": "​",
            "style": "IPY_MODEL_d2ceb97a1747427e95ab06213dc8330d",
            "value": " 29/128 [00:00&lt;00:00, 273.28 examples/s]"
          }
        },
        "a3c68c842d0e49b4bfd5a2f51830ad04": {
          "model_module": "@jupyter-widgets/base",
          "model_name": "LayoutModel",
          "model_module_version": "1.2.0",
          "state": {
            "_model_module": "@jupyter-widgets/base",
            "_model_module_version": "1.2.0",
            "_model_name": "LayoutModel",
            "_view_count": null,
            "_view_module": "@jupyter-widgets/base",
            "_view_module_version": "1.2.0",
            "_view_name": "LayoutView",
            "align_content": null,
            "align_items": null,
            "align_self": null,
            "border": null,
            "bottom": null,
            "display": null,
            "flex": null,
            "flex_flow": null,
            "grid_area": null,
            "grid_auto_columns": null,
            "grid_auto_flow": null,
            "grid_auto_rows": null,
            "grid_column": null,
            "grid_gap": null,
            "grid_row": null,
            "grid_template_areas": null,
            "grid_template_columns": null,
            "grid_template_rows": null,
            "height": null,
            "justify_content": null,
            "justify_items": null,
            "left": null,
            "margin": null,
            "max_height": null,
            "max_width": null,
            "min_height": null,
            "min_width": null,
            "object_fit": null,
            "object_position": null,
            "order": null,
            "overflow": null,
            "overflow_x": null,
            "overflow_y": null,
            "padding": null,
            "right": null,
            "top": null,
            "visibility": "hidden",
            "width": null
          }
        },
        "4691fd4e4708427aa9974e4bd596d6c3": {
          "model_module": "@jupyter-widgets/base",
          "model_name": "LayoutModel",
          "model_module_version": "1.2.0",
          "state": {
            "_model_module": "@jupyter-widgets/base",
            "_model_module_version": "1.2.0",
            "_model_name": "LayoutModel",
            "_view_count": null,
            "_view_module": "@jupyter-widgets/base",
            "_view_module_version": "1.2.0",
            "_view_name": "LayoutView",
            "align_content": null,
            "align_items": null,
            "align_self": null,
            "border": null,
            "bottom": null,
            "display": null,
            "flex": null,
            "flex_flow": null,
            "grid_area": null,
            "grid_auto_columns": null,
            "grid_auto_flow": null,
            "grid_auto_rows": null,
            "grid_column": null,
            "grid_gap": null,
            "grid_row": null,
            "grid_template_areas": null,
            "grid_template_columns": null,
            "grid_template_rows": null,
            "height": null,
            "justify_content": null,
            "justify_items": null,
            "left": null,
            "margin": null,
            "max_height": null,
            "max_width": null,
            "min_height": null,
            "min_width": null,
            "object_fit": null,
            "object_position": null,
            "order": null,
            "overflow": null,
            "overflow_x": null,
            "overflow_y": null,
            "padding": null,
            "right": null,
            "top": null,
            "visibility": null,
            "width": null
          }
        },
        "8faafe1f38694eac9b0cd14339b412e4": {
          "model_module": "@jupyter-widgets/controls",
          "model_name": "DescriptionStyleModel",
          "model_module_version": "1.5.0",
          "state": {
            "_model_module": "@jupyter-widgets/controls",
            "_model_module_version": "1.5.0",
            "_model_name": "DescriptionStyleModel",
            "_view_count": null,
            "_view_module": "@jupyter-widgets/base",
            "_view_module_version": "1.2.0",
            "_view_name": "StyleView",
            "description_width": ""
          }
        },
        "657c7ca12161405d93f16206115d16ec": {
          "model_module": "@jupyter-widgets/base",
          "model_name": "LayoutModel",
          "model_module_version": "1.2.0",
          "state": {
            "_model_module": "@jupyter-widgets/base",
            "_model_module_version": "1.2.0",
            "_model_name": "LayoutModel",
            "_view_count": null,
            "_view_module": "@jupyter-widgets/base",
            "_view_module_version": "1.2.0",
            "_view_name": "LayoutView",
            "align_content": null,
            "align_items": null,
            "align_self": null,
            "border": null,
            "bottom": null,
            "display": null,
            "flex": null,
            "flex_flow": null,
            "grid_area": null,
            "grid_auto_columns": null,
            "grid_auto_flow": null,
            "grid_auto_rows": null,
            "grid_column": null,
            "grid_gap": null,
            "grid_row": null,
            "grid_template_areas": null,
            "grid_template_columns": null,
            "grid_template_rows": null,
            "height": null,
            "justify_content": null,
            "justify_items": null,
            "left": null,
            "margin": null,
            "max_height": null,
            "max_width": null,
            "min_height": null,
            "min_width": null,
            "object_fit": null,
            "object_position": null,
            "order": null,
            "overflow": null,
            "overflow_x": null,
            "overflow_y": null,
            "padding": null,
            "right": null,
            "top": null,
            "visibility": null,
            "width": null
          }
        },
        "320c420cc7b8420e8f12b3a823c0f678": {
          "model_module": "@jupyter-widgets/controls",
          "model_name": "ProgressStyleModel",
          "model_module_version": "1.5.0",
          "state": {
            "_model_module": "@jupyter-widgets/controls",
            "_model_module_version": "1.5.0",
            "_model_name": "ProgressStyleModel",
            "_view_count": null,
            "_view_module": "@jupyter-widgets/base",
            "_view_module_version": "1.2.0",
            "_view_name": "StyleView",
            "bar_color": null,
            "description_width": ""
          }
        },
        "d1fab0657c204d2f85c7cbb51770c117": {
          "model_module": "@jupyter-widgets/base",
          "model_name": "LayoutModel",
          "model_module_version": "1.2.0",
          "state": {
            "_model_module": "@jupyter-widgets/base",
            "_model_module_version": "1.2.0",
            "_model_name": "LayoutModel",
            "_view_count": null,
            "_view_module": "@jupyter-widgets/base",
            "_view_module_version": "1.2.0",
            "_view_name": "LayoutView",
            "align_content": null,
            "align_items": null,
            "align_self": null,
            "border": null,
            "bottom": null,
            "display": null,
            "flex": null,
            "flex_flow": null,
            "grid_area": null,
            "grid_auto_columns": null,
            "grid_auto_flow": null,
            "grid_auto_rows": null,
            "grid_column": null,
            "grid_gap": null,
            "grid_row": null,
            "grid_template_areas": null,
            "grid_template_columns": null,
            "grid_template_rows": null,
            "height": null,
            "justify_content": null,
            "justify_items": null,
            "left": null,
            "margin": null,
            "max_height": null,
            "max_width": null,
            "min_height": null,
            "min_width": null,
            "object_fit": null,
            "object_position": null,
            "order": null,
            "overflow": null,
            "overflow_x": null,
            "overflow_y": null,
            "padding": null,
            "right": null,
            "top": null,
            "visibility": null,
            "width": null
          }
        },
        "d2ceb97a1747427e95ab06213dc8330d": {
          "model_module": "@jupyter-widgets/controls",
          "model_name": "DescriptionStyleModel",
          "model_module_version": "1.5.0",
          "state": {
            "_model_module": "@jupyter-widgets/controls",
            "_model_module_version": "1.5.0",
            "_model_name": "DescriptionStyleModel",
            "_view_count": null,
            "_view_module": "@jupyter-widgets/base",
            "_view_module_version": "1.2.0",
            "_view_name": "StyleView",
            "description_width": ""
          }
        },
        "db121e1c12864c36b086bf8a3c2dd129": {
          "model_module": "@jupyter-widgets/controls",
          "model_name": "HBoxModel",
          "model_module_version": "1.5.0",
          "state": {
            "_dom_classes": [],
            "_model_module": "@jupyter-widgets/controls",
            "_model_module_version": "1.5.0",
            "_model_name": "HBoxModel",
            "_view_count": null,
            "_view_module": "@jupyter-widgets/controls",
            "_view_module_version": "1.5.0",
            "_view_name": "HBoxView",
            "box_style": "",
            "children": [
              "IPY_MODEL_02775ffe0cd541dbb1064c236e52bfed",
              "IPY_MODEL_a2401f63f45e4fcfa532e7c5553bc829",
              "IPY_MODEL_13ce404b80d14548b2229b772defccd4"
            ],
            "layout": "IPY_MODEL_c95cda5a119d41519436fcc2404a8653"
          }
        },
        "02775ffe0cd541dbb1064c236e52bfed": {
          "model_module": "@jupyter-widgets/controls",
          "model_name": "HTMLModel",
          "model_module_version": "1.5.0",
          "state": {
            "_dom_classes": [],
            "_model_module": "@jupyter-widgets/controls",
            "_model_module_version": "1.5.0",
            "_model_name": "HTMLModel",
            "_view_count": null,
            "_view_module": "@jupyter-widgets/controls",
            "_view_module_version": "1.5.0",
            "_view_name": "HTMLView",
            "description": "",
            "description_tooltip": null,
            "layout": "IPY_MODEL_011fcddeb6484490a6768398df44f0b3",
            "placeholder": "​",
            "style": "IPY_MODEL_aeb2a6a88543429b8638373ea1c88f9a",
            "value": "Downloading pytorch_model.bin: 100%"
          }
        },
        "a2401f63f45e4fcfa532e7c5553bc829": {
          "model_module": "@jupyter-widgets/controls",
          "model_name": "FloatProgressModel",
          "model_module_version": "1.5.0",
          "state": {
            "_dom_classes": [],
            "_model_module": "@jupyter-widgets/controls",
            "_model_module_version": "1.5.0",
            "_model_name": "FloatProgressModel",
            "_view_count": null,
            "_view_module": "@jupyter-widgets/controls",
            "_view_module_version": "1.5.0",
            "_view_name": "ProgressView",
            "bar_style": "success",
            "description": "",
            "description_tooltip": null,
            "layout": "IPY_MODEL_77348389780244538714dd26a5db509d",
            "max": 440473133,
            "min": 0,
            "orientation": "horizontal",
            "style": "IPY_MODEL_42442d0055e14830bcac69cb909d48f0",
            "value": 440473133
          }
        },
        "13ce404b80d14548b2229b772defccd4": {
          "model_module": "@jupyter-widgets/controls",
          "model_name": "HTMLModel",
          "model_module_version": "1.5.0",
          "state": {
            "_dom_classes": [],
            "_model_module": "@jupyter-widgets/controls",
            "_model_module_version": "1.5.0",
            "_model_name": "HTMLModel",
            "_view_count": null,
            "_view_module": "@jupyter-widgets/controls",
            "_view_module_version": "1.5.0",
            "_view_name": "HTMLView",
            "description": "",
            "description_tooltip": null,
            "layout": "IPY_MODEL_b357aba80b7f42fb842ab69035608226",
            "placeholder": "​",
            "style": "IPY_MODEL_6b65329c95af4c8981f7d85cbaf40707",
            "value": " 440M/440M [00:04&lt;00:00, 92.7MB/s]"
          }
        },
        "c95cda5a119d41519436fcc2404a8653": {
          "model_module": "@jupyter-widgets/base",
          "model_name": "LayoutModel",
          "model_module_version": "1.2.0",
          "state": {
            "_model_module": "@jupyter-widgets/base",
            "_model_module_version": "1.2.0",
            "_model_name": "LayoutModel",
            "_view_count": null,
            "_view_module": "@jupyter-widgets/base",
            "_view_module_version": "1.2.0",
            "_view_name": "LayoutView",
            "align_content": null,
            "align_items": null,
            "align_self": null,
            "border": null,
            "bottom": null,
            "display": null,
            "flex": null,
            "flex_flow": null,
            "grid_area": null,
            "grid_auto_columns": null,
            "grid_auto_flow": null,
            "grid_auto_rows": null,
            "grid_column": null,
            "grid_gap": null,
            "grid_row": null,
            "grid_template_areas": null,
            "grid_template_columns": null,
            "grid_template_rows": null,
            "height": null,
            "justify_content": null,
            "justify_items": null,
            "left": null,
            "margin": null,
            "max_height": null,
            "max_width": null,
            "min_height": null,
            "min_width": null,
            "object_fit": null,
            "object_position": null,
            "order": null,
            "overflow": null,
            "overflow_x": null,
            "overflow_y": null,
            "padding": null,
            "right": null,
            "top": null,
            "visibility": null,
            "width": null
          }
        },
        "011fcddeb6484490a6768398df44f0b3": {
          "model_module": "@jupyter-widgets/base",
          "model_name": "LayoutModel",
          "model_module_version": "1.2.0",
          "state": {
            "_model_module": "@jupyter-widgets/base",
            "_model_module_version": "1.2.0",
            "_model_name": "LayoutModel",
            "_view_count": null,
            "_view_module": "@jupyter-widgets/base",
            "_view_module_version": "1.2.0",
            "_view_name": "LayoutView",
            "align_content": null,
            "align_items": null,
            "align_self": null,
            "border": null,
            "bottom": null,
            "display": null,
            "flex": null,
            "flex_flow": null,
            "grid_area": null,
            "grid_auto_columns": null,
            "grid_auto_flow": null,
            "grid_auto_rows": null,
            "grid_column": null,
            "grid_gap": null,
            "grid_row": null,
            "grid_template_areas": null,
            "grid_template_columns": null,
            "grid_template_rows": null,
            "height": null,
            "justify_content": null,
            "justify_items": null,
            "left": null,
            "margin": null,
            "max_height": null,
            "max_width": null,
            "min_height": null,
            "min_width": null,
            "object_fit": null,
            "object_position": null,
            "order": null,
            "overflow": null,
            "overflow_x": null,
            "overflow_y": null,
            "padding": null,
            "right": null,
            "top": null,
            "visibility": null,
            "width": null
          }
        },
        "aeb2a6a88543429b8638373ea1c88f9a": {
          "model_module": "@jupyter-widgets/controls",
          "model_name": "DescriptionStyleModel",
          "model_module_version": "1.5.0",
          "state": {
            "_model_module": "@jupyter-widgets/controls",
            "_model_module_version": "1.5.0",
            "_model_name": "DescriptionStyleModel",
            "_view_count": null,
            "_view_module": "@jupyter-widgets/base",
            "_view_module_version": "1.2.0",
            "_view_name": "StyleView",
            "description_width": ""
          }
        },
        "77348389780244538714dd26a5db509d": {
          "model_module": "@jupyter-widgets/base",
          "model_name": "LayoutModel",
          "model_module_version": "1.2.0",
          "state": {
            "_model_module": "@jupyter-widgets/base",
            "_model_module_version": "1.2.0",
            "_model_name": "LayoutModel",
            "_view_count": null,
            "_view_module": "@jupyter-widgets/base",
            "_view_module_version": "1.2.0",
            "_view_name": "LayoutView",
            "align_content": null,
            "align_items": null,
            "align_self": null,
            "border": null,
            "bottom": null,
            "display": null,
            "flex": null,
            "flex_flow": null,
            "grid_area": null,
            "grid_auto_columns": null,
            "grid_auto_flow": null,
            "grid_auto_rows": null,
            "grid_column": null,
            "grid_gap": null,
            "grid_row": null,
            "grid_template_areas": null,
            "grid_template_columns": null,
            "grid_template_rows": null,
            "height": null,
            "justify_content": null,
            "justify_items": null,
            "left": null,
            "margin": null,
            "max_height": null,
            "max_width": null,
            "min_height": null,
            "min_width": null,
            "object_fit": null,
            "object_position": null,
            "order": null,
            "overflow": null,
            "overflow_x": null,
            "overflow_y": null,
            "padding": null,
            "right": null,
            "top": null,
            "visibility": null,
            "width": null
          }
        },
        "42442d0055e14830bcac69cb909d48f0": {
          "model_module": "@jupyter-widgets/controls",
          "model_name": "ProgressStyleModel",
          "model_module_version": "1.5.0",
          "state": {
            "_model_module": "@jupyter-widgets/controls",
            "_model_module_version": "1.5.0",
            "_model_name": "ProgressStyleModel",
            "_view_count": null,
            "_view_module": "@jupyter-widgets/base",
            "_view_module_version": "1.2.0",
            "_view_name": "StyleView",
            "bar_color": null,
            "description_width": ""
          }
        },
        "b357aba80b7f42fb842ab69035608226": {
          "model_module": "@jupyter-widgets/base",
          "model_name": "LayoutModel",
          "model_module_version": "1.2.0",
          "state": {
            "_model_module": "@jupyter-widgets/base",
            "_model_module_version": "1.2.0",
            "_model_name": "LayoutModel",
            "_view_count": null,
            "_view_module": "@jupyter-widgets/base",
            "_view_module_version": "1.2.0",
            "_view_name": "LayoutView",
            "align_content": null,
            "align_items": null,
            "align_self": null,
            "border": null,
            "bottom": null,
            "display": null,
            "flex": null,
            "flex_flow": null,
            "grid_area": null,
            "grid_auto_columns": null,
            "grid_auto_flow": null,
            "grid_auto_rows": null,
            "grid_column": null,
            "grid_gap": null,
            "grid_row": null,
            "grid_template_areas": null,
            "grid_template_columns": null,
            "grid_template_rows": null,
            "height": null,
            "justify_content": null,
            "justify_items": null,
            "left": null,
            "margin": null,
            "max_height": null,
            "max_width": null,
            "min_height": null,
            "min_width": null,
            "object_fit": null,
            "object_position": null,
            "order": null,
            "overflow": null,
            "overflow_x": null,
            "overflow_y": null,
            "padding": null,
            "right": null,
            "top": null,
            "visibility": null,
            "width": null
          }
        },
        "6b65329c95af4c8981f7d85cbaf40707": {
          "model_module": "@jupyter-widgets/controls",
          "model_name": "DescriptionStyleModel",
          "model_module_version": "1.5.0",
          "state": {
            "_model_module": "@jupyter-widgets/controls",
            "_model_module_version": "1.5.0",
            "_model_name": "DescriptionStyleModel",
            "_view_count": null,
            "_view_module": "@jupyter-widgets/base",
            "_view_module_version": "1.2.0",
            "_view_name": "StyleView",
            "description_width": ""
          }
        },
        "cab980c516e24dfaad801e2ec5593f17": {
          "model_module": "@jupyter-widgets/controls",
          "model_name": "HBoxModel",
          "model_module_version": "1.5.0",
          "state": {
            "_dom_classes": [],
            "_model_module": "@jupyter-widgets/controls",
            "_model_module_version": "1.5.0",
            "_model_name": "HBoxModel",
            "_view_count": null,
            "_view_module": "@jupyter-widgets/controls",
            "_view_module_version": "1.5.0",
            "_view_name": "HBoxView",
            "box_style": "",
            "children": [
              "IPY_MODEL_c81f43f59b6942fb9cc68c20ceadbe13",
              "IPY_MODEL_97b3ea0d12b84abeae49af1e77df60ce",
              "IPY_MODEL_025e86f9043e42fa9ee3ded93f56c9ac"
            ],
            "layout": "IPY_MODEL_eddb9f33b2cb48e5bebb912271f0b9be"
          }
        },
        "c81f43f59b6942fb9cc68c20ceadbe13": {
          "model_module": "@jupyter-widgets/controls",
          "model_name": "HTMLModel",
          "model_module_version": "1.5.0",
          "state": {
            "_dom_classes": [],
            "_model_module": "@jupyter-widgets/controls",
            "_model_module_version": "1.5.0",
            "_model_name": "HTMLModel",
            "_view_count": null,
            "_view_module": "@jupyter-widgets/controls",
            "_view_module_version": "1.5.0",
            "_view_name": "HTMLView",
            "description": "",
            "description_tooltip": null,
            "layout": "IPY_MODEL_2584dcf5f44f40daa3db691fd5c4ad97",
            "placeholder": "​",
            "style": "IPY_MODEL_283c8d78ecb244298bb01fdb27bd0d78",
            "value": "Downloading builder script: 100%"
          }
        },
        "97b3ea0d12b84abeae49af1e77df60ce": {
          "model_module": "@jupyter-widgets/controls",
          "model_name": "FloatProgressModel",
          "model_module_version": "1.5.0",
          "state": {
            "_dom_classes": [],
            "_model_module": "@jupyter-widgets/controls",
            "_model_module_version": "1.5.0",
            "_model_name": "FloatProgressModel",
            "_view_count": null,
            "_view_module": "@jupyter-widgets/controls",
            "_view_module_version": "1.5.0",
            "_view_name": "ProgressView",
            "bar_style": "success",
            "description": "",
            "description_tooltip": null,
            "layout": "IPY_MODEL_44b53f0ce6c1465e807b0d96a93e6a47",
            "max": 4203,
            "min": 0,
            "orientation": "horizontal",
            "style": "IPY_MODEL_083ba77f95aa4adba036777c51e4030f",
            "value": 4203
          }
        },
        "025e86f9043e42fa9ee3ded93f56c9ac": {
          "model_module": "@jupyter-widgets/controls",
          "model_name": "HTMLModel",
          "model_module_version": "1.5.0",
          "state": {
            "_dom_classes": [],
            "_model_module": "@jupyter-widgets/controls",
            "_model_module_version": "1.5.0",
            "_model_name": "HTMLModel",
            "_view_count": null,
            "_view_module": "@jupyter-widgets/controls",
            "_view_module_version": "1.5.0",
            "_view_name": "HTMLView",
            "description": "",
            "description_tooltip": null,
            "layout": "IPY_MODEL_90a7c5ee76a042d59583657addd31628",
            "placeholder": "​",
            "style": "IPY_MODEL_1b668c475e1c45cdaa92b8100aa15fae",
            "value": " 4.20k/4.20k [00:00&lt;00:00, 119kB/s]"
          }
        },
        "eddb9f33b2cb48e5bebb912271f0b9be": {
          "model_module": "@jupyter-widgets/base",
          "model_name": "LayoutModel",
          "model_module_version": "1.2.0",
          "state": {
            "_model_module": "@jupyter-widgets/base",
            "_model_module_version": "1.2.0",
            "_model_name": "LayoutModel",
            "_view_count": null,
            "_view_module": "@jupyter-widgets/base",
            "_view_module_version": "1.2.0",
            "_view_name": "LayoutView",
            "align_content": null,
            "align_items": null,
            "align_self": null,
            "border": null,
            "bottom": null,
            "display": null,
            "flex": null,
            "flex_flow": null,
            "grid_area": null,
            "grid_auto_columns": null,
            "grid_auto_flow": null,
            "grid_auto_rows": null,
            "grid_column": null,
            "grid_gap": null,
            "grid_row": null,
            "grid_template_areas": null,
            "grid_template_columns": null,
            "grid_template_rows": null,
            "height": null,
            "justify_content": null,
            "justify_items": null,
            "left": null,
            "margin": null,
            "max_height": null,
            "max_width": null,
            "min_height": null,
            "min_width": null,
            "object_fit": null,
            "object_position": null,
            "order": null,
            "overflow": null,
            "overflow_x": null,
            "overflow_y": null,
            "padding": null,
            "right": null,
            "top": null,
            "visibility": null,
            "width": null
          }
        },
        "2584dcf5f44f40daa3db691fd5c4ad97": {
          "model_module": "@jupyter-widgets/base",
          "model_name": "LayoutModel",
          "model_module_version": "1.2.0",
          "state": {
            "_model_module": "@jupyter-widgets/base",
            "_model_module_version": "1.2.0",
            "_model_name": "LayoutModel",
            "_view_count": null,
            "_view_module": "@jupyter-widgets/base",
            "_view_module_version": "1.2.0",
            "_view_name": "LayoutView",
            "align_content": null,
            "align_items": null,
            "align_self": null,
            "border": null,
            "bottom": null,
            "display": null,
            "flex": null,
            "flex_flow": null,
            "grid_area": null,
            "grid_auto_columns": null,
            "grid_auto_flow": null,
            "grid_auto_rows": null,
            "grid_column": null,
            "grid_gap": null,
            "grid_row": null,
            "grid_template_areas": null,
            "grid_template_columns": null,
            "grid_template_rows": null,
            "height": null,
            "justify_content": null,
            "justify_items": null,
            "left": null,
            "margin": null,
            "max_height": null,
            "max_width": null,
            "min_height": null,
            "min_width": null,
            "object_fit": null,
            "object_position": null,
            "order": null,
            "overflow": null,
            "overflow_x": null,
            "overflow_y": null,
            "padding": null,
            "right": null,
            "top": null,
            "visibility": null,
            "width": null
          }
        },
        "283c8d78ecb244298bb01fdb27bd0d78": {
          "model_module": "@jupyter-widgets/controls",
          "model_name": "DescriptionStyleModel",
          "model_module_version": "1.5.0",
          "state": {
            "_model_module": "@jupyter-widgets/controls",
            "_model_module_version": "1.5.0",
            "_model_name": "DescriptionStyleModel",
            "_view_count": null,
            "_view_module": "@jupyter-widgets/base",
            "_view_module_version": "1.2.0",
            "_view_name": "StyleView",
            "description_width": ""
          }
        },
        "44b53f0ce6c1465e807b0d96a93e6a47": {
          "model_module": "@jupyter-widgets/base",
          "model_name": "LayoutModel",
          "model_module_version": "1.2.0",
          "state": {
            "_model_module": "@jupyter-widgets/base",
            "_model_module_version": "1.2.0",
            "_model_name": "LayoutModel",
            "_view_count": null,
            "_view_module": "@jupyter-widgets/base",
            "_view_module_version": "1.2.0",
            "_view_name": "LayoutView",
            "align_content": null,
            "align_items": null,
            "align_self": null,
            "border": null,
            "bottom": null,
            "display": null,
            "flex": null,
            "flex_flow": null,
            "grid_area": null,
            "grid_auto_columns": null,
            "grid_auto_flow": null,
            "grid_auto_rows": null,
            "grid_column": null,
            "grid_gap": null,
            "grid_row": null,
            "grid_template_areas": null,
            "grid_template_columns": null,
            "grid_template_rows": null,
            "height": null,
            "justify_content": null,
            "justify_items": null,
            "left": null,
            "margin": null,
            "max_height": null,
            "max_width": null,
            "min_height": null,
            "min_width": null,
            "object_fit": null,
            "object_position": null,
            "order": null,
            "overflow": null,
            "overflow_x": null,
            "overflow_y": null,
            "padding": null,
            "right": null,
            "top": null,
            "visibility": null,
            "width": null
          }
        },
        "083ba77f95aa4adba036777c51e4030f": {
          "model_module": "@jupyter-widgets/controls",
          "model_name": "ProgressStyleModel",
          "model_module_version": "1.5.0",
          "state": {
            "_model_module": "@jupyter-widgets/controls",
            "_model_module_version": "1.5.0",
            "_model_name": "ProgressStyleModel",
            "_view_count": null,
            "_view_module": "@jupyter-widgets/base",
            "_view_module_version": "1.2.0",
            "_view_name": "StyleView",
            "bar_color": null,
            "description_width": ""
          }
        },
        "90a7c5ee76a042d59583657addd31628": {
          "model_module": "@jupyter-widgets/base",
          "model_name": "LayoutModel",
          "model_module_version": "1.2.0",
          "state": {
            "_model_module": "@jupyter-widgets/base",
            "_model_module_version": "1.2.0",
            "_model_name": "LayoutModel",
            "_view_count": null,
            "_view_module": "@jupyter-widgets/base",
            "_view_module_version": "1.2.0",
            "_view_name": "LayoutView",
            "align_content": null,
            "align_items": null,
            "align_self": null,
            "border": null,
            "bottom": null,
            "display": null,
            "flex": null,
            "flex_flow": null,
            "grid_area": null,
            "grid_auto_columns": null,
            "grid_auto_flow": null,
            "grid_auto_rows": null,
            "grid_column": null,
            "grid_gap": null,
            "grid_row": null,
            "grid_template_areas": null,
            "grid_template_columns": null,
            "grid_template_rows": null,
            "height": null,
            "justify_content": null,
            "justify_items": null,
            "left": null,
            "margin": null,
            "max_height": null,
            "max_width": null,
            "min_height": null,
            "min_width": null,
            "object_fit": null,
            "object_position": null,
            "order": null,
            "overflow": null,
            "overflow_x": null,
            "overflow_y": null,
            "padding": null,
            "right": null,
            "top": null,
            "visibility": null,
            "width": null
          }
        },
        "1b668c475e1c45cdaa92b8100aa15fae": {
          "model_module": "@jupyter-widgets/controls",
          "model_name": "DescriptionStyleModel",
          "model_module_version": "1.5.0",
          "state": {
            "_model_module": "@jupyter-widgets/controls",
            "_model_module_version": "1.5.0",
            "_model_name": "DescriptionStyleModel",
            "_view_count": null,
            "_view_module": "@jupyter-widgets/base",
            "_view_module_version": "1.2.0",
            "_view_name": "StyleView",
            "description_width": ""
          }
        },
        "9fb8740330364b939565466ee07f5953": {
          "model_module": "@jupyter-widgets/controls",
          "model_name": "HBoxModel",
          "model_module_version": "1.5.0",
          "state": {
            "_dom_classes": [],
            "_model_module": "@jupyter-widgets/controls",
            "_model_module_version": "1.5.0",
            "_model_name": "HBoxModel",
            "_view_count": null,
            "_view_module": "@jupyter-widgets/controls",
            "_view_module_version": "1.5.0",
            "_view_name": "HBoxView",
            "box_style": "",
            "children": [
              "IPY_MODEL_738607ff88c04add99000d877009a55a",
              "IPY_MODEL_3c832d3f283b4963bf43741433245c08",
              "IPY_MODEL_ec992d0f82ba4de2b7e26b78a773d637"
            ],
            "layout": "IPY_MODEL_d931d429a4dd42e3ba80457317b778a7"
          }
        },
        "738607ff88c04add99000d877009a55a": {
          "model_module": "@jupyter-widgets/controls",
          "model_name": "HTMLModel",
          "model_module_version": "1.5.0",
          "state": {
            "_dom_classes": [],
            "_model_module": "@jupyter-widgets/controls",
            "_model_module_version": "1.5.0",
            "_model_name": "HTMLModel",
            "_view_count": null,
            "_view_module": "@jupyter-widgets/controls",
            "_view_module_version": "1.5.0",
            "_view_name": "HTMLView",
            "description": "",
            "description_tooltip": null,
            "layout": "IPY_MODEL_cf49f45641654d28b980d808361b383d",
            "placeholder": "​",
            "style": "IPY_MODEL_a8b482d8d189449fa7ebaca896db9f89",
            "value": "Downloading builder script: 100%"
          }
        },
        "3c832d3f283b4963bf43741433245c08": {
          "model_module": "@jupyter-widgets/controls",
          "model_name": "FloatProgressModel",
          "model_module_version": "1.5.0",
          "state": {
            "_dom_classes": [],
            "_model_module": "@jupyter-widgets/controls",
            "_model_module_version": "1.5.0",
            "_model_name": "FloatProgressModel",
            "_view_count": null,
            "_view_module": "@jupyter-widgets/controls",
            "_view_module_version": "1.5.0",
            "_view_name": "ProgressView",
            "bar_style": "success",
            "description": "",
            "description_tooltip": null,
            "layout": "IPY_MODEL_5dbaa1e0e02a4b76abd477331463b524",
            "max": 6839,
            "min": 0,
            "orientation": "horizontal",
            "style": "IPY_MODEL_73004f37cad64cc98c9fb4c1748d2a24",
            "value": 6839
          }
        },
        "ec992d0f82ba4de2b7e26b78a773d637": {
          "model_module": "@jupyter-widgets/controls",
          "model_name": "HTMLModel",
          "model_module_version": "1.5.0",
          "state": {
            "_dom_classes": [],
            "_model_module": "@jupyter-widgets/controls",
            "_model_module_version": "1.5.0",
            "_model_name": "HTMLModel",
            "_view_count": null,
            "_view_module": "@jupyter-widgets/controls",
            "_view_module_version": "1.5.0",
            "_view_name": "HTMLView",
            "description": "",
            "description_tooltip": null,
            "layout": "IPY_MODEL_1dca855132434b52ad6b6f2d0edd1810",
            "placeholder": "​",
            "style": "IPY_MODEL_80117d34bfe94409876b4c156bbec3a2",
            "value": " 6.84k/6.84k [00:00&lt;00:00, 270kB/s]"
          }
        },
        "d931d429a4dd42e3ba80457317b778a7": {
          "model_module": "@jupyter-widgets/base",
          "model_name": "LayoutModel",
          "model_module_version": "1.2.0",
          "state": {
            "_model_module": "@jupyter-widgets/base",
            "_model_module_version": "1.2.0",
            "_model_name": "LayoutModel",
            "_view_count": null,
            "_view_module": "@jupyter-widgets/base",
            "_view_module_version": "1.2.0",
            "_view_name": "LayoutView",
            "align_content": null,
            "align_items": null,
            "align_self": null,
            "border": null,
            "bottom": null,
            "display": null,
            "flex": null,
            "flex_flow": null,
            "grid_area": null,
            "grid_auto_columns": null,
            "grid_auto_flow": null,
            "grid_auto_rows": null,
            "grid_column": null,
            "grid_gap": null,
            "grid_row": null,
            "grid_template_areas": null,
            "grid_template_columns": null,
            "grid_template_rows": null,
            "height": null,
            "justify_content": null,
            "justify_items": null,
            "left": null,
            "margin": null,
            "max_height": null,
            "max_width": null,
            "min_height": null,
            "min_width": null,
            "object_fit": null,
            "object_position": null,
            "order": null,
            "overflow": null,
            "overflow_x": null,
            "overflow_y": null,
            "padding": null,
            "right": null,
            "top": null,
            "visibility": null,
            "width": null
          }
        },
        "cf49f45641654d28b980d808361b383d": {
          "model_module": "@jupyter-widgets/base",
          "model_name": "LayoutModel",
          "model_module_version": "1.2.0",
          "state": {
            "_model_module": "@jupyter-widgets/base",
            "_model_module_version": "1.2.0",
            "_model_name": "LayoutModel",
            "_view_count": null,
            "_view_module": "@jupyter-widgets/base",
            "_view_module_version": "1.2.0",
            "_view_name": "LayoutView",
            "align_content": null,
            "align_items": null,
            "align_self": null,
            "border": null,
            "bottom": null,
            "display": null,
            "flex": null,
            "flex_flow": null,
            "grid_area": null,
            "grid_auto_columns": null,
            "grid_auto_flow": null,
            "grid_auto_rows": null,
            "grid_column": null,
            "grid_gap": null,
            "grid_row": null,
            "grid_template_areas": null,
            "grid_template_columns": null,
            "grid_template_rows": null,
            "height": null,
            "justify_content": null,
            "justify_items": null,
            "left": null,
            "margin": null,
            "max_height": null,
            "max_width": null,
            "min_height": null,
            "min_width": null,
            "object_fit": null,
            "object_position": null,
            "order": null,
            "overflow": null,
            "overflow_x": null,
            "overflow_y": null,
            "padding": null,
            "right": null,
            "top": null,
            "visibility": null,
            "width": null
          }
        },
        "a8b482d8d189449fa7ebaca896db9f89": {
          "model_module": "@jupyter-widgets/controls",
          "model_name": "DescriptionStyleModel",
          "model_module_version": "1.5.0",
          "state": {
            "_model_module": "@jupyter-widgets/controls",
            "_model_module_version": "1.5.0",
            "_model_name": "DescriptionStyleModel",
            "_view_count": null,
            "_view_module": "@jupyter-widgets/base",
            "_view_module_version": "1.2.0",
            "_view_name": "StyleView",
            "description_width": ""
          }
        },
        "5dbaa1e0e02a4b76abd477331463b524": {
          "model_module": "@jupyter-widgets/base",
          "model_name": "LayoutModel",
          "model_module_version": "1.2.0",
          "state": {
            "_model_module": "@jupyter-widgets/base",
            "_model_module_version": "1.2.0",
            "_model_name": "LayoutModel",
            "_view_count": null,
            "_view_module": "@jupyter-widgets/base",
            "_view_module_version": "1.2.0",
            "_view_name": "LayoutView",
            "align_content": null,
            "align_items": null,
            "align_self": null,
            "border": null,
            "bottom": null,
            "display": null,
            "flex": null,
            "flex_flow": null,
            "grid_area": null,
            "grid_auto_columns": null,
            "grid_auto_flow": null,
            "grid_auto_rows": null,
            "grid_column": null,
            "grid_gap": null,
            "grid_row": null,
            "grid_template_areas": null,
            "grid_template_columns": null,
            "grid_template_rows": null,
            "height": null,
            "justify_content": null,
            "justify_items": null,
            "left": null,
            "margin": null,
            "max_height": null,
            "max_width": null,
            "min_height": null,
            "min_width": null,
            "object_fit": null,
            "object_position": null,
            "order": null,
            "overflow": null,
            "overflow_x": null,
            "overflow_y": null,
            "padding": null,
            "right": null,
            "top": null,
            "visibility": null,
            "width": null
          }
        },
        "73004f37cad64cc98c9fb4c1748d2a24": {
          "model_module": "@jupyter-widgets/controls",
          "model_name": "ProgressStyleModel",
          "model_module_version": "1.5.0",
          "state": {
            "_model_module": "@jupyter-widgets/controls",
            "_model_module_version": "1.5.0",
            "_model_name": "ProgressStyleModel",
            "_view_count": null,
            "_view_module": "@jupyter-widgets/base",
            "_view_module_version": "1.2.0",
            "_view_name": "StyleView",
            "bar_color": null,
            "description_width": ""
          }
        },
        "1dca855132434b52ad6b6f2d0edd1810": {
          "model_module": "@jupyter-widgets/base",
          "model_name": "LayoutModel",
          "model_module_version": "1.2.0",
          "state": {
            "_model_module": "@jupyter-widgets/base",
            "_model_module_version": "1.2.0",
            "_model_name": "LayoutModel",
            "_view_count": null,
            "_view_module": "@jupyter-widgets/base",
            "_view_module_version": "1.2.0",
            "_view_name": "LayoutView",
            "align_content": null,
            "align_items": null,
            "align_self": null,
            "border": null,
            "bottom": null,
            "display": null,
            "flex": null,
            "flex_flow": null,
            "grid_area": null,
            "grid_auto_columns": null,
            "grid_auto_flow": null,
            "grid_auto_rows": null,
            "grid_column": null,
            "grid_gap": null,
            "grid_row": null,
            "grid_template_areas": null,
            "grid_template_columns": null,
            "grid_template_rows": null,
            "height": null,
            "justify_content": null,
            "justify_items": null,
            "left": null,
            "margin": null,
            "max_height": null,
            "max_width": null,
            "min_height": null,
            "min_width": null,
            "object_fit": null,
            "object_position": null,
            "order": null,
            "overflow": null,
            "overflow_x": null,
            "overflow_y": null,
            "padding": null,
            "right": null,
            "top": null,
            "visibility": null,
            "width": null
          }
        },
        "80117d34bfe94409876b4c156bbec3a2": {
          "model_module": "@jupyter-widgets/controls",
          "model_name": "DescriptionStyleModel",
          "model_module_version": "1.5.0",
          "state": {
            "_model_module": "@jupyter-widgets/controls",
            "_model_module_version": "1.5.0",
            "_model_name": "DescriptionStyleModel",
            "_view_count": null,
            "_view_module": "@jupyter-widgets/base",
            "_view_module_version": "1.2.0",
            "_view_name": "StyleView",
            "description_width": ""
          }
        }
      }
    }
  },
  "nbformat": 4,
  "nbformat_minor": 5
}